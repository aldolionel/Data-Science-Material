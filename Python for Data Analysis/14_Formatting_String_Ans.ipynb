{
  "nbformat": 4,
  "nbformat_minor": 0,
  "metadata": {
    "colab": {
      "name": "14. Formatting String Ans.ipynb",
      "provenance": []
    },
    "kernelspec": {
      "name": "python3",
      "display_name": "Python 3"
    },
    "language_info": {
      "name": "python"
    }
  },
  "cells": [
    {
      "cell_type": "code",
      "metadata": {
        "id": "aZMQ_nXCX6tP"
      },
      "source": [
        "# import pandas, numpy, and load dataset\n",
        "import pandas as pd\n",
        "import numpy as np\n",
        "import matplotlib.pyplot as plt\n",
        "import seaborn as sns"
      ],
      "execution_count": 1,
      "outputs": []
    },
    {
      "cell_type": "markdown",
      "metadata": {
        "id": "Ijk53XLwYA05"
      },
      "source": [
        "1. Assign the substrings going from the 4th to the 19th character inclusive, and from the 22nd to the 44th character inclusive of wikipedia_article to the variables first_pos and second_pos, respectively. Adjust the strings to be lowercase.\n",
        "2. Define a string with the text \"The tool is used in\" adding placeholders after the word tool and the word in for future positional formatting. Append it to the list my_list.\n",
        "3. Define a string with the text \"The tool is used in\" adding placeholders after the word tool and in but reorder them so the second argument passed to the method will replace the first placeholder. Append to the list my_list.\n",
        "\n",
        "**HINT!**\n",
        "\n",
        "* To select a substring going from the mth to the nth character of a variable, use variable[m-1:n]. To adjust the cases of a string to lowercase, use string.lower().\n",
        "* To reorder the placeholders, add numbers to them assigning inverse order of appearance, e.g This is a {1} for {0} formatting. Remember that the first element has index 0.\n",
        "* To use the .format() method on string with the variables var1 and var2, use string.format(var1, var2)."
      ]
    },
    {
      "cell_type": "code",
      "metadata": {
        "id": "CxYiW6ONYBpF"
      },
      "source": [
        "my_list = []\n",
        "wikipedia_article = 'In computer science, artificial intelligence (AI), sometimes called machine intelligence, is intelligence demonstrated by machines, in contrast to the natural intelligence displayed by humans and animals.'"
      ],
      "execution_count": 5,
      "outputs": []
    },
    {
      "cell_type": "code",
      "metadata": {
        "colab": {
          "base_uri": "https://localhost:8080/"
        },
        "id": "UNOlaVDyYNJs",
        "outputId": "ff5d7ba1-57a0-4070-e2e1-1d28c2bc57bf"
      },
      "source": [
        "# Assign the substrings to the variables\n",
        "first_pos = wikipedia_article[3:19].lower()\n",
        "second_pos = wikipedia_article[21:44].lower()\n",
        "\n",
        "# Define string with placeholders \n",
        "my_list.append(\"The tool {} is used in {}\")\n",
        "\n",
        "# Define string with rearranged placeholders\n",
        "my_list.append(\"The tool {1} is used in {0}\")\n",
        "\n",
        "# Use format to print strings\n",
        "for my_string in my_list:\n",
        "  \tprint(my_string.format(first_pos, second_pos))"
      ],
      "execution_count": 6,
      "outputs": [
        {
          "output_type": "stream",
          "name": "stdout",
          "text": [
            "The tool computer science is used in artificial intelligence\n",
            "The tool artificial intelligence is used in computer science\n"
          ]
        }
      ]
    },
    {
      "cell_type": "markdown",
      "metadata": {
        "id": "umuWDMoSZBqB"
      },
      "source": [
        "1. Create a dictionary assigning the first and second element appearing in the list courses to the keys \"field\" and \"tool\" respectively.\n",
        "2. Complete the placeholders accessing inside to the elements linked with the keys field and tool in the dictionary data.\n",
        "3. Print out the resulting message using the .format() method, passing the plan dictionary to replace the data placeholders.\n",
        "\n",
        "**HINT!**\n",
        "\n",
        "* Select the n-th element of a list using list[n-1].\n",
        "* Remember that you can access a value associated to a key in a dictionary inside placeholders using {dictionary[key]}.\n",
        "* To pass a dictionary to replace the placeholders in my_message using positional formatting, use my_string.format(p=dictionary) where p is the dictionary used in the placeholders."
      ]
    },
    {
      "cell_type": "code",
      "metadata": {
        "id": "Z6fd9G5LZYhN"
      },
      "source": [
        "courses = ['artificial intelligence', 'neural networks']"
      ],
      "execution_count": 7,
      "outputs": []
    },
    {
      "cell_type": "code",
      "metadata": {
        "colab": {
          "base_uri": "https://localhost:8080/"
        },
        "id": "1AGv-vSnZppY",
        "outputId": "a7aff924-1788-43c3-91fc-acb9be26e20c"
      },
      "source": [
        "# Create a dictionary\n",
        "plan = {\n",
        "  \t\t\"field\": courses[0],\n",
        "        \"tool\": courses[1]\n",
        "        }\n",
        "\n",
        "# Complete the placeholders accessing elements of field and tool keys in the data dictionary\n",
        "my_message = \"If you are interested in {data[field]}, you can take the course related to {data[tool]}\"\n",
        "\n",
        "# Use the plan dictionary to replace placeholders\n",
        "print(my_message.format(data=plan))"
      ],
      "execution_count": 8,
      "outputs": [
        {
          "output_type": "stream",
          "name": "stdout",
          "text": [
            "If you are interested in artificial intelligence, you can take the course related to neural networks\n"
          ]
        }
      ]
    },
    {
      "cell_type": "markdown",
      "metadata": {
        "id": "lvEKHgsMZ2Go"
      },
      "source": [
        "1. Import the function datetime from the module datetime .\n",
        "2. Obtain the date of today and assign it to the variable get_date.\n",
        "3. Complete the string message by adding to the placeholders named today and the format specifiers to format the date as month_name day, year and time as hour:minutes.\n",
        "4. Print the message using the .format() method and the variable get_date to replace the named placeholder.\n",
        "\n",
        "**HINT!**\n",
        "\n",
        "* Remember that you can use the function datetime to access .now() and obtain today's date.\n",
        "* Add a name to a placeholder using text {name}. Format date using %B %d, %Y and time %H:%M.\n",
        "* To replace a named placeholder with a value in my_string, use my_string.format(named=value)."
      ]
    },
    {
      "cell_type": "code",
      "metadata": {
        "colab": {
          "base_uri": "https://localhost:8080/"
        },
        "id": "WZKMeoAFZ2kz",
        "outputId": "10552d64-7af9-4138-98db-17ecbe0c253a"
      },
      "source": [
        "# Import datetime \n",
        "from datetime import datetime\n",
        "\n",
        "# Assign date to get_date\n",
        "get_date = datetime.now()\n",
        "\n",
        "# Add named placeholders with format specifiers\n",
        "message = \"Good morning. Today is {today:%B %d, %Y}. It's {today:%H:%M} ... time to work!\"\n",
        "\n",
        "# Use the format method replacing the placeholder with get_date\n",
        "print(message.format(today=get_date))"
      ],
      "execution_count": 21,
      "outputs": [
        {
          "output_type": "stream",
          "name": "stdout",
          "text": [
            "Good morning. Today is September 25, 2021. It's 14:53 ... time to work!\n"
          ]
        }
      ]
    },
    {
      "cell_type": "markdown",
      "metadata": {
        "id": "XXJYHqXTaNGO"
      },
      "source": [
        "1. Complete the f-string to include the variable field1 with quotes and the variable fact1 as a digit.\n",
        "\n",
        "**HINT!**\n",
        "\n",
        "* For an f-string, use the syntax f\"string {variable}\". After the variable inside the expression, use the type !r to convert to string and show the quotes, and :d for specifying digits.\n"
      ]
    },
    {
      "cell_type": "code",
      "metadata": {
        "colab": {
          "base_uri": "https://localhost:8080/"
        },
        "id": "sKYrmVPVaNlT",
        "outputId": "49ddd32f-a525-4ff1-9853-18af01d20829"
      },
      "source": [
        "field1, field2,field3 = 'sexiest job', 'data is produced daily', 'Individuals'\n",
        "fact1, fact2, fact3, fact4 = 21, 2500000000000000000, 72.41415415151, 1.09"
      ],
      "execution_count": 12,
      "outputs": [
        {
          "output_type": "execute_result",
          "data": {
            "text/plain": [
              "72.41415415151"
            ]
          },
          "metadata": {},
          "execution_count": 12
        }
      ]
    },
    {
      "cell_type": "code",
      "metadata": {
        "colab": {
          "base_uri": "https://localhost:8080/"
        },
        "id": "D9mJ-siJa6eH",
        "outputId": "151d03ec-a6b1-4c99-d026-628cbf79c7db"
      },
      "source": [
        "# Complete the f-string\n",
        "print(f\"Data science is considered {field1!r} in the {fact1:d}st century\")"
      ],
      "execution_count": 13,
      "outputs": [
        {
          "output_type": "stream",
          "name": "stdout",
          "text": [
            "Data science is considered 'sexiest job' in the 21st century\n"
          ]
        }
      ]
    },
    {
      "cell_type": "markdown",
      "metadata": {
        "id": "uJOOEvALa_3_"
      },
      "source": [
        "Complete the f-string to include the variable fact2 using exponential notation, and the variable field2.\n",
        "\n",
        "**HINT!**\n",
        "\n",
        "For f-string, use the syntax f\"string {variable}\". After the variable inside the expression use :e for specifying that you want exponential notation."
      ]
    },
    {
      "cell_type": "code",
      "metadata": {
        "colab": {
          "base_uri": "https://localhost:8080/"
        },
        "id": "XOsFRJ0qa_SA",
        "outputId": "00cfcf2b-5186-488f-98f8-e2318f287f6b"
      },
      "source": [
        "# Complete the f-string\n",
        "print(f\"About {fact2:e} of {field2} in the world\")"
      ],
      "execution_count": 14,
      "outputs": [
        {
          "output_type": "stream",
          "name": "stdout",
          "text": [
            "About 2.500000e+18 of data is produced daily in the world\n"
          ]
        }
      ]
    },
    {
      "cell_type": "markdown",
      "metadata": {
        "id": "HCw3olZNbJiw"
      },
      "source": [
        "Complete the f-string to include field3 and fact3 rounded to 2 decimals, and then fact4 rounded to one decimal.\n",
        "\n",
        "**HINT!**\n",
        "\n",
        "For f-string, use the syntax f\"string {variable}\". For specifying number of n decimals in a float, use :.nf after the variable inside the expression."
      ]
    },
    {
      "cell_type": "code",
      "metadata": {
        "colab": {
          "base_uri": "https://localhost:8080/"
        },
        "id": "3u8u-V8NbNUF",
        "outputId": "63b1e801-329b-480a-c15f-5a26efc3ba13"
      },
      "source": [
        "# Complete the f-string\n",
        "print(f\"{field3} create around {fact3:.2f}% of the data but only {fact4:.1f}% is analyzed\")"
      ],
      "execution_count": 15,
      "outputs": [
        {
          "output_type": "stream",
          "name": "stdout",
          "text": [
            "Individuals create around 72.41% of the data but only 1.1% is analyzed\n"
          ]
        }
      ]
    },
    {
      "cell_type": "markdown",
      "metadata": {
        "id": "keNsVJtpbQJq"
      },
      "source": [
        "Inside the f-string, include number1,number2 and the result of dividing number1 by number2 rounded to one decimal.\n",
        "\n",
        "**HINT!**\n",
        "\n",
        "To perform an operation between var1 and var2 inside a f-string, use f\"{var1 * var2}\". Remember that you can use the format specifier :.nf to indicate the number n of decimals."
      ]
    },
    {
      "cell_type": "code",
      "metadata": {
        "id": "VPSDbFsvbXl7"
      },
      "source": [
        "number1, number2 = 120, 7\n",
        "string1 = 'httpswww.purwadhika.com'\n",
        "list_links = ['www.news.com',\n",
        " 'www.google.com',\n",
        " 'www.yahoo.com',\n",
        " 'www.bbc.com',\n",
        " 'www.msn.com',\n",
        " 'www.facebook.com',\n",
        " 'www.news.google.com']"
      ],
      "execution_count": 16,
      "outputs": []
    },
    {
      "cell_type": "code",
      "metadata": {
        "colab": {
          "base_uri": "https://localhost:8080/"
        },
        "id": "PS9xXVb8bwNy",
        "outputId": "6937b530-4b46-403d-e0d4-65310b90a220"
      },
      "source": [
        "# Include both variables and the result of dividing them \n",
        "print(f\"{number1} tweets were downloaded in {number2} minutes indicating a speed of {number1/number2:.1f} tweets per min\")"
      ],
      "execution_count": 17,
      "outputs": [
        {
          "output_type": "stream",
          "name": "stdout",
          "text": [
            "120 tweets were downloaded in 7 minutes indicating a speed of 17.1 tweets per min\n"
          ]
        }
      ]
    },
    {
      "cell_type": "markdown",
      "metadata": {
        "id": "mfBjKtRWbz0o"
      },
      "source": [
        "Inside the f-string, use .replace() to replace the substring https with an empty substring in string1.\n",
        "\n",
        "**HINT!**\n",
        "\n",
        "To call the function .replace() on my_string inside a f-string, use f\"text {my_string.replace()}\". Remember escape sequences are not allowed; different quotes need to be used for the f-string and the strings inside .replace()."
      ]
    },
    {
      "cell_type": "code",
      "metadata": {
        "colab": {
          "base_uri": "https://localhost:8080/"
        },
        "id": "dhHba9fRb4n8",
        "outputId": "874c81c5-aeb0-4c12-8b48-d82e2eb45184"
      },
      "source": [
        "# Replace the substring http by an empty string\n",
        "print(f\"{string1.replace('https', '')}\")"
      ],
      "execution_count": 18,
      "outputs": [
        {
          "output_type": "stream",
          "name": "stdout",
          "text": [
            "www.purwadhika.com\n"
          ]
        }
      ]
    },
    {
      "cell_type": "markdown",
      "metadata": {
        "id": "h0NFyKSNb6z8"
      },
      "source": [
        "Inside the f-string, get list_links length, multiply it by 100 and divide it by 120. Round the result to two decimals.\n",
        "\n",
        "**HINT!**\n",
        "\n",
        "To get the length of my_list inside an f-string, use the syntax f\"text {len(my_list)}\". Remember that you can use the format specifier :.nf to indicate the number n of decimals."
      ]
    },
    {
      "cell_type": "code",
      "metadata": {
        "colab": {
          "base_uri": "https://localhost:8080/"
        },
        "id": "HZpsxl8OcEOx",
        "outputId": "9b18f43b-12d5-43d7-dd67-0b442fb042c4"
      },
      "source": [
        "# Divide the length of list by 120 rounded to two decimals\n",
        "print(f\"Only {(len(list_links)*100/120):.2f}% of the posts contain links\")"
      ],
      "execution_count": 19,
      "outputs": [
        {
          "output_type": "stream",
          "name": "stdout",
          "text": [
            "Only 5.83% of the posts contain links\n"
          ]
        }
      ]
    },
    {
      "cell_type": "markdown",
      "metadata": {
        "id": "dvTPHX7pcJ-M"
      },
      "source": [
        "Inside the f-string, access the values of the keys price and date in east dictionary. Format the date to month-day-year.\n",
        "\n",
        "**HINT!**\n",
        "\n",
        "To access a value of key in dict inside a f-string, use f\"{dict['key']}\". To format the date, use the specifiers %m, %d and %Y."
      ]
    },
    {
      "cell_type": "code",
      "metadata": {
        "id": "2meW0kpMcKao"
      },
      "source": [
        "import datetime\n",
        "\n",
        "east = {'date': datetime.datetime(2007, 4, 20, 0, 0), 'price': 1232443}\n",
        "west = {'date': datetime.datetime(2006, 5, 26, 0, 0), 'price': 1432673}"
      ],
      "execution_count": 23,
      "outputs": []
    },
    {
      "cell_type": "code",
      "metadata": {
        "colab": {
          "base_uri": "https://localhost:8080/"
        },
        "id": "xRJtWdvKc3KP",
        "outputId": "973715c2-884e-41a8-a123-173e1f64ec70"
      },
      "source": [
        "# Access values of date and price in east dictionary\n",
        "print(f\"The price for a house in the east neighborhood was ${east['price']} in {east['date']:%m-%d-%Y}\")"
      ],
      "execution_count": 24,
      "outputs": [
        {
          "output_type": "stream",
          "name": "stdout",
          "text": [
            "The price for a house in the east neighborhood was $1232443 in 04-20-2007\n"
          ]
        }
      ]
    },
    {
      "cell_type": "markdown",
      "metadata": {
        "id": "VhJmIxVLc6BK"
      },
      "source": [
        "Inside the f-string, access the values of the keys price and date in west dictionary. Format the date to month-day-year."
      ]
    },
    {
      "cell_type": "code",
      "metadata": {
        "colab": {
          "base_uri": "https://localhost:8080/"
        },
        "id": "uA_jDk13dAUn",
        "outputId": "bb2cd040-0189-4d1e-9b80-f428d47e19e1"
      },
      "source": [
        "# Access values of date and price in west dictionary\n",
        "print(f\"The price for a house in the west neighborhood was ${west['price']} in {west['date']:%m-%d-%Y}.\")"
      ],
      "execution_count": 25,
      "outputs": [
        {
          "output_type": "stream",
          "name": "stdout",
          "text": [
            "The price for a house in the west neighborhood was $1432673 in 05-26-2006.\n"
          ]
        }
      ]
    },
    {
      "cell_type": "markdown",
      "metadata": {
        "id": "Q6znIuCZdHt8"
      },
      "source": [
        "1. First of all, import Template from string module.\n",
        "2. Complete the template using $tool and $description identifiers.\n",
        "3. Substitute identifiers with the correct tool and description variables in the template and print out the results.\n",
        "\n",
        "**HINT!**\n",
        "\n",
        "* Remember that the syntax for writing a template is Template(\"\\$identifier1 text \\\\$indentifier2\").\n",
        "* To substitute the identifier1 and identifier2 in the template string created, use string.substitute(). Don't forget to specify identifier1=name and identifier2=description inside each call.\n"
      ]
    },
    {
      "cell_type": "code",
      "metadata": {
        "id": "HBnHfeQqdIY7"
      },
      "source": [
        "tool1, tool2, tool3 = 'Natural Language Toolkit', 'TextBlob', 'Gensim'\n",
        "description1 = 'suite of libraries and programs for symbolic and statistical natural language processing (NLP) for English written in the Python programming language. It was developed by Steven Bird and Edward Loper in the Department of Computer and Information Science at the University of Pennsylvania.'\n",
        "description2 = 'Python library for processing textual data. It provides a simple API for diving into common natural language processing tasks such as part-of-speech tagging, noun phrase extraction, sentiment analysis, classification, translation, and more.'\n",
        "description3 = 'robust open-source vector space modeling and topic modeling toolkit implemented in Python. It uses NumPy, SciPy and optionally Cython for performance. Gensim is specifically designed to handle large text collections, using data streaming and efficient incremental algorithms, which differentiates it from most other scientific software packages that only target batch and in-memory processing.'\n"
      ],
      "execution_count": 26,
      "outputs": []
    },
    {
      "cell_type": "code",
      "metadata": {
        "colab": {
          "base_uri": "https://localhost:8080/"
        },
        "id": "PNaQWpLrd2lz",
        "outputId": "0cc828b5-e3eb-4ab7-98a5-d342ab1fcb8d"
      },
      "source": [
        "# Import Template\n",
        "from string import Template\n",
        "\n",
        "# Create a template\n",
        "wikipedia = Template(\"$tool is a $description\")\n",
        "\n",
        "# Substitute variables in template\n",
        "print(wikipedia.substitute(tool=tool1, description=description1))\n",
        "print(wikipedia.substitute(tool=tool2, description=description2))\n",
        "print(wikipedia.substitute(tool=tool3, description=description3))"
      ],
      "execution_count": 31,
      "outputs": [
        {
          "output_type": "stream",
          "name": "stdout",
          "text": [
            "Natural Language Toolkit is a suite of libraries and programs for symbolic and statistical natural language processing (NLP) for English written in the Python programming language. It was developed by Steven Bird and Edward Loper in the Department of Computer and Information Science at the University of Pennsylvania.\n",
            "TextBlob is a Python library for processing textual data. It provides a simple API for diving into common natural language processing tasks such as part-of-speech tagging, noun phrase extraction, sentiment analysis, classification, translation, and more.\n",
            "Gensim is a robust open-source vector space modeling and topic modeling toolkit implemented in Python. It uses NumPy, SciPy and optionally Cython for performance. Gensim is specifically designed to handle large text collections, using data streaming and efficient incremental algorithms, which differentiates it from most other scientific software packages that only target batch and in-memory processing.\n"
          ]
        }
      ]
    },
    {
      "cell_type": "markdown",
      "metadata": {
        "id": "Kq8MKNizd9kb"
      },
      "source": [
        "1. Assign the first, second, and third element of tools to the variables our_tool, our_fee and our_pay respectively.\n",
        "2. Complete the template string using $tool, \\\\$fee, and \\\\$pay as identifiers. Add the dollar sign before the \\\\$fee identifier and add the characters ly directly after the \\\\$pay identifier.\n",
        "3. Substitute identifiers with the three variables you created and print out the results.\n",
        "\n",
        "**HINT!**\n",
        "\n",
        "* To write a template, use Template(\"\\\\$identifier1 text \\\\$indentifier2\"). \n",
        "* Remember you need to escape the dollar sign by using $$ and use ${identifier} to add valid characters immediately after.\n",
        "* To substitute an $identifier in a tempstr with a value, use tempstr.substitute(identifier=value)."
      ]
    },
    {
      "cell_type": "code",
      "metadata": {
        "id": "OvYX_ZlmeSvy"
      },
      "source": [
        "tools = ['Natural Language Toolkit', '20', 'month']"
      ],
      "execution_count": 33,
      "outputs": []
    },
    {
      "cell_type": "code",
      "metadata": {
        "colab": {
          "base_uri": "https://localhost:8080/"
        },
        "id": "-c_47yEvd9_O",
        "outputId": "18807d58-480e-4baa-8382-1aca5a0b8686"
      },
      "source": [
        "# Import template\n",
        "from string import Template\n",
        "\n",
        "# Select variables\n",
        "our_tool = tools[0]\n",
        "our_fee = tools[1]\n",
        "our_pay = tools[2]\n",
        "\n",
        "# Create template\n",
        "course = Template(\"We are offering a 3-month beginner course on $tool just for $$ $fee ${pay}ly\")\n",
        "\n",
        "# Substitute identifiers with three variables\n",
        "print(course.substitute(tool=our_tool, fee=our_fee, pay=our_pay))"
      ],
      "execution_count": 34,
      "outputs": [
        {
          "output_type": "stream",
          "name": "stdout",
          "text": [
            "We are offering a 3-month beginner course on Natural Language Toolkit just for $ 20 monthly\n"
          ]
        }
      ]
    },
    {
      "cell_type": "markdown",
      "metadata": {
        "id": "2gMFu86New_d"
      },
      "source": [
        "1. Complete the template string using \\$answer1 and $answer2 as identifiers.\n",
        "2. Use the method .substitute() to replace the identifiers with the values in answers in the predefined template.\n",
        "3. Use the method .safe_substitute() to replace the identifiers with the values in answers in the predefined template.\n",
        "\n",
        "**HINT!**\n",
        "\n",
        "* To substitute identifiers in a tempstr by values in a dict, use tempstr.substitute(dict). Remember that if any placeholder is missing, it will raise an error.\n",
        "* To safe substitute identifiers in a tempstr by values in a dict, use tempstr.safe_substitute(dict). If any placeholder is missing, the original placeholder will be used by default."
      ]
    },
    {
      "cell_type": "code",
      "metadata": {
        "id": "fGUOmYElewVQ"
      },
      "source": [
        "answers = {'answer1': 'I really like the app. But there are some features that can be improved'}"
      ],
      "execution_count": 35,
      "outputs": []
    },
    {
      "cell_type": "code",
      "metadata": {
        "colab": {
          "base_uri": "https://localhost:8080/"
        },
        "id": "R7oCVIKTfJUh",
        "outputId": "ea9b1e57-7c1d-4b3f-e786-31475af7198b"
      },
      "source": [
        "# Import template\n",
        "from string import Template\n",
        "\n",
        "# Complete template string using identifiers\n",
        "the_answers = Template(\"Check your answer 1: $answer1, and your answer 2: $answer2\")\n",
        "\n",
        "# Use safe_substitute to replace identifiers\n",
        "try:\n",
        "    print(the_answers.safe_substitute(answers))\n",
        "except KeyError:\n",
        "    print(\"Missing information\")"
      ],
      "execution_count": 36,
      "outputs": [
        {
          "output_type": "stream",
          "name": "stdout",
          "text": [
            "Check your answer 1: I really like the app. But there are some features that can be improved, and your answer 2: $answer2\n"
          ]
        }
      ]
    }
  ]
}