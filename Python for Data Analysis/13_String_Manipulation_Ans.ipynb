{
  "nbformat": 4,
  "nbformat_minor": 2,
  "metadata": {
    "colab": {
      "name": "13. String Manipulation Ans.ipynb",
      "provenance": []
    },
    "kernelspec": {
      "name": "python3",
      "display_name": "Python 3.9.7 64-bit (windows store)"
    },
    "language_info": {
      "name": "python",
      "version": "3.9.7",
      "mimetype": "text/x-python",
      "codemirror_mode": {
        "name": "ipython",
        "version": 3
      },
      "pygments_lexer": "ipython3",
      "nbconvert_exporter": "python",
      "file_extension": ".py"
    },
    "interpreter": {
      "hash": "74eaa6774a169bec67c4dccb326766c2c8cf4f4e341bf5531e21465378b4a156"
    }
  },
  "cells": [
    {
      "cell_type": "code",
      "execution_count": 1,
      "source": [
        "# import pandas, numpy, and load dataset\r\n",
        "import pandas as pd\r\n",
        "import numpy as np\r\n",
        "import matplotlib.pyplot as plt\r\n",
        "import seaborn as sns"
      ],
      "outputs": [],
      "metadata": {
        "id": "UZua4fLmtAZq"
      }
    },
    {
      "cell_type": "code",
      "execution_count": 2,
      "source": [
        "from google.colab import files\r\n",
        "uploaded = files.upload()"
      ],
      "outputs": [
        {
          "output_type": "display_data",
          "data": {
            "text/html": [
              "\n",
              "     <input type=\"file\" id=\"files-74adb1be-a55b-4ef9-bb48-83a7c964df78\" name=\"files[]\" multiple disabled\n",
              "        style=\"border:none\" />\n",
              "     <output id=\"result-74adb1be-a55b-4ef9-bb48-83a7c964df78\">\n",
              "      Upload widget is only available when the cell has been executed in the\n",
              "      current browser session. Please rerun this cell to enable.\n",
              "      </output>\n",
              "      <script src=\"/nbextensions/google.colab/files.js\"></script> "
            ],
            "text/plain": [
              "<IPython.core.display.HTML object>"
            ]
          },
          "metadata": {}
        },
        {
          "output_type": "stream",
          "name": "stdout",
          "text": [
            "Saving short_movies.csv to short_movies.csv\n"
          ]
        }
      ],
      "metadata": {
        "colab": {
          "resources": {
            "http://localhost:8080/nbextensions/google.colab/files.js": {
              "data": "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",
              "ok": true,
              "headers": [
                [
                  "content-type",
                  "application/javascript"
                ]
              ],
              "status": 200,
              "status_text": ""
            }
          },
          "base_uri": "https://localhost:8080/",
          "height": 73
        },
        "id": "M4UGqClBtCM1",
        "outputId": "815e6bb4-6c45-4524-f50a-6be3fb6815de"
      }
    },
    {
      "cell_type": "code",
      "execution_count": 23,
      "source": [
        "movies = pd.read_csv('short_movies.csv')\r\n",
        "movies"
      ],
      "outputs": [
        {
          "output_type": "execute_result",
          "data": {
            "text/html": [
              "<div>\n",
              "<style scoped>\n",
              "    .dataframe tbody tr th:only-of-type {\n",
              "        vertical-align: middle;\n",
              "    }\n",
              "\n",
              "    .dataframe tbody tr th {\n",
              "        vertical-align: top;\n",
              "    }\n",
              "\n",
              "    .dataframe thead th {\n",
              "        text-align: right;\n",
              "    }\n",
              "</style>\n",
              "<table border=\"1\" class=\"dataframe\">\n",
              "  <thead>\n",
              "    <tr style=\"text-align: right;\">\n",
              "      <th></th>\n",
              "      <th>id</th>\n",
              "      <th>tag</th>\n",
              "      <th>html</th>\n",
              "      <th>sent id</th>\n",
              "      <th>text</th>\n",
              "      <th>target</th>\n",
              "    </tr>\n",
              "  </thead>\n",
              "  <tbody>\n",
              "    <tr>\n",
              "      <th>0</th>\n",
              "      <td>0</td>\n",
              "      <td>cv000</td>\n",
              "      <td>29590</td>\n",
              "      <td>0</td>\n",
              "      <td>films adapted from comic books have had plenty...</td>\n",
              "      <td>pos</td>\n",
              "    </tr>\n",
              "    <tr>\n",
              "      <th>1</th>\n",
              "      <td>0</td>\n",
              "      <td>cv000</td>\n",
              "      <td>29590</td>\n",
              "      <td>1</td>\n",
              "      <td>for starters , it was created by alan moore ( ...</td>\n",
              "      <td>pos</td>\n",
              "    </tr>\n",
              "    <tr>\n",
              "      <th>2</th>\n",
              "      <td>0</td>\n",
              "      <td>cv000</td>\n",
              "      <td>29590</td>\n",
              "      <td>2</td>\n",
              "      <td>to say moore and campbell thoroughly researche...</td>\n",
              "      <td>pos</td>\n",
              "    </tr>\n",
              "    <tr>\n",
              "      <th>3</th>\n",
              "      <td>0</td>\n",
              "      <td>cv000</td>\n",
              "      <td>29590</td>\n",
              "      <td>3</td>\n",
              "      <td>the book ( or \" graphic novel , \" if you will ...</td>\n",
              "      <td>pos</td>\n",
              "    </tr>\n",
              "    <tr>\n",
              "      <th>4</th>\n",
              "      <td>0</td>\n",
              "      <td>cv000</td>\n",
              "      <td>29590</td>\n",
              "      <td>4</td>\n",
              "      <td>in other words , don't dismiss this film becau...</td>\n",
              "      <td>pos</td>\n",
              "    </tr>\n",
              "    <tr>\n",
              "      <th>...</th>\n",
              "      <td>...</td>\n",
              "      <td>...</td>\n",
              "      <td>...</td>\n",
              "      <td>...</td>\n",
              "      <td>...</td>\n",
              "      <td>...</td>\n",
              "    </tr>\n",
              "    <tr>\n",
              "      <th>19995</th>\n",
              "      <td>6</td>\n",
              "      <td>cv615</td>\n",
              "      <td>14182</td>\n",
              "      <td>20</td>\n",
              "      <td>wilder's script is stunning , as he carefully ...</td>\n",
              "      <td>pos</td>\n",
              "    </tr>\n",
              "    <tr>\n",
              "      <th>19996</th>\n",
              "      <td>6</td>\n",
              "      <td>cv615</td>\n",
              "      <td>14182</td>\n",
              "      <td>21</td>\n",
              "      <td>wilder manages to create scenes of utter hyste...</td>\n",
              "      <td>pos</td>\n",
              "    </tr>\n",
              "    <tr>\n",
              "      <th>19997</th>\n",
              "      <td>6</td>\n",
              "      <td>cv615</td>\n",
              "      <td>14182</td>\n",
              "      <td>22</td>\n",
              "      <td>wilder's is dead wrong when he says nobody's p...</td>\n",
              "      <td>pos</td>\n",
              "    </tr>\n",
              "    <tr>\n",
              "      <th>19998</th>\n",
              "      <td>6</td>\n",
              "      <td>cv615</td>\n",
              "      <td>14182</td>\n",
              "      <td>23</td>\n",
              "      <td>nobody's perfect but billy wilder .</td>\n",
              "      <td>pos</td>\n",
              "    </tr>\n",
              "    <tr>\n",
              "      <th>19999</th>\n",
              "      <td>6</td>\n",
              "      <td>cv616</td>\n",
              "      <td>29319</td>\n",
              "      <td>0</td>\n",
              "      <td>a welcome cinematic trend over the past couple...</td>\n",
              "      <td>pos</td>\n",
              "    </tr>\n",
              "  </tbody>\n",
              "</table>\n",
              "<p>20000 rows × 6 columns</p>\n",
              "</div>"
            ],
            "text/plain": [
              "       id    tag  ...                                               text  target\n",
              "0       0  cv000  ...  films adapted from comic books have had plenty...     pos\n",
              "1       0  cv000  ...  for starters , it was created by alan moore ( ...     pos\n",
              "2       0  cv000  ...  to say moore and campbell thoroughly researche...     pos\n",
              "3       0  cv000  ...  the book ( or \" graphic novel , \" if you will ...     pos\n",
              "4       0  cv000  ...  in other words , don't dismiss this film becau...     pos\n",
              "...    ..    ...  ...                                                ...     ...\n",
              "19995   6  cv615  ...  wilder's script is stunning , as he carefully ...     pos\n",
              "19996   6  cv615  ...  wilder manages to create scenes of utter hyste...     pos\n",
              "19997   6  cv615  ...  wilder's is dead wrong when he says nobody's p...     pos\n",
              "19998   6  cv615  ...                nobody's perfect but billy wilder .     pos\n",
              "19999   6  cv616  ...  a welcome cinematic trend over the past couple...     pos\n",
              "\n",
              "[20000 rows x 6 columns]"
            ]
          },
          "metadata": {},
          "execution_count": 23
        }
      ],
      "metadata": {
        "colab": {
          "base_uri": "https://localhost:8080/",
          "height": 423
        },
        "id": "I6iglhB1tKYE",
        "outputId": "2a802d68-cb04-4b6e-fa84-78649cc2c79f"
      }
    },
    {
      "cell_type": "markdown",
      "source": [
        "1. Find out how many characters the variable movie has.\n",
        "2. Convert the numeric variable length_string to a string representation.\n",
        "3. Concatenate the predefined variable statement and the variable to_string adding a space between them. Print out the result.\n",
        "\n",
        "**HINT!**\n",
        "\n",
        "* To print out the concatenation of the string1 and string2, print(string1+string2) can be used. Don't forget to add a space (\" \") between both strings."
      ],
      "metadata": {
        "id": "-A4jLS9ltRt4"
      }
    },
    {
      "cell_type": "code",
      "execution_count": 8,
      "source": [
        "movie = 'fox and kelley soon become bitter rivals because the new fox books store is opening up right across the block from the small business .'"
      ],
      "outputs": [],
      "metadata": {
        "id": "NOCfCp7BtvOW"
      }
    },
    {
      "cell_type": "code",
      "execution_count": 9,
      "source": [
        "# Find characters in movie variable\r\n",
        "length_string = len(movie)\r\n",
        "\r\n",
        "# Convert to string\r\n",
        "to_string = str(length_string)\r\n",
        "\r\n",
        "# Predefined variable\r\n",
        "statement = \"Number of characters in this review:\"\r\n",
        "\r\n",
        "# Concatenate strings and print result\r\n",
        "print(statement+\" \"+to_string)"
      ],
      "outputs": [
        {
          "output_type": "stream",
          "name": "stdout",
          "text": [
            "Number of characters in this review: 135\n"
          ]
        }
      ],
      "metadata": {
        "colab": {
          "base_uri": "https://localhost:8080/"
        },
        "id": "mGVn5h7WtStn",
        "outputId": "f8908d96-2197-48af-fad5-060b7236be60"
      }
    },
    {
      "cell_type": "markdown",
      "source": [
        "1. Select the first 32 characters of the variable movie1 and assign it to the variable first_part.\n",
        "2. Select the substring going from the 43rd character to the end of movie1. Assign it to the variable last_part\n",
        "3. Select the substring going from the 33rd to the 42nd character of movie2. Assign it to the variable middle_part.\n",
        "4. Print the concatenation of the variables first_part, middle_part and last_part in that order. Print the variable movie2 and compare them.\n",
        "\n",
        "**HINT!**\n",
        "\n",
        "* To select the first n characters of a variable, use variable[:n]. Second index is not included in the resultant substring.\n",
        "* To select a substring from the nth character to the end of a variable, use variable[n-1:]. Indices in python are 0-based."
      ],
      "metadata": {
        "id": "XDFl9Pj_tzGx"
      }
    },
    {
      "cell_type": "code",
      "execution_count": 10,
      "source": [
        "movie1 = 'the most significant tension of _election_ is the potential relationship between a teacher and his student .'\r\n",
        "movie2 = 'the most significant tension of _rushmore_ is the potential relationship between a teacher and his student .'"
      ],
      "outputs": [],
      "metadata": {
        "id": "xen1rXTSt6EN"
      }
    },
    {
      "cell_type": "code",
      "execution_count": 11,
      "source": [
        "# Select the first 32 characters of movie1\r\n",
        "first_part = movie1[:32]\r\n",
        "\r\n",
        "# Select from 43rd character to the end of movie1\r\n",
        "last_part = movie1[42:]\r\n",
        "\r\n",
        "# Select from 33rd to the 42nd character\r\n",
        "middle_part = movie2[32:42]\r\n",
        "\r\n",
        "# Print concatenation and movie2 variable\r\n",
        "print(first_part+middle_part+last_part) \r\n",
        "print(movie2)"
      ],
      "outputs": [
        {
          "output_type": "stream",
          "name": "stdout",
          "text": [
            "the most significant tension of _rushmore_ is the potential relationship between a teacher and his student .\n",
            "the most significant tension of _rushmore_ is the potential relationship between a teacher and his student .\n"
          ]
        }
      ],
      "metadata": {
        "colab": {
          "base_uri": "https://localhost:8080/"
        },
        "id": "Ovh_OGUNuXcs",
        "outputId": "d11e1a2c-a7e1-43b9-87fc-ef80119a4811"
      }
    },
    {
      "cell_type": "markdown",
      "source": [
        "1. Extract the substring from the 12th to the 30th character from the variable movie which corresponds to the movie title. Store it in the variable movie_title.\n",
        "2. Get the palindrome by reversing the string contained in movie_title.\n",
        "3. Complete the code to print out the movie_title if it is a palindrome.\n",
        "\n",
        "**HINT!**\n",
        "\n",
        "* To select a substring going from the mth to the nth character of a variable, use variable[m-1:n].\n",
        "* Remember that if you use -1 as a third index and you don't specify the first two you can get your string backwards.\n",
        "* Use print() and the variable movie_title."
      ],
      "metadata": {
        "id": "wHs5VWK8uf8y"
      }
    },
    {
      "cell_type": "code",
      "execution_count": 12,
      "source": [
        "movie = 'oh my God! desserts I stressed was an ugly movie'"
      ],
      "outputs": [],
      "metadata": {
        "id": "hzZSxhsJupVX"
      }
    },
    {
      "cell_type": "code",
      "execution_count": 13,
      "source": [
        "# Get the word\r\n",
        "movie_title = movie[11:30]\r\n",
        "\r\n",
        "# Obtain the palindrome\r\n",
        "palindrome = movie_title[::-1]\r\n",
        "\r\n",
        "# Print the word if it's a palindrome\r\n",
        "if movie_title == palindrome:\r\n",
        "\tprint(movie_title)"
      ],
      "outputs": [
        {
          "output_type": "stream",
          "name": "stdout",
          "text": [
            "desserts I stressed\n"
          ]
        }
      ],
      "metadata": {
        "colab": {
          "base_uri": "https://localhost:8080/"
        },
        "id": "CPAaRv7Du8cc",
        "outputId": "5315bbf8-883c-4953-c4dc-c2624f4bbe52"
      }
    },
    {
      "cell_type": "markdown",
      "source": [
        "1. Convert the string in the variable movie to lowercase. Print the result.\n",
        "2. Remove the $ that occur at the start and at the end of the string contained in movie_lower. Print the results.\n",
        "3. Split the string contained in movie_no_sign into as many substrings as possible. Print the results.\n",
        "4. To get the root of the second word contained in movie_split, select all the characters except the last one.\n",
        "\n",
        "**HINT!**\n",
        "\n",
        "* To convert to lowercase a string, use string.lower().\n",
        "* To remove a char of a string from the beginning and the end, use string.strip(char).\n",
        "* To split a string, use string.split().\n",
        "\n"
      ],
      "metadata": {
        "id": "umoYfsRavEiU"
      }
    },
    {
      "cell_type": "code",
      "execution_count": 14,
      "source": [
        "movie = '$I supposed that coming from MTV Films I should expect no less$'"
      ],
      "outputs": [],
      "metadata": {
        "id": "xJ3O4S9kvE1C"
      }
    },
    {
      "cell_type": "code",
      "execution_count": 15,
      "source": [
        "# Convert to lowercase and print the result\r\n",
        "movie_lower = movie.lower()\r\n",
        "print(movie_lower)\r\n",
        "\r\n",
        "# Remove specified character and print the result\r\n",
        "movie_no_sign = movie_lower.strip(\"$\")\r\n",
        "print(movie_no_sign)\r\n",
        "\r\n",
        "# Split the string into substrings and print the result\r\n",
        "movie_split = movie_no_sign.split()\r\n",
        "print(movie_split)\r\n",
        "\r\n",
        "# Select root word and print the result\r\n",
        "word_root = movie_split[1][:-1]\r\n",
        "print(word_root)"
      ],
      "outputs": [
        {
          "output_type": "stream",
          "name": "stdout",
          "text": [
            "$i supposed that coming from mtv films i should expect no less$\n",
            "i supposed that coming from mtv films i should expect no less\n",
            "['i', 'supposed', 'that', 'coming', 'from', 'mtv', 'films', 'i', 'should', 'expect', 'no', 'less']\n",
            "suppose\n"
          ]
        }
      ],
      "metadata": {
        "colab": {
          "base_uri": "https://localhost:8080/"
        },
        "id": "zEUhFgyJvGa_",
        "outputId": "e414888b-a89a-4249-cca4-322cf4998036"
      }
    },
    {
      "cell_type": "markdown",
      "source": [
        "1. Remove tag <\\i> from the end of the string. Print the results.\n",
        "2. Split the string contained in movie_tag using the commas as a separating element. Print the results.\n",
        "3. Join back together the list of substring contained in movie_no_comma using a space as a join element. Print the results.\n",
        "\n",
        "**HINT!**\n",
        "\n",
        "* To remove a char from the end of a string, use string.rstrip(char).\n",
        "* To split a string using a char as a separating element, use string.split(char).\n",
        "* To join a list of substring using a char as join elements, use \"char\".join(list)."
      ],
      "metadata": {
        "id": "5vh66utAvhip"
      }
    },
    {
      "cell_type": "code",
      "execution_count": 16,
      "source": [
        "movie = 'the film,however,is all good<\\\\i>'"
      ],
      "outputs": [],
      "metadata": {
        "id": "ZOGyQbppvleP"
      }
    },
    {
      "cell_type": "code",
      "execution_count": 18,
      "source": [
        "# Remove tags happening at the end and print results\r\n",
        "movie_tag = movie.rstrip(\"<\\i>\")\r\n",
        "print(movie_tag)\r\n",
        "\r\n",
        "# Split the string using commas and print results\r\n",
        "movie_no_comma = movie_tag.split(\",\")\r\n",
        "print(movie_no_comma)\r\n",
        "\r\n",
        "# Join back together and print results\r\n",
        "movie_join = \" \".join(movie_no_comma)\r\n",
        "print(movie_join)"
      ],
      "outputs": [
        {
          "output_type": "stream",
          "name": "stdout",
          "text": [
            "the film,however,is all good\n",
            "['the film', 'however', 'is all good']\n",
            "the film however is all good\n"
          ]
        }
      ],
      "metadata": {
        "colab": {
          "base_uri": "https://localhost:8080/"
        },
        "id": "L45mYi6uwdHF",
        "outputId": "46a1e1b8-4003-4ec9-d776-8423a222bf50"
      }
    },
    {
      "cell_type": "markdown",
      "source": [
        "1. Split the string file into many substrings at line boundaries.\n",
        "2. Print out the resulting variable file_split.\n",
        "3. Complete the for-loop to split the strings into many substrings using commas as a separator element.\n",
        "\n",
        "**HINT!**\n",
        "\n",
        "* To split a string at line boundaries, use string.splitlines().\n",
        "* To print out a variable, use print(variable).\n",
        "* To split a string using a char as separator element, use string.split(char)."
      ],
      "metadata": {
        "id": "dZ81f6SbwaBy"
      }
    },
    {
      "cell_type": "code",
      "execution_count": 17,
      "source": [
        "file = 'mtv films election, a high school comedy, is a current example\\nfrom there, director steven spielberg wastes no time, taking us into the water on a midnight swim'"
      ],
      "outputs": [],
      "metadata": {
        "id": "bcA-bFVOwaj4"
      }
    },
    {
      "cell_type": "code",
      "execution_count": 19,
      "source": [
        "# Split string at line boundaries\r\n",
        "file_split = file.splitlines()\r\n",
        "\r\n",
        "# Print file_split\r\n",
        "print(file_split)\r\n",
        "\r\n",
        "# Complete for-loop to split by commas\r\n",
        "for substring in file_split:\r\n",
        "    substring_split = substring.split(\",\")\r\n",
        "    print(substring_split)"
      ],
      "outputs": [
        {
          "output_type": "stream",
          "name": "stdout",
          "text": [
            "['mtv films election, a high school comedy, is a current example', 'from there, director steven spielberg wastes no time, taking us into the water on a midnight swim']\n",
            "['mtv films election', ' a high school comedy', ' is a current example']\n",
            "['from there', ' director steven spielberg wastes no time', ' taking us into the water on a midnight swim']\n"
          ]
        }
      ],
      "metadata": {
        "colab": {
          "base_uri": "https://localhost:8080/"
        },
        "id": "idj38TiKw72r",
        "outputId": "128fbfcf-1479-4527-ed28-2d089ff6b401"
      }
    },
    {
      "cell_type": "markdown",
      "source": [],
      "metadata": {
        "id": "0S8HHaDsxwU2"
      }
    },
    {
      "cell_type": "code",
      "execution_count": 1,
      "source": [
        "movies = [\"heck , jackie doesn't even have enough money for a haircut , looks like , much less a personal hairstylist .\",\r\n",
        "\"in condor , chan plays the same character he's always played , himself , a mixture of bruce lee and tim allen , a master of both kung-fu and slapstick-fu .\"\r\n",
        "]"
      ],
      "outputs": [],
      "metadata": {}
    },
    {
      "cell_type": "code",
      "execution_count": 2,
      "source": [
        "for movie in movies:\r\n",
        "  # Find the first occurrence of word\r\n",
        "  print(movie.find('money', 12, 51))"
      ],
      "outputs": [
        {
          "output_type": "stream",
          "name": "stdout",
          "text": [
            "39\n",
            "-1\n"
          ]
        }
      ],
      "metadata": {}
    },
    {
      "cell_type": "code",
      "execution_count": null,
      "source": [
        "for movie in movies:\r\n",
        "  try:\r\n",
        "    # Find the first occurrence of word\r\n",
        "  \tprint(movie.index(\"money\", 12, 51))\r\n",
        "  except ValueError:\r\n",
        "    print(\"substring not found\")"
      ],
      "outputs": [],
      "metadata": {}
    },
    {
      "cell_type": "code",
      "execution_count": 3,
      "source": [
        "movies = \"the rest of the story isn't important because all it does is serve as a mere backdrop for the two stars to share the screen .\"\r\n"
      ],
      "outputs": [],
      "metadata": {}
    },
    {
      "cell_type": "code",
      "execution_count": 4,
      "source": [
        "# Replace negations \r\n",
        "movies_no_negation = movies.replace(\"isn't\", \"is\")\r\n",
        "\r\n",
        "# Replace important\r\n",
        "movies_antonym = movies_no_negation.replace(\"important\", \"insignificant\")\r\n",
        "\r\n",
        "# Print out\r\n",
        "print(movies_antonym)"
      ],
      "outputs": [
        {
          "output_type": "stream",
          "name": "stdout",
          "text": [
            "the rest of the story is insignificant because all it does is serve as a mere backdrop for the two stars to share the screen .\n"
          ]
        }
      ],
      "metadata": {}
    }
  ]
}