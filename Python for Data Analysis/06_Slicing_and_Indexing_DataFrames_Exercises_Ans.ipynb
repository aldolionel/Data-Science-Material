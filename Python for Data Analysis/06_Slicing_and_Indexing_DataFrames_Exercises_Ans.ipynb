{
  "nbformat": 4,
  "nbformat_minor": 0,
  "metadata": {
    "colab": {
      "name": "06. Slicing and Indexing DataFrames Exercises.ipynb",
      "provenance": []
    },
    "kernelspec": {
      "name": "python3",
      "display_name": "Python 3"
    },
    "language_info": {
      "name": "python"
    }
  },
  "cells": [
    {
      "cell_type": "code",
      "metadata": {
        "id": "yGVTVPZ8jvKX"
      },
      "source": [
        "# import pandas, numpy, and load dataset\n",
        "import pandas as pd\n",
        "import numpy as np\n",
        "import matplotlib.pyplot as plt\n",
        "import seaborn as sns"
      ],
      "execution_count": 1,
      "outputs": []
    },
    {
      "cell_type": "code",
      "metadata": {
        "colab": {
          "resources": {
            "http://localhost:8080/nbextensions/google.colab/files.js": {
              "data": "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",
              "ok": true,
              "headers": [
                [
                  "content-type",
                  "application/javascript"
                ]
              ],
              "status": 200,
              "status_text": ""
            }
          },
          "base_uri": "https://localhost:8080/",
          "height": 73
        },
        "id": "OV2bvLSGj5pD",
        "outputId": "c7110f7f-c74e-4799-f1fb-a8d10279c71a"
      },
      "source": [
        "from google.colab import files\n",
        "uploaded = files.upload()"
      ],
      "execution_count": 2,
      "outputs": [
        {
          "output_type": "display_data",
          "data": {
            "text/html": [
              "\n",
              "     <input type=\"file\" id=\"files-0941c5ca-12cc-412b-bf3f-aa0fdd8d8ee0\" name=\"files[]\" multiple disabled\n",
              "        style=\"border:none\" />\n",
              "     <output id=\"result-0941c5ca-12cc-412b-bf3f-aa0fdd8d8ee0\">\n",
              "      Upload widget is only available when the cell has been executed in the\n",
              "      current browser session. Please rerun this cell to enable.\n",
              "      </output>\n",
              "      <script src=\"/nbextensions/google.colab/files.js\"></script> "
            ],
            "text/plain": [
              "<IPython.core.display.HTML object>"
            ]
          },
          "metadata": {}
        },
        {
          "output_type": "stream",
          "name": "stdout",
          "text": [
            "Saving 04. temperatures.csv to 04. temperatures.csv\n"
          ]
        }
      ]
    },
    {
      "cell_type": "code",
      "metadata": {
        "colab": {
          "base_uri": "https://localhost:8080/",
          "height": 423
        },
        "id": "gmwuR_qSkJvo",
        "outputId": "632bb97e-7325-433c-ea8c-170c2bff8ff4"
      },
      "source": [
        "temperatures = pd.read_csv('04. temperatures.csv')\n",
        "temperatures.drop(columns=['Unnamed: 0'], inplace=True)\n",
        "temperatures"
      ],
      "execution_count": 26,
      "outputs": [
        {
          "output_type": "execute_result",
          "data": {
            "text/html": [
              "<div>\n",
              "<style scoped>\n",
              "    .dataframe tbody tr th:only-of-type {\n",
              "        vertical-align: middle;\n",
              "    }\n",
              "\n",
              "    .dataframe tbody tr th {\n",
              "        vertical-align: top;\n",
              "    }\n",
              "\n",
              "    .dataframe thead th {\n",
              "        text-align: right;\n",
              "    }\n",
              "</style>\n",
              "<table border=\"1\" class=\"dataframe\">\n",
              "  <thead>\n",
              "    <tr style=\"text-align: right;\">\n",
              "      <th></th>\n",
              "      <th>date</th>\n",
              "      <th>city</th>\n",
              "      <th>country</th>\n",
              "      <th>avg_temp_c</th>\n",
              "    </tr>\n",
              "  </thead>\n",
              "  <tbody>\n",
              "    <tr>\n",
              "      <th>0</th>\n",
              "      <td>2000-01-01</td>\n",
              "      <td>Abidjan</td>\n",
              "      <td>Côte D'Ivoire</td>\n",
              "      <td>27.293</td>\n",
              "    </tr>\n",
              "    <tr>\n",
              "      <th>1</th>\n",
              "      <td>2000-02-01</td>\n",
              "      <td>Abidjan</td>\n",
              "      <td>Côte D'Ivoire</td>\n",
              "      <td>27.685</td>\n",
              "    </tr>\n",
              "    <tr>\n",
              "      <th>2</th>\n",
              "      <td>2000-03-01</td>\n",
              "      <td>Abidjan</td>\n",
              "      <td>Côte D'Ivoire</td>\n",
              "      <td>29.061</td>\n",
              "    </tr>\n",
              "    <tr>\n",
              "      <th>3</th>\n",
              "      <td>2000-04-01</td>\n",
              "      <td>Abidjan</td>\n",
              "      <td>Côte D'Ivoire</td>\n",
              "      <td>28.162</td>\n",
              "    </tr>\n",
              "    <tr>\n",
              "      <th>4</th>\n",
              "      <td>2000-05-01</td>\n",
              "      <td>Abidjan</td>\n",
              "      <td>Côte D'Ivoire</td>\n",
              "      <td>27.547</td>\n",
              "    </tr>\n",
              "    <tr>\n",
              "      <th>...</th>\n",
              "      <td>...</td>\n",
              "      <td>...</td>\n",
              "      <td>...</td>\n",
              "      <td>...</td>\n",
              "    </tr>\n",
              "    <tr>\n",
              "      <th>16495</th>\n",
              "      <td>2013-05-01</td>\n",
              "      <td>Xian</td>\n",
              "      <td>China</td>\n",
              "      <td>18.979</td>\n",
              "    </tr>\n",
              "    <tr>\n",
              "      <th>16496</th>\n",
              "      <td>2013-06-01</td>\n",
              "      <td>Xian</td>\n",
              "      <td>China</td>\n",
              "      <td>23.522</td>\n",
              "    </tr>\n",
              "    <tr>\n",
              "      <th>16497</th>\n",
              "      <td>2013-07-01</td>\n",
              "      <td>Xian</td>\n",
              "      <td>China</td>\n",
              "      <td>25.251</td>\n",
              "    </tr>\n",
              "    <tr>\n",
              "      <th>16498</th>\n",
              "      <td>2013-08-01</td>\n",
              "      <td>Xian</td>\n",
              "      <td>China</td>\n",
              "      <td>24.528</td>\n",
              "    </tr>\n",
              "    <tr>\n",
              "      <th>16499</th>\n",
              "      <td>2013-09-01</td>\n",
              "      <td>Xian</td>\n",
              "      <td>China</td>\n",
              "      <td>NaN</td>\n",
              "    </tr>\n",
              "  </tbody>\n",
              "</table>\n",
              "<p>16500 rows × 4 columns</p>\n",
              "</div>"
            ],
            "text/plain": [
              "             date     city        country  avg_temp_c\n",
              "0      2000-01-01  Abidjan  Côte D'Ivoire      27.293\n",
              "1      2000-02-01  Abidjan  Côte D'Ivoire      27.685\n",
              "2      2000-03-01  Abidjan  Côte D'Ivoire      29.061\n",
              "3      2000-04-01  Abidjan  Côte D'Ivoire      28.162\n",
              "4      2000-05-01  Abidjan  Côte D'Ivoire      27.547\n",
              "...           ...      ...            ...         ...\n",
              "16495  2013-05-01     Xian          China      18.979\n",
              "16496  2013-06-01     Xian          China      23.522\n",
              "16497  2013-07-01     Xian          China      25.251\n",
              "16498  2013-08-01     Xian          China      24.528\n",
              "16499  2013-09-01     Xian          China         NaN\n",
              "\n",
              "[16500 rows x 4 columns]"
            ]
          },
          "metadata": {},
          "execution_count": 26
        }
      ]
    },
    {
      "cell_type": "markdown",
      "metadata": {
        "id": "pd9oiD3Ek6y6"
      },
      "source": [
        "1. Look at temperatures.\n",
        "2. Set the index of temperatures to \"city\", assigning to temperatures_ind.\n",
        "3. Look at temperatures_ind. How is it different from temperatures?\n",
        "4. Reset the index of temperatures_ind, keeping its contents.\n",
        "5. Reset the index of temperatures_ind, dropping its contents."
      ]
    },
    {
      "cell_type": "code",
      "metadata": {
        "colab": {
          "base_uri": "https://localhost:8080/"
        },
        "id": "NRuRnLAskPYm",
        "outputId": "0afb222d-3d8b-4b7e-e30b-4cd200799610"
      },
      "source": [
        "# Look at temperatures\n",
        "print(temperatures)\n",
        "\n",
        "# Index temperatures by city\n",
        "temperatures_ind = temperatures.set_index(\"city\")\n",
        "\n",
        "# Look at temperatures_ind\n",
        "print(temperatures_ind)\n",
        "\n",
        "# Reset the index, keeping its contents\n",
        "print(temperatures_ind.reset_index())\n",
        "\n",
        "# Reset the index, dropping its contents\n",
        "print(temperatures_ind.reset_index(drop=True))"
      ],
      "execution_count": 27,
      "outputs": [
        {
          "output_type": "stream",
          "name": "stdout",
          "text": [
            "             date     city        country  avg_temp_c\n",
            "0      2000-01-01  Abidjan  Côte D'Ivoire      27.293\n",
            "1      2000-02-01  Abidjan  Côte D'Ivoire      27.685\n",
            "2      2000-03-01  Abidjan  Côte D'Ivoire      29.061\n",
            "3      2000-04-01  Abidjan  Côte D'Ivoire      28.162\n",
            "4      2000-05-01  Abidjan  Côte D'Ivoire      27.547\n",
            "...           ...      ...            ...         ...\n",
            "16495  2013-05-01     Xian          China      18.979\n",
            "16496  2013-06-01     Xian          China      23.522\n",
            "16497  2013-07-01     Xian          China      25.251\n",
            "16498  2013-08-01     Xian          China      24.528\n",
            "16499  2013-09-01     Xian          China         NaN\n",
            "\n",
            "[16500 rows x 4 columns]\n",
            "               date        country  avg_temp_c\n",
            "city                                          \n",
            "Abidjan  2000-01-01  Côte D'Ivoire      27.293\n",
            "Abidjan  2000-02-01  Côte D'Ivoire      27.685\n",
            "Abidjan  2000-03-01  Côte D'Ivoire      29.061\n",
            "Abidjan  2000-04-01  Côte D'Ivoire      28.162\n",
            "Abidjan  2000-05-01  Côte D'Ivoire      27.547\n",
            "...             ...            ...         ...\n",
            "Xian     2013-05-01          China      18.979\n",
            "Xian     2013-06-01          China      23.522\n",
            "Xian     2013-07-01          China      25.251\n",
            "Xian     2013-08-01          China      24.528\n",
            "Xian     2013-09-01          China         NaN\n",
            "\n",
            "[16500 rows x 3 columns]\n",
            "          city        date        country  avg_temp_c\n",
            "0      Abidjan  2000-01-01  Côte D'Ivoire      27.293\n",
            "1      Abidjan  2000-02-01  Côte D'Ivoire      27.685\n",
            "2      Abidjan  2000-03-01  Côte D'Ivoire      29.061\n",
            "3      Abidjan  2000-04-01  Côte D'Ivoire      28.162\n",
            "4      Abidjan  2000-05-01  Côte D'Ivoire      27.547\n",
            "...        ...         ...            ...         ...\n",
            "16495     Xian  2013-05-01          China      18.979\n",
            "16496     Xian  2013-06-01          China      23.522\n",
            "16497     Xian  2013-07-01          China      25.251\n",
            "16498     Xian  2013-08-01          China      24.528\n",
            "16499     Xian  2013-09-01          China         NaN\n",
            "\n",
            "[16500 rows x 4 columns]\n",
            "             date        country  avg_temp_c\n",
            "0      2000-01-01  Côte D'Ivoire      27.293\n",
            "1      2000-02-01  Côte D'Ivoire      27.685\n",
            "2      2000-03-01  Côte D'Ivoire      29.061\n",
            "3      2000-04-01  Côte D'Ivoire      28.162\n",
            "4      2000-05-01  Côte D'Ivoire      27.547\n",
            "...           ...            ...         ...\n",
            "16495  2013-05-01          China      18.979\n",
            "16496  2013-06-01          China      23.522\n",
            "16497  2013-07-01          China      25.251\n",
            "16498  2013-08-01          China      24.528\n",
            "16499  2013-09-01          China         NaN\n",
            "\n",
            "[16500 rows x 3 columns]\n"
          ]
        }
      ]
    },
    {
      "cell_type": "markdown",
      "metadata": {
        "id": "3tdGx_KllCUi"
      },
      "source": [
        "1. Create a list called cities that contains \"Moscow\" and \"Saint Petersburg\".\n",
        "2. Use [] subsetting to filter temperatures for rows where the city column takes a value in the cities list.\n",
        "3. Use .loc[] subsetting to filter temperatures_ind for rows where the city is in the cities list."
      ]
    },
    {
      "cell_type": "code",
      "metadata": {
        "colab": {
          "base_uri": "https://localhost:8080/"
        },
        "id": "S5QS105XlE5i",
        "outputId": "4dbfd4b5-0a4f-4ba7-a9fc-89f33cd0bcb0"
      },
      "source": [
        "# Make a list of cities to subset on\n",
        "cities = [\"Moscow\", \"Saint Petersburg\"]\n",
        "\n",
        "# Subset temperatures using square brackets\n",
        "print(temperatures[temperatures['city'].isin(cities)])\n",
        "\n",
        "# Subset temperatures_ind using .loc[]\n",
        "print(temperatures_ind.loc[[\"Moscow\", \"Saint Petersburg\"]])"
      ],
      "execution_count": 28,
      "outputs": [
        {
          "output_type": "stream",
          "name": "stdout",
          "text": [
            "             date              city country  avg_temp_c\n",
            "10725  2000-01-01            Moscow  Russia      -7.313\n",
            "10726  2000-02-01            Moscow  Russia      -3.551\n",
            "10727  2000-03-01            Moscow  Russia      -1.661\n",
            "10728  2000-04-01            Moscow  Russia      10.096\n",
            "10729  2000-05-01            Moscow  Russia      10.357\n",
            "...           ...               ...     ...         ...\n",
            "13360  2013-05-01  Saint Petersburg  Russia      12.355\n",
            "13361  2013-06-01  Saint Petersburg  Russia      17.185\n",
            "13362  2013-07-01  Saint Petersburg  Russia      17.234\n",
            "13363  2013-08-01  Saint Petersburg  Russia      17.153\n",
            "13364  2013-09-01  Saint Petersburg  Russia         NaN\n",
            "\n",
            "[330 rows x 4 columns]\n",
            "                        date country  avg_temp_c\n",
            "city                                            \n",
            "Moscow            2000-01-01  Russia      -7.313\n",
            "Moscow            2000-02-01  Russia      -3.551\n",
            "Moscow            2000-03-01  Russia      -1.661\n",
            "Moscow            2000-04-01  Russia      10.096\n",
            "Moscow            2000-05-01  Russia      10.357\n",
            "...                      ...     ...         ...\n",
            "Saint Petersburg  2013-05-01  Russia      12.355\n",
            "Saint Petersburg  2013-06-01  Russia      17.185\n",
            "Saint Petersburg  2013-07-01  Russia      17.234\n",
            "Saint Petersburg  2013-08-01  Russia      17.153\n",
            "Saint Petersburg  2013-09-01  Russia         NaN\n",
            "\n",
            "[330 rows x 3 columns]\n"
          ]
        }
      ]
    },
    {
      "cell_type": "markdown",
      "metadata": {
        "id": "bVIDBB4tlJE-"
      },
      "source": [
        "1. Set the index of temperatures to the \"country\" and \"city\" columns, and assign this to temperatures_ind.\n",
        "2. Specify two country/city pairs to keep: \"Brazil\"/\"Rio De Janeiro\" and \"Pakistan\"/\"Lahore\", assigning to rows_to_keep.\n",
        "3. Print and subset temperatures_ind for rows_to_keep using .loc[]."
      ]
    },
    {
      "cell_type": "code",
      "metadata": {
        "colab": {
          "base_uri": "https://localhost:8080/"
        },
        "id": "DmEwSPTFlLdh",
        "outputId": "29e2440e-1069-461f-93e4-e97a99e7a793"
      },
      "source": [
        "# Index temperatures by country & city\n",
        "temperatures_ind = temperatures.set_index([\"country\", \"city\"])\n",
        "\n",
        "# List of tuples: Brazil, Rio De Janeiro & Pakistan, Lahore\n",
        "rows_to_keep = [(\"Brazil\", \"Rio De Janeiro\"), (\"Pakistan\", \"Lahore\")]\n",
        "\n",
        "# Subset for rows to keep\n",
        "print(temperatures_ind.loc[rows_to_keep])"
      ],
      "execution_count": 29,
      "outputs": [
        {
          "output_type": "stream",
          "name": "stdout",
          "text": [
            "                               date  avg_temp_c\n",
            "country  city                                  \n",
            "Brazil   Rio De Janeiro  2000-01-01      25.974\n",
            "         Rio De Janeiro  2000-02-01      26.699\n",
            "         Rio De Janeiro  2000-03-01      26.270\n",
            "         Rio De Janeiro  2000-04-01      25.750\n",
            "         Rio De Janeiro  2000-05-01      24.356\n",
            "...                             ...         ...\n",
            "Pakistan Lahore          2013-05-01      33.457\n",
            "         Lahore          2013-06-01      34.456\n",
            "         Lahore          2013-07-01      33.279\n",
            "         Lahore          2013-08-01      31.511\n",
            "         Lahore          2013-09-01         NaN\n",
            "\n",
            "[330 rows x 2 columns]\n"
          ]
        }
      ]
    },
    {
      "cell_type": "markdown",
      "metadata": {
        "id": "juLSLkjmlXXW"
      },
      "source": [
        "1. Sort temperatures_ind by the index values.\n",
        "2. Sort temperatures_ind by the index values at the \"city\" level.\n",
        "3. Sort temperatures_ind by ascending country then descending city."
      ]
    },
    {
      "cell_type": "code",
      "metadata": {
        "colab": {
          "base_uri": "https://localhost:8080/"
        },
        "id": "Rvp74s8nlZsN",
        "outputId": "627d9cde-c9fc-429a-e904-9093f10719c1"
      },
      "source": [
        "# Sort temperatures_ind by index values\n",
        "print(temperatures_ind.sort_index())\n",
        "\n",
        "# Sort temperatures_ind by index values at the city level\n",
        "print(temperatures_ind.sort_index(level = 'city'))\n",
        "\n",
        "# Sort temperatures_ind by country then descending city\n",
        "print(temperatures_ind.sort_index(level = ['country', 'city'], ascending = [True, False]))"
      ],
      "execution_count": 30,
      "outputs": [
        {
          "output_type": "stream",
          "name": "stdout",
          "text": [
            "                          date  avg_temp_c\n",
            "country     city                          \n",
            "Afghanistan Kabul   2000-01-01       3.326\n",
            "            Kabul   2000-02-01       3.454\n",
            "            Kabul   2000-03-01       9.612\n",
            "            Kabul   2000-04-01      17.925\n",
            "            Kabul   2000-05-01      24.658\n",
            "...                        ...         ...\n",
            "Zimbabwe    Harare  2013-05-01      18.298\n",
            "            Harare  2013-06-01      17.020\n",
            "            Harare  2013-07-01      16.299\n",
            "            Harare  2013-08-01      19.232\n",
            "            Harare  2013-09-01         NaN\n",
            "\n",
            "[16500 rows x 2 columns]\n",
            "                             date  avg_temp_c\n",
            "country       city                           \n",
            "Côte D'Ivoire Abidjan  2000-01-01      27.293\n",
            "              Abidjan  2000-02-01      27.685\n",
            "              Abidjan  2000-03-01      29.061\n",
            "              Abidjan  2000-04-01      28.162\n",
            "              Abidjan  2000-05-01      27.547\n",
            "...                           ...         ...\n",
            "China         Xian     2013-05-01      18.979\n",
            "              Xian     2013-06-01      23.522\n",
            "              Xian     2013-07-01      25.251\n",
            "              Xian     2013-08-01      24.528\n",
            "              Xian     2013-09-01         NaN\n",
            "\n",
            "[16500 rows x 2 columns]\n",
            "                          date  avg_temp_c\n",
            "country     city                          \n",
            "Afghanistan Kabul   2000-01-01       3.326\n",
            "            Kabul   2000-02-01       3.454\n",
            "            Kabul   2000-03-01       9.612\n",
            "            Kabul   2000-04-01      17.925\n",
            "            Kabul   2000-05-01      24.658\n",
            "...                        ...         ...\n",
            "Zimbabwe    Harare  2013-05-01      18.298\n",
            "            Harare  2013-06-01      17.020\n",
            "            Harare  2013-07-01      16.299\n",
            "            Harare  2013-08-01      19.232\n",
            "            Harare  2013-09-01         NaN\n",
            "\n",
            "[16500 rows x 2 columns]\n"
          ]
        }
      ]
    },
    {
      "cell_type": "markdown",
      "metadata": {
        "id": "TXAmRRybleDN"
      },
      "source": [
        "1. Sort the index of temperatures_ind.\n",
        "2. Use slicing with .loc[ ] to get these subsets:\n",
        "*   from Pakistan to Russia.\n",
        "*   from Lahore to Moscow. (This will return nonsense.)\n",
        "*   from Pakistan, Lahore to Russia, Moscow."
      ]
    },
    {
      "cell_type": "code",
      "metadata": {
        "colab": {
          "base_uri": "https://localhost:8080/"
        },
        "id": "d6UI0T5Ylvkn",
        "outputId": "4580baa8-d639-4d54-d976-28d5629744c2"
      },
      "source": [
        "# Sort the index of temperatures_ind\n",
        "temperatures_srt = temperatures_ind.sort_index()\n",
        "\n",
        "# Subset rows from Pakistan to Russia\n",
        "print(temperatures_srt.loc['Pakistan':'Russia'])\n",
        "\n",
        "# Try to subset rows from Lahore to Moscow\n",
        "print(temperatures_srt.loc['Lahore':'Moscow'])\n",
        "\n",
        "# Subset rows from Pakistan, Lahore to Russia, Moscow\n",
        "print(temperatures_srt.loc[('Pakistan','Lahore'): ('Russia','Moscow')])"
      ],
      "execution_count": 31,
      "outputs": [
        {
          "output_type": "stream",
          "name": "stdout",
          "text": [
            "                                 date  avg_temp_c\n",
            "country  city                                    \n",
            "Pakistan Faisalabad        2000-01-01      12.792\n",
            "         Faisalabad        2000-02-01      14.339\n",
            "         Faisalabad        2000-03-01      20.309\n",
            "         Faisalabad        2000-04-01      29.072\n",
            "         Faisalabad        2000-05-01      34.845\n",
            "...                               ...         ...\n",
            "Russia   Saint Petersburg  2013-05-01      12.355\n",
            "         Saint Petersburg  2013-06-01      17.185\n",
            "         Saint Petersburg  2013-07-01      17.234\n",
            "         Saint Petersburg  2013-08-01      17.153\n",
            "         Saint Petersburg  2013-09-01         NaN\n",
            "\n",
            "[1155 rows x 2 columns]\n",
            "                          date  avg_temp_c\n",
            "country city                              \n",
            "Mexico  Mexico      2000-01-01      12.694\n",
            "        Mexico      2000-02-01      14.677\n",
            "        Mexico      2000-03-01      17.376\n",
            "        Mexico      2000-04-01      18.294\n",
            "        Mexico      2000-05-01      18.562\n",
            "...                        ...         ...\n",
            "Morocco Casablanca  2013-05-01      19.217\n",
            "        Casablanca  2013-06-01      23.649\n",
            "        Casablanca  2013-07-01      27.488\n",
            "        Casablanca  2013-08-01      27.952\n",
            "        Casablanca  2013-09-01         NaN\n",
            "\n",
            "[330 rows x 2 columns]\n",
            "                       date  avg_temp_c\n",
            "country  city                          \n",
            "Pakistan Lahore  2000-01-01      12.792\n",
            "         Lahore  2000-02-01      14.339\n",
            "         Lahore  2000-03-01      20.309\n",
            "         Lahore  2000-04-01      29.072\n",
            "         Lahore  2000-05-01      34.845\n",
            "...                     ...         ...\n",
            "Russia   Moscow  2013-05-01      16.152\n",
            "         Moscow  2013-06-01      18.718\n",
            "         Moscow  2013-07-01      18.136\n",
            "         Moscow  2013-08-01      17.485\n",
            "         Moscow  2013-09-01         NaN\n",
            "\n",
            "[660 rows x 2 columns]\n"
          ]
        }
      ]
    },
    {
      "cell_type": "markdown",
      "metadata": {
        "id": "72ItYf_zlz9O"
      },
      "source": [
        "1. Use .loc[ ] slicing to subset rows from India, Hyderabad to Iraq, Baghdad.\n",
        "2. Use .loc[ ] slicing to subset columns from date to avg_temp_c.\n",
        "3. Slice in both directions at once from Hyderabad to Baghdad, and date to avg_temp_c."
      ]
    },
    {
      "cell_type": "code",
      "metadata": {
        "colab": {
          "base_uri": "https://localhost:8080/"
        },
        "id": "k42tOmBul5R8",
        "outputId": "3615b948-4718-42f7-ea58-3c1ebd962426"
      },
      "source": [
        "# Subset rows from India, Hyderabad to Iraq, Baghdad\n",
        "print(temperatures_srt.loc[('India', 'Hyderabad') : ('Iraq', 'Baghdad')])\n",
        "\n",
        "# Subset columns from date to avg_temp_c\n",
        "print(temperatures_srt.loc[:, 'date': 'avg_temp_c'])\n",
        "\n",
        "# Subset in both directions at once\n",
        "print(temperatures_srt.loc[('India', 'Hyderabad') : ('Iraq', 'Baghdad'), 'date' : 'avg_temp_c'])"
      ],
      "execution_count": 32,
      "outputs": [
        {
          "output_type": "stream",
          "name": "stdout",
          "text": [
            "                         date  avg_temp_c\n",
            "country city                             \n",
            "India   Hyderabad  2000-01-01      23.779\n",
            "        Hyderabad  2000-02-01      25.826\n",
            "        Hyderabad  2000-03-01      28.821\n",
            "        Hyderabad  2000-04-01      32.698\n",
            "        Hyderabad  2000-05-01      32.438\n",
            "...                       ...         ...\n",
            "Iraq    Baghdad    2013-05-01      28.673\n",
            "        Baghdad    2013-06-01      33.803\n",
            "        Baghdad    2013-07-01      36.392\n",
            "        Baghdad    2013-08-01      35.463\n",
            "        Baghdad    2013-09-01         NaN\n",
            "\n",
            "[2145 rows x 2 columns]\n",
            "                          date  avg_temp_c\n",
            "country     city                          \n",
            "Afghanistan Kabul   2000-01-01       3.326\n",
            "            Kabul   2000-02-01       3.454\n",
            "            Kabul   2000-03-01       9.612\n",
            "            Kabul   2000-04-01      17.925\n",
            "            Kabul   2000-05-01      24.658\n",
            "...                        ...         ...\n",
            "Zimbabwe    Harare  2013-05-01      18.298\n",
            "            Harare  2013-06-01      17.020\n",
            "            Harare  2013-07-01      16.299\n",
            "            Harare  2013-08-01      19.232\n",
            "            Harare  2013-09-01         NaN\n",
            "\n",
            "[16500 rows x 2 columns]\n",
            "                         date  avg_temp_c\n",
            "country city                             \n",
            "India   Hyderabad  2000-01-01      23.779\n",
            "        Hyderabad  2000-02-01      25.826\n",
            "        Hyderabad  2000-03-01      28.821\n",
            "        Hyderabad  2000-04-01      32.698\n",
            "        Hyderabad  2000-05-01      32.438\n",
            "...                       ...         ...\n",
            "Iraq    Baghdad    2013-05-01      28.673\n",
            "        Baghdad    2013-06-01      33.803\n",
            "        Baghdad    2013-07-01      36.392\n",
            "        Baghdad    2013-08-01      35.463\n",
            "        Baghdad    2013-09-01         NaN\n",
            "\n",
            "[2145 rows x 2 columns]\n"
          ]
        }
      ]
    },
    {
      "cell_type": "markdown",
      "metadata": {
        "id": "oFZurYnzl9a3"
      },
      "source": [
        "1. Use Boolean conditions, not .isin() or .loc[], and the full date \"yyyy-mm-dd\", to subset temperatures for rows in 2010 and 2011 and print the results.\n",
        "2. Set the index to the date column and sort it.\n",
        "3. Use .loc[] to subset temperatures_ind for rows in 2010 and 2011.\n",
        "4. Use .loc[] to subset temperatures_ind for rows from Aug 2010 to Feb 2011."
      ]
    },
    {
      "cell_type": "code",
      "metadata": {
        "colab": {
          "base_uri": "https://localhost:8080/"
        },
        "id": "v_gX-golmBjI",
        "outputId": "01b307f5-45bc-4a5e-f5e7-b6cc411066ce"
      },
      "source": [
        "# Use Boolean conditions to subset temperatures for rows in 2010 and 2011\n",
        "temperatures_bool = temperatures[(temperatures[\"date\"] >= \"2010-01-01\") & (temperatures[\"date\"] <= \"2011-12-31\")]\n",
        "print(temperatures_bool)\n",
        "\n",
        "# Set date as an index and sort the index\n",
        "temperatures_ind = temperatures.set_index(\"date\").sort_index()\n",
        "\n",
        "# Use .loc[] to subset temperatures_ind for rows in 2010 and 2011\n",
        "print(temperatures_ind.loc[\"2010\":\"2011\"])\n",
        "\n",
        "# Use .loc[] to subset temperatures_ind for rows from Aug 2010 to Feb 2011\n",
        "print(temperatures_ind.loc[\"2010-08\":\"2011-02\"])"
      ],
      "execution_count": 33,
      "outputs": [
        {
          "output_type": "stream",
          "name": "stdout",
          "text": [
            "             date     city        country  avg_temp_c\n",
            "120    2010-01-01  Abidjan  Côte D'Ivoire      28.270\n",
            "121    2010-02-01  Abidjan  Côte D'Ivoire      29.262\n",
            "122    2010-03-01  Abidjan  Côte D'Ivoire      29.596\n",
            "123    2010-04-01  Abidjan  Côte D'Ivoire      29.068\n",
            "124    2010-05-01  Abidjan  Côte D'Ivoire      28.258\n",
            "...           ...      ...            ...         ...\n",
            "16474  2011-08-01     Xian          China      23.069\n",
            "16475  2011-09-01     Xian          China      16.775\n",
            "16476  2011-10-01     Xian          China      12.587\n",
            "16477  2011-11-01     Xian          China       7.543\n",
            "16478  2011-12-01     Xian          China      -0.490\n",
            "\n",
            "[2400 rows x 4 columns]\n",
            "                  city    country  avg_temp_c\n",
            "date                                         \n",
            "2010-01-01  Faisalabad   Pakistan      11.810\n",
            "2010-01-01   Melbourne  Australia      20.016\n",
            "2010-01-01   Chongqing      China       7.921\n",
            "2010-01-01   São Paulo     Brazil      23.738\n",
            "2010-01-01   Guangzhou      China      14.136\n",
            "...                ...        ...         ...\n",
            "2010-12-01     Jakarta  Indonesia      26.602\n",
            "2010-12-01       Gizeh      Egypt      16.530\n",
            "2010-12-01      Nagpur      India      19.120\n",
            "2010-12-01      Sydney  Australia      19.559\n",
            "2010-12-01    Salvador     Brazil      26.265\n",
            "\n",
            "[1200 rows x 3 columns]\n",
            "                     city        country  avg_temp_c\n",
            "date                                                \n",
            "2010-08-01       Calcutta          India      30.226\n",
            "2010-08-01           Pune          India      24.941\n",
            "2010-08-01          Izmir         Turkey      28.352\n",
            "2010-08-01        Tianjin          China      25.543\n",
            "2010-08-01         Manila    Philippines      27.101\n",
            "...                   ...            ...         ...\n",
            "2011-01-01  Dar Es Salaam       Tanzania      28.541\n",
            "2011-01-01        Nairobi          Kenya      17.768\n",
            "2011-01-01    Addis Abeba       Ethiopia      17.708\n",
            "2011-01-01        Nanjing          China       0.144\n",
            "2011-01-01       New York  United States      -4.463\n",
            "\n",
            "[600 rows x 3 columns]\n"
          ]
        }
      ]
    },
    {
      "cell_type": "markdown",
      "metadata": {
        "id": "E4IJYEmVmJDl"
      },
      "source": [
        "Use .iloc[] on temperatures to take subsets.\n",
        "\n",
        "1. Get the 23rd row, 2nd column (index positions 22 and 1).\n",
        "2. Get the first 5 rows (index positions 0 to 5).\n",
        "3. Get all rows, columns 3 and 4 (index positions 2 to 4).\n",
        "4. Get the first 5 rows, columns 3 and 4."
      ]
    },
    {
      "cell_type": "code",
      "metadata": {
        "colab": {
          "base_uri": "https://localhost:8080/"
        },
        "id": "PLANdlapmHoN",
        "outputId": "e47e14d8-a032-4de3-ec9d-fc712a1987e6"
      },
      "source": [
        "# Get 23rd row, 2nd column (index 22, 1)\n",
        "print(temperatures.iloc[23, 1])\n",
        "\n",
        "# Use slicing to get the first 5 rows\n",
        "print(temperatures.iloc[:5])\n",
        "\n",
        "# Use slicing to get columns 3 to 4\n",
        "print(temperatures.iloc[:, 2:4])\n",
        "\n",
        "# Use slicing in both directions at once\n",
        "print(temperatures.iloc[:5,2:4])"
      ],
      "execution_count": 34,
      "outputs": [
        {
          "output_type": "stream",
          "name": "stdout",
          "text": [
            "Abidjan\n",
            "         date     city        country  avg_temp_c\n",
            "0  2000-01-01  Abidjan  Côte D'Ivoire      27.293\n",
            "1  2000-02-01  Abidjan  Côte D'Ivoire      27.685\n",
            "2  2000-03-01  Abidjan  Côte D'Ivoire      29.061\n",
            "3  2000-04-01  Abidjan  Côte D'Ivoire      28.162\n",
            "4  2000-05-01  Abidjan  Côte D'Ivoire      27.547\n",
            "             country  avg_temp_c\n",
            "0      Côte D'Ivoire      27.293\n",
            "1      Côte D'Ivoire      27.685\n",
            "2      Côte D'Ivoire      29.061\n",
            "3      Côte D'Ivoire      28.162\n",
            "4      Côte D'Ivoire      27.547\n",
            "...              ...         ...\n",
            "16495          China      18.979\n",
            "16496          China      23.522\n",
            "16497          China      25.251\n",
            "16498          China      24.528\n",
            "16499          China         NaN\n",
            "\n",
            "[16500 rows x 2 columns]\n",
            "         country  avg_temp_c\n",
            "0  Côte D'Ivoire      27.293\n",
            "1  Côte D'Ivoire      27.685\n",
            "2  Côte D'Ivoire      29.061\n",
            "3  Côte D'Ivoire      28.162\n",
            "4  Côte D'Ivoire      27.547\n"
          ]
        }
      ]
    },
    {
      "cell_type": "markdown",
      "metadata": {
        "id": "jVlCnzDsmUtR"
      },
      "source": [
        "1. Add a year column to temperatures, from the year component of the date column.\n",
        "2. Make a pivot table of the avg_temp_c column, with country and city as rows, and year as columns. Assign to temp_by_country_city_vs_year, and look at the result."
      ]
    },
    {
      "cell_type": "code",
      "metadata": {
        "colab": {
          "base_uri": "https://localhost:8080/"
        },
        "id": "qJ4QpjJDmUYI",
        "outputId": "f6af0a04-ee72-419c-d808-6b8c1d227b24"
      },
      "source": [
        "# Add a year column to temperatures\n",
        "temperatures['year'] = pd.to_datetime(temperatures['date'], errors='coerce')\n",
        "\n",
        "# Pivot avg_temp_c by country and city vs year\n",
        "temp_by_country_city_vs_year = temperatures.pivot_table('avg_temp_c', index = ['country', 'city'], columns = 'year')\n",
        "\n",
        "# See the result\n",
        "print(temp_by_country_city_vs_year)"
      ],
      "execution_count": 35,
      "outputs": [
        {
          "output_type": "stream",
          "name": "stdout",
          "text": [
            "year                            2000-01-01  2000-02-01  ...  2013-08-01  2013-09-01\n",
            "country       city                                      ...                        \n",
            "Afghanistan   Kabul                  3.326       3.454  ...      24.974         NaN\n",
            "Angola        Luanda                25.077      25.493  ...      21.130         NaN\n",
            "Australia     Melbourne             18.527      22.095  ...      10.441         NaN\n",
            "              Sydney                18.470      20.713  ...      16.126         NaN\n",
            "Bangladesh    Dhaka                 18.829      20.947  ...      29.154         NaN\n",
            "...                                    ...         ...  ...         ...         ...\n",
            "United States Chicago                0.137       4.083  ...      22.230      19.977\n",
            "              Los Angeles           10.772      10.262  ...      24.232      23.301\n",
            "              New York              -3.168      -0.162  ...      21.001      17.408\n",
            "Vietnam       Ho Chi Minh City      26.647      26.672  ...      28.314         NaN\n",
            "Zimbabwe      Harare                22.119      21.569  ...      19.232         NaN\n",
            "\n",
            "[100 rows x 165 columns]\n"
          ]
        }
      ]
    },
    {
      "cell_type": "markdown",
      "metadata": {
        "id": "n22Rk26om71C"
      },
      "source": [
        ""
      ]
    },
    {
      "cell_type": "code",
      "metadata": {
        "colab": {
          "base_uri": "https://localhost:8080/"
        },
        "id": "Z8woItzum9vY",
        "outputId": "6042bf7d-89be-4c88-fabf-b6f5309c04be"
      },
      "source": [
        "# Subset for Egypt to India\n",
        "print(temp_by_country_city_vs_year.loc[\"Egypt\" : 'India'])\n",
        "\n",
        "# Subset for Egypt, Cairo to India, Delhi\n",
        "print(temp_by_country_city_vs_year.loc[('Egypt', 'Cairo'):('India', 'Delhi')])\n",
        "\n",
        "# Subset in both directions at once\n",
        "print(temp_by_country_city_vs_year.loc[('Egypt', 'Cairo'):('India', 'Delhi'), '2005':'2010'])"
      ],
      "execution_count": 36,
      "outputs": [
        {
          "output_type": "stream",
          "name": "stdout",
          "text": [
            "year                  2000-01-01  2000-02-01  ...  2013-08-01  2013-09-01\n",
            "country  city                                 ...                        \n",
            "Egypt    Alexandria       13.579      14.300  ...      27.453         NaN\n",
            "         Cairo            12.669      13.728  ...      28.588         NaN\n",
            "         Gizeh            12.669      13.728  ...      28.588         NaN\n",
            "Ethiopia Addis Abeba      17.391      19.183  ...      19.005         NaN\n",
            "France   Paris             3.845       6.587  ...      19.235         NaN\n",
            "Germany  Berlin            1.324       4.718  ...      19.335         NaN\n",
            "India    Ahmadabad        20.781      21.246  ...      27.512         NaN\n",
            "         Bangalore        23.673      25.351  ...      25.236         NaN\n",
            "         Bombay           25.599      24.076  ...      26.953         NaN\n",
            "         Calcutta         19.196      21.275  ...      29.539         NaN\n",
            "         Delhi            15.201      16.388  ...      29.900         NaN\n",
            "         Hyderabad        23.779      25.826  ...      26.923         NaN\n",
            "         Jaipur           16.837      17.592  ...      28.505         NaN\n",
            "         Kanpur           15.152      16.919  ...      29.250         NaN\n",
            "         Lakhnau          15.152      16.919  ...      29.250         NaN\n",
            "         Madras           25.143      26.705  ...      30.513         NaN\n",
            "         Nagpur           20.086      21.229  ...      25.930         NaN\n",
            "         New Delhi        15.201      16.388  ...      29.900         NaN\n",
            "         Pune             21.620      22.414  ...      24.444         NaN\n",
            "         Surat            21.588      22.293  ...      27.187         NaN\n",
            "\n",
            "[20 rows x 165 columns]\n",
            "year                  2000-01-01  2000-02-01  ...  2013-08-01  2013-09-01\n",
            "country  city                                 ...                        \n",
            "Egypt    Cairo            12.669      13.728  ...      28.588         NaN\n",
            "         Gizeh            12.669      13.728  ...      28.588         NaN\n",
            "Ethiopia Addis Abeba      17.391      19.183  ...      19.005         NaN\n",
            "France   Paris             3.845       6.587  ...      19.235         NaN\n",
            "Germany  Berlin            1.324       4.718  ...      19.335         NaN\n",
            "India    Ahmadabad        20.781      21.246  ...      27.512         NaN\n",
            "         Bangalore        23.673      25.351  ...      25.236         NaN\n",
            "         Bombay           25.599      24.076  ...      26.953         NaN\n",
            "         Calcutta         19.196      21.275  ...      29.539         NaN\n",
            "         Delhi            15.201      16.388  ...      29.900         NaN\n",
            "\n",
            "[10 rows x 165 columns]\n",
            "year                  2005-01-01  2005-02-01  ...  2010-11-01  2010-12-01\n",
            "country  city                                 ...                        \n",
            "Egypt    Cairo            14.030      14.640  ...      21.258      16.530\n",
            "         Gizeh            14.030      14.640  ...      21.258      16.530\n",
            "Ethiopia Addis Abeba      17.940      19.785  ...      17.571      17.080\n",
            "France   Paris             5.053       2.884  ...       6.744       0.182\n",
            "Germany  Berlin            3.103      -0.236  ...       5.283      -4.412\n",
            "India    Ahmadabad        18.898      21.815  ...      25.340      20.183\n",
            "         Bangalore        23.972      25.618  ...      24.021      22.719\n",
            "         Bombay           24.447      24.707  ...      28.883      25.460\n",
            "         Calcutta         19.341      23.576  ...      25.437      19.603\n",
            "         Delhi            14.383      17.669  ...      21.757      15.393\n",
            "\n",
            "[10 rows x 72 columns]\n"
          ]
        }
      ]
    },
    {
      "cell_type": "markdown",
      "metadata": {
        "id": "RBeMtZ-BnC0B"
      },
      "source": [
        ""
      ]
    },
    {
      "cell_type": "code",
      "metadata": {
        "colab": {
          "base_uri": "https://localhost:8080/"
        },
        "id": "ADSRl6-bnDYK",
        "outputId": "bc6a53bb-7e12-4d52-8ef0-93baa5564d8f"
      },
      "source": [
        "# Get the worldwide mean temp by year\n",
        "mean_temp_by_year = temp_by_country_city_vs_year.mean()\n",
        "\n",
        "# Filter for the year that had the highest mean temp\n",
        "print(mean_temp_by_year[mean_temp_by_year == mean_temp_by_year.max()])\n",
        "\n",
        "# Get the mean temp by city\n",
        "mean_temp_by_city = temp_by_country_city_vs_year.mean(axis=\"columns\")\n",
        "\n",
        "# Filter for the city that had the lowest mean temp\n",
        "print(mean_temp_by_city[mean_temp_by_city == mean_temp_by_city.min()])"
      ],
      "execution_count": 37,
      "outputs": [
        {
          "output_type": "stream",
          "name": "stdout",
          "text": [
            "year\n",
            "2002-07-01    25.35836\n",
            "dtype: float64\n",
            "country  city  \n",
            "China    Harbin    4.858494\n",
            "dtype: float64\n"
          ]
        }
      ]
    }
  ]
}