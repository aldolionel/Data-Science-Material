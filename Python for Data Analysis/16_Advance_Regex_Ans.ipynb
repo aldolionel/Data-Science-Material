{
  "nbformat": 4,
  "nbformat_minor": 0,
  "metadata": {
    "colab": {
      "name": "16. Advance Regex Ans.ipynb",
      "provenance": []
    },
    "kernelspec": {
      "name": "python3",
      "display_name": "Python 3"
    },
    "language_info": {
      "name": "python"
    }
  },
  "cells": [
    {
      "cell_type": "code",
      "metadata": {
        "id": "6kGtuvHbu7II"
      },
      "source": [
        "# import pandas, numpy, and load dataset\n",
        "import pandas as pd\n",
        "import numpy as np\n",
        "import matplotlib.pyplot as plt\n",
        "import seaborn as sns\n",
        "import re"
      ],
      "execution_count": 4,
      "outputs": []
    },
    {
      "cell_type": "markdown",
      "metadata": {
        "id": "VrkAN_q7v3PL"
      },
      "source": [
        "1. Complete the regex to match the email capturing only the name part. The name part appears before the @.\n",
        "2. Find all matches of the regex in each element of sentiment_analysis analysis. Assign it to the variable email_matched.\n",
        "3. Complete the .format() method to print the results captured in each element of sentiment_analysis analysis.\n",
        "\n",
        "**HINT!**\n",
        "\n",
        "* To capture a group, place parentheses to surround that group: (group)regex. To match any lowercase letter use a-z, any uppercase use A-Z and numbers 0-9. Use [] to indicate optional characters. Use + to match once or more times. @ will match itself.\n",
        "* To find all matches of a regex, use .findall().\n",
        "* Remember the .format() syntax: \"text {}\".format(string)"
      ]
    },
    {
      "cell_type": "code",
      "metadata": {
        "id": "xliXxIyKv2q-"
      },
      "source": [
        "sentiment_analysis = ['Just got ur newsletter, those fares really are unbelievable. Write to statravelAU@gmail.com or statravelpo@hotmail.com. They have amazing prices',\n",
        " 'I should have paid more attention when we covered photoshop in my webpage design class in undergrad. Contact me Hollywoodheat34@msn.net.',\n",
        " 'hey missed ya at the meeting. Read your email! msdrama098@hotmail.com']"
      ],
      "execution_count": 2,
      "outputs": []
    },
    {
      "cell_type": "code",
      "metadata": {
        "colab": {
          "base_uri": "https://localhost:8080/"
        },
        "id": "oD9DzjRkw69I",
        "outputId": "9b7a80d2-82f3-43f8-e335-d28de8225074"
      },
      "source": [
        "# Write a regex that matches email\n",
        "regex_email = r\"([A-Za-z0-9]+)@\\S+\"\n",
        "\n",
        "for tweet in sentiment_analysis:\n",
        "    # Find all matches of regex in each tweet\n",
        "    email_matched = re.findall(regex_email, tweet)\n",
        "\n",
        "    # Complete the format method to print the results\n",
        "    print(\"Lists of users found in this tweet: {}\".format(email_matched))"
      ],
      "execution_count": 5,
      "outputs": [
        {
          "output_type": "stream",
          "name": "stdout",
          "text": [
            "Lists of users found in this tweet: ['statravelAU', 'statravelpo']\n",
            "Lists of users found in this tweet: ['Hollywoodheat34']\n",
            "Lists of users found in this tweet: ['msdrama098']\n"
          ]
        }
      ]
    },
    {
      "cell_type": "markdown",
      "metadata": {
        "id": "qkS02Cu7xSSN"
      },
      "source": [
        "1. Import the re module.\n",
        "2. Complete the regular expression to match and capture all the flight information required. Only the first parenthesis were placed for you.\n",
        "3. Find all the matches corresponding to each piece of information about the flight. Assign it to flight_matches.\n",
        "4. Complete the format method with the elements contained in flight_matches. In the first line print the airline,and the flight number. In the second line, the departure and destination. In the third line, the date.\n",
        "\n",
        "**HINT!**\n",
        "\n",
        "* To match uppercase letters use A-Z inside []. To match numbers \\d. Use {m} to specify m repeated times. Capture groups by placing the expression inside parentheses. Only the first pair was placed for you.\n",
        "* findall() returns tuples. The n group capture will be the n element in the tuple. You can access it by doing tuple[0][n].\n"
      ]
    },
    {
      "cell_type": "code",
      "metadata": {
        "id": "1YvgRupzxSjO"
      },
      "source": [
        "flight = 'Subject: You are now ready to fly. Here you have your boarding pass IB3723 AMS-MAD 06OCT'"
      ],
      "execution_count": 6,
      "outputs": []
    },
    {
      "cell_type": "code",
      "metadata": {
        "colab": {
          "base_uri": "https://localhost:8080/"
        },
        "id": "b9-aeNs7xoMf",
        "outputId": "dd90f179-b99a-4aab-e704-a9a60eb3b299"
      },
      "source": [
        "# Import re\n",
        "import re\n",
        "\n",
        "# Write regex to capture information of the flight\n",
        "regex = r\"([A-Z]{2})(\\d{4})\\s([A-Z]{3})-([A-Z]{3})\\s(\\d{2}[A-Z]{3})\"\n",
        "\n",
        "# Find all matches of the flight information\n",
        "flight_matches = re.findall(regex, flight)\n",
        "    \n",
        "#Print the matches\n",
        "print(\"Airline: {} Flight number: {}\".format(flight_matches[0][0], flight_matches[0][1]))\n",
        "print(\"Departure: {} Destination: {}\".format(flight_matches[0][2], flight_matches[0][3]))\n",
        "print(\"Date: {}\".format(flight_matches[0][4]))"
      ],
      "execution_count": 7,
      "outputs": [
        {
          "output_type": "stream",
          "name": "stdout",
          "text": [
            "Airline: IB Flight number: 3723\n",
            "Departure: AMS Destination: MAD\n",
            "Date: 06OCT\n"
          ]
        }
      ]
    },
    {
      "cell_type": "markdown",
      "metadata": {
        "id": "a93gX3LexuIC"
      },
      "source": [
        "1. Complete the regular expression to capture the words love or like or enjoy. Match and capture the words movie or concert. Match and capture anything appearing until the ..\n",
        "2. Find all matches of the regex in each element of sentiment_analysis. \n",
        "3. Assign them to positive_matches.\n",
        "4. Complete the .format() method to print out the results contained in positive_matches for each element in sentiment_analysis.\n",
        "\n",
        "**HINT!**\n",
        "\n",
        "* Use | between the optional words you want to capture inside the parentheses (). Use the . metacharacter together with the plus quantifier if you want to match any type of character. Consider using a non-greedy quantifier adding ?.\n",
        "* To find all matches, use .findall().\n",
        "* Remember the .format() syntax: \"text {}\".format(variable)."
      ]
    },
    {
      "cell_type": "code",
      "metadata": {
        "id": "3rZ5KHN6xuuI"
      },
      "source": [
        "sentiment_analysis = ['I totally love the concert The Book of Souls World Tour. It kinda amazing!',\n",
        " 'I enjoy the movie Wreck-It Ralph. I watched with my boyfriend.',\n",
        " \"I still like the movie Wish Upon a Star. Too bad Disney doesn't show it anymore.\"]"
      ],
      "execution_count": 8,
      "outputs": []
    },
    {
      "cell_type": "code",
      "metadata": {
        "colab": {
          "base_uri": "https://localhost:8080/"
        },
        "id": "EqNKSoTix9nz",
        "outputId": "f9824592-ad7e-4f6b-8e14-c2a4f283d153"
      },
      "source": [
        "# Write a regex that matches sentences with the optional words\n",
        "regex_positive = r\"(love|like|enjoy).+?(movie|concert)\\s(.+?)\\.\"\n",
        "\n",
        "for tweet in sentiment_analysis:\n",
        "\t# Find all matches of regex in tweet\n",
        "    positive_matches = re.findall(regex_positive, tweet)\n",
        "    \n",
        "    # Complete format to print out the results\n",
        "    print(\"Positive comments found {}\".format(positive_matches))"
      ],
      "execution_count": 9,
      "outputs": [
        {
          "output_type": "stream",
          "name": "stdout",
          "text": [
            "Positive comments found [('love', 'concert', 'The Book of Souls World Tour')]\n",
            "Positive comments found [('enjoy', 'movie', 'Wreck-It Ralph')]\n",
            "Positive comments found [('like', 'movie', 'Wish Upon a Star')]\n"
          ]
        }
      ]
    },
    {
      "cell_type": "markdown",
      "metadata": {
        "id": "UZYzT-OFyCxN"
      },
      "source": [
        "1. Complete the regular expression to capture the words hate or dislike or disapprove. Match but don't capture the words movie or concert. Match and capture anything appearing until the ..\n",
        "2. Find all matches of the regex in each element of sentiment_analysis. \n",
        "3. Assign them to negative_matches.\n",
        "4. Complete the .format() method to print out the results contained in negative_matches for each element in sentiment_analysis.\n",
        "\n",
        "**HINT!**\n",
        "\n",
        "* To capture optional groups, use | inside the parentheses. To capture any character use the . metacharacter. Consider using a non-greedy quantifier. To match but not capture a group, use non-capturing syntax ?:. Remember to escape the dot.\n",
        "* To find all matches, use .findall().\n",
        "* Remember the .format() syntax: \"text {}\".format(variable)."
      ]
    },
    {
      "cell_type": "code",
      "metadata": {
        "id": "oyaLL4tLyDCy"
      },
      "source": [
        "sentiment_analysis = ['That was horrible! I really dislike the movie The cabin and the ant. So boring.',\n",
        " \"I disapprove the movie Honest with you. It's full of cliches.\",\n",
        " 'I dislike very much the concert After twelve Tour. The sound was horrible.']"
      ],
      "execution_count": 10,
      "outputs": []
    },
    {
      "cell_type": "code",
      "metadata": {
        "colab": {
          "base_uri": "https://localhost:8080/"
        },
        "id": "SR-PPcYGyPHL",
        "outputId": "5408fb98-4b91-4251-8d18-6b660ebc568f"
      },
      "source": [
        "# Write a regex that matches sentences with the optional words\n",
        "regex_negative = r\"(hate|dislike|disapprove).+?(?:movie|concert)\\s(.+?)\\.\"\n",
        "\n",
        "for tweet in sentiment_analysis:\n",
        "\t# Find all matches of regex in tweet\n",
        "    negative_matches = re.findall(regex_negative, tweet)\n",
        "    \n",
        "    # Complete format to print out the results\n",
        "    print(\"Negative comments found {}\".format(negative_matches))"
      ],
      "execution_count": 11,
      "outputs": [
        {
          "output_type": "stream",
          "name": "stdout",
          "text": [
            "Negative comments found [('dislike', 'The cabin and the ant')]\n",
            "Negative comments found [('disapprove', 'Honest with you')]\n",
            "Negative comments found [('dislike', 'After twelve Tour')]\n"
          ]
        }
      ]
    },
    {
      "cell_type": "markdown",
      "metadata": {
        "id": "A4Y1ST-eyUzB"
      },
      "source": [
        "1. Write a regex that captures the month, day, and year in which the contract was signed. Scan contract for matches.\n",
        "2. Assign each captured group to the corresponding keys in the dictionary.\n",
        "3. Complete the positional method to print out the captured groups. Use the values corresponding to each key in the dictionary.\n",
        "\n",
        "**HINT!**\n",
        "\n",
        "* To capture a group, place the expression inside parentheses (group). To find a number repeated m times you can use {m} quantifier. The \\s matches the spaces between the words. Don't forget to match the words signed, on before the date. Use .search() to scan the string for a match.\n",
        "* To retrieve captured groups, you can use the numbers assigned to them in the matching process. The m group match can be retrieved using .group(m). Remember that the first matched group receives the number 1.\n",
        "* To insert values associated with a key in a dictionary, remember the .format() syntax: text {data[key]}\".format(data=dictionary)."
      ]
    },
    {
      "cell_type": "code",
      "metadata": {
        "id": "tiuSkp7_yVE4"
      },
      "source": [
        "contract = 'Provider will invoice Client for Services performed within 30 days of performance.  Client will pay Provider as set forth in each Statement of Work within 30 days of receipt and acceptance of such invoice. It is understood that payments to Provider for services rendered shall be made in full as agreed, without any deductions for taxes of any kind whatsoever, in conformity with Provider’s status as an independent contractor. Signed on 03/25/2001.'"
      ],
      "execution_count": 12,
      "outputs": []
    },
    {
      "cell_type": "code",
      "metadata": {
        "colab": {
          "base_uri": "https://localhost:8080/"
        },
        "id": "WzSEkiSizOYH",
        "outputId": "eb3ea6d0-61cc-4059-cfca-910ffe08cc2c"
      },
      "source": [
        "# Write regex and scan contract to capture the dates described\n",
        "regex_dates = r\"Signed\\son\\s(\\d{2})/(\\d{2})/(\\d{4})\"\n",
        "dates = re.search(regex_dates, contract)\n",
        "\n",
        "# Assign to each key the corresponding match\n",
        "signature = {\n",
        "\t\"day\": dates.group(2),\n",
        "\t\"month\": dates.group(1),\n",
        "\t\"year\": dates.group(3)\n",
        "}\n",
        "# Complete the format method to print-out\n",
        "print(\"Our first contract is dated back to {data[year]}. Particularly, the day {data[day]} of the month {data[month]}.\".format(data=signature))"
      ],
      "execution_count": 13,
      "outputs": [
        {
          "output_type": "stream",
          "name": "stdout",
          "text": [
            "Our first contract is dated back to 2001. Particularly, the day 25 of the month 03.\n"
          ]
        }
      ]
    },
    {
      "cell_type": "markdown",
      "metadata": {
        "id": "wTTSyWjdzSh4"
      },
      "source": [
        "1. Complete the regex in order to match closed HTML tags. Find if there is a match in each string of the list html_tags. Assign the result to match_tag.\n",
        "2. If a match is found, print the first group captured and saved in match_tag.\n",
        "3. If no match is found, complete the regex to match only the text inside the HTML tag. Assign it to notmatch_tag.\n",
        "4. Print the first group captured by the regex and save it in notmatch_tag.\n",
        "\n",
        "**HINT!**\n",
        "\n",
        "* To capture the text inside <>, place parenthesis around the expression: r\"<(text)>. To confirm that the same text appears in the closing tag, reference back to the m group captured by using \\m.\n",
        "* To print the m group captured, use .group(m).\n",
        "* To capture the text inside <>, use parentheses: r\"<(text)>.\n",
        "* To print the m group captured, use .group(m)."
      ]
    },
    {
      "cell_type": "code",
      "metadata": {
        "id": "wJ32IaljzTCY"
      },
      "source": [
        "html_tags = ['<body>Welcome to our course! It would be an awesome experience</body>',\n",
        " '<article>To be a data scientist, you need to have knowledge in statistics and mathematics</article>',\n",
        " '<nav>About me Links Contact me!']"
      ],
      "execution_count": 14,
      "outputs": []
    },
    {
      "cell_type": "code",
      "metadata": {
        "colab": {
          "base_uri": "https://localhost:8080/"
        },
        "id": "1EvV9W-ozfQl",
        "outputId": "52a2c091-1357-4cf5-bd25-0016c3eb512d"
      },
      "source": [
        "for string in html_tags:\n",
        "    # Complete the regex and find if it matches a closed HTML tags\n",
        "    match_tag =  re.match(r\"<(\\w+)>.*?</\\1>\", string)\n",
        " \n",
        "    if match_tag:\n",
        "        # If it matches print the first group capture\n",
        "        print(\"Your tag {} is closed\".format(match_tag.group(1))) \n",
        "    else:\n",
        "        # If it doesn't match capture only the tag \n",
        "        notmatch_tag = re.match(r\"<(\\w+)>\", string)\n",
        "        # Print the first group capture\n",
        "        print(\"Close your {} tag!\".format(notmatch_tag.group(1)))"
      ],
      "execution_count": 15,
      "outputs": [
        {
          "output_type": "stream",
          "name": "stdout",
          "text": [
            "Your tag body is closed\n",
            "Your tag article is closed\n",
            "Close your nav tag!\n"
          ]
        }
      ]
    },
    {
      "cell_type": "markdown",
      "metadata": {
        "id": "mHUnsMMTzig8"
      },
      "source": [
        "1. Complete the regular expression to match an elongated word as described.\n",
        "2. Search the elements in sentiment_analysis list to find out if they contain elongated words. Assign the result to match_elongated.\n",
        "3. Assign the captured group number zero to the variable elongated_word.\n",
        "4. Print the result contained in the variable elongated_word.\n",
        "\n",
        "**HINT!**\n",
        "\n",
        "* First match the starting characters \\w zero or more times. To capture word characters, use (\\w+). Reference back to the captured group number m by using \\m. Match the ending characters \\w zero or more times.\n",
        "* To search for a match, use .search().\n",
        "* To retrieve the group m, use .group(m).\n",
        "* Remember the .format() syntax: \"text {variable}\".format(variable=string)"
      ]
    },
    {
      "cell_type": "code",
      "metadata": {
        "id": "tgQbs2NVzi2w"
      },
      "source": [
        "sentiment_analysis = ['@marykatherine_q i know! I heard it this morning and wondered the same thing. Moscooooooow is so behind the times',\n",
        " 'Staying at a friends house...neighborrrrrrrs are so loud-having a party',\n",
        " 'Just woke up an already have read some e-mail']"
      ],
      "execution_count": 16,
      "outputs": []
    },
    {
      "cell_type": "code",
      "metadata": {
        "colab": {
          "base_uri": "https://localhost:8080/"
        },
        "id": "E7dTUvg4zogR",
        "outputId": "0b930fa7-2bc7-4a1b-a1d7-8d71a3193f97"
      },
      "source": [
        "# Complete the regex to match an elongated word\n",
        "regex_elongated = r\"\\w*(\\w)\\1\\w*\"\n",
        "\n",
        "for tweet in sentiment_analysis:\n",
        "\t# Find if there is a match in each tweet \n",
        "\tmatch_elongated = re.search(regex_elongated, tweet)\n",
        "    \n",
        "\tif match_elongated:\n",
        "\t\t# Assign the captured group zero \n",
        "\t\telongated_word = match_elongated.group(0)\n",
        "        \n",
        "\t\t# Complete the format method to print the word\n",
        "\t\tprint(\"Elongated word found: {word}\".format(word=elongated_word))\n",
        "\telse:\n",
        "\t\tprint(\"No elongated word found\")     \t"
      ],
      "execution_count": 17,
      "outputs": [
        {
          "output_type": "stream",
          "name": "stdout",
          "text": [
            "Elongated word found: Moscooooooow\n",
            "Elongated word found: neighborrrrrrrs\n",
            "No elongated word found\n"
          ]
        }
      ]
    },
    {
      "cell_type": "markdown",
      "metadata": {
        "id": "86dMHsJTz0iM"
      },
      "source": [
        "Get all the words that are followed by the word python in sentiment_analysis. Print out the word found.\n",
        "\n",
        "**HINT!**\n",
        "\n",
        "In order to indicate that you want what comes before word, use (?=\\sword). You can use \\w to indicate word characters. Use the findall function of the re module.\n",
        "\n"
      ]
    },
    {
      "cell_type": "code",
      "metadata": {
        "id": "65CyChymz01n"
      },
      "source": [
        "sentiment_analysis = 'You need excellent python skills to be a data scientist. Must be! Excellent python'"
      ],
      "execution_count": 18,
      "outputs": []
    },
    {
      "cell_type": "code",
      "metadata": {
        "colab": {
          "base_uri": "https://localhost:8080/"
        },
        "id": "aeCy4l8V0UE4",
        "outputId": "b95d67f7-5b76-46dd-dc58-47703865c813"
      },
      "source": [
        "# Positive lookahead\n",
        "look_ahead = re.findall(r\"\\w+(?=\\spython)\", sentiment_analysis)\n",
        "\n",
        "# Print out\n",
        "print(look_ahead)"
      ],
      "execution_count": 19,
      "outputs": [
        {
          "output_type": "stream",
          "name": "stdout",
          "text": [
            "['excellent', 'Excellent']\n"
          ]
        }
      ]
    },
    {
      "cell_type": "markdown",
      "metadata": {
        "id": "RX3BKKtk0a5_"
      },
      "source": [
        "Get all the words that are preceded by the word python or Python in sentiment_analysis. Print out the words found.\n",
        "\n",
        "**HINT!**\n",
        "\n",
        "In order to find words that are preceded by word or Word, use the findall() function of the re module and the regex expression (?<=[Ww]ord\\s). Indicate word characters using \\w."
      ]
    },
    {
      "cell_type": "code",
      "metadata": {
        "colab": {
          "base_uri": "https://localhost:8080/"
        },
        "id": "p1geINBo0fu0",
        "outputId": "4a3c9144-9b72-4193-a0b1-a7da6d69d19c"
      },
      "source": [
        "# Positive lookbehind\n",
        "look_behind = re.findall(r\"(?<=[Pp]ython\\s)\\w+\", sentiment_analysis)\n",
        "\n",
        "# Print out\n",
        "print(look_behind)"
      ],
      "execution_count": 20,
      "outputs": [
        {
          "output_type": "stream",
          "name": "stdout",
          "text": [
            "['skills']\n"
          ]
        }
      ]
    },
    {
      "cell_type": "markdown",
      "metadata": {
        "id": "BwvQGXiS0kcA"
      },
      "source": [
        "Get all cell phones numbers that are not preceded by the optional area code.\n",
        "\n",
        "**HINT!**\n",
        "\n",
        "To get all matches of a pattern that are not preceded by a subpattern, use (?<!subpattern)pattern. Remember to use \\d for digits. Use {n, m} to specify a minimum of n and a maximum of m repetitions."
      ]
    },
    {
      "cell_type": "code",
      "metadata": {
        "id": "17jD5ss30kva"
      },
      "source": [
        "cellphones = ['4564-646464-01', '345-5785-544245', '6476-579052-01']"
      ],
      "execution_count": 22,
      "outputs": []
    },
    {
      "cell_type": "code",
      "metadata": {
        "colab": {
          "base_uri": "https://localhost:8080/"
        },
        "id": "qMijvOCo021Z",
        "outputId": "f53e8b89-ce1f-49c2-9d21-bd1d16108f1b"
      },
      "source": [
        "for phone in cellphones:\n",
        "\t# Get all phone numbers not preceded by area code\n",
        "\tnumber = re.findall(r\"(?<!\\d{3}-)\\d{4}-\\d{6}-\\d{2}\", phone)\n",
        "\tprint(number)"
      ],
      "execution_count": 23,
      "outputs": [
        {
          "output_type": "stream",
          "name": "stdout",
          "text": [
            "['4564-646464-01']\n",
            "[]\n",
            "['6476-579052-01']\n"
          ]
        }
      ]
    },
    {
      "cell_type": "markdown",
      "metadata": {
        "id": "frEokLVk09Lg"
      },
      "source": [
        "Get all the cell phones numbers that are not followed by the optional extension.\n",
        "\n",
        "**HINT!**\n",
        "\n",
        "To get all matches of a pattern that are not followed by a subpattern, use pattern(?!subpattern). Remember to use \\d for digits. Use {n, m} to specify a minimum of n and a maximum of m repetitions."
      ]
    },
    {
      "cell_type": "code",
      "metadata": {
        "colab": {
          "base_uri": "https://localhost:8080/"
        },
        "id": "s1c6W-sw1A8a",
        "outputId": "f0b84360-7858-4cd7-def6-7480c0072f76"
      },
      "source": [
        "for phone in cellphones:\n",
        "\t# Get all phone numbers not followed by optional extension\n",
        "\tnumber = re.findall(r\"\\d{3}-\\d{4}-\\d{6}(?!-\\d{2})\", phone)\n",
        "\tprint(number)"
      ],
      "execution_count": 24,
      "outputs": [
        {
          "output_type": "stream",
          "name": "stdout",
          "text": [
            "[]\n",
            "['345-5785-544245']\n",
            "[]\n"
          ]
        }
      ]
    }
  ]
}