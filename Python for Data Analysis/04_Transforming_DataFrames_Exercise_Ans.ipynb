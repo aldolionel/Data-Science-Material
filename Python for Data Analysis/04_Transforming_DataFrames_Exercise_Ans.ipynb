{
  "nbformat": 4,
  "nbformat_minor": 0,
  "metadata": {
    "colab": {
      "name": "04. Transforming DataFrames Exercise Ans.ipynb",
      "provenance": []
    },
    "kernelspec": {
      "name": "python3",
      "display_name": "Python 3"
    },
    "language_info": {
      "name": "python"
    }
  },
  "cells": [
    {
      "cell_type": "code",
      "metadata": {
        "id": "kW31C2CX23mn"
      },
      "source": [
        "# import pandas, numpy, and load dataset\n",
        "import pandas as pd\n",
        "import numpy as np\n",
        "import matplotlib.pyplot as plt\n",
        "import seaborn as sns"
      ],
      "execution_count": 1,
      "outputs": []
    },
    {
      "cell_type": "code",
      "metadata": {
        "colab": {
          "resources": {
            "http://localhost:8080/nbextensions/google.colab/files.js": {
              "data": "Ly8gQ29weXJpZ2h0IDIwMTcgR29vZ2xlIExMQwovLwovLyBMaWNlbnNlZCB1bmRlciB0aGUgQXBhY2hlIExpY2Vuc2UsIFZlcnNpb24gMi4wICh0aGUgIkxpY2Vuc2UiKTsKLy8geW91IG1heSBub3QgdXNlIHRoaXMgZmlsZSBleGNlcHQgaW4gY29tcGxpYW5jZSB3aXRoIHRoZSBMaWNlbnNlLgovLyBZb3UgbWF5IG9idGFpbiBhIGNvcHkgb2YgdGhlIExpY2Vuc2UgYXQKLy8KLy8gICAgICBodHRwOi8vd3d3LmFwYWNoZS5vcmcvbGljZW5zZXMvTElDRU5TRS0yLjAKLy8KLy8gVW5sZXNzIHJlcXVpcmVkIGJ5IGFwcGxpY2FibGUgbGF3IG9yIGFncmVlZCB0byBpbiB3cml0aW5nLCBzb2Z0d2FyZQovLyBkaXN0cmlidXRlZCB1bmRlciB0aGUgTGljZW5zZSBpcyBkaXN0cmlidXRlZCBvbiBhbiAiQVMgSVMiIEJBU0lTLAovLyBXSVRIT1VUIFdBUlJBTlRJRVMgT1IgQ09ORElUSU9OUyBPRiBBTlkgS0lORCwgZWl0aGVyIGV4cHJlc3Mgb3IgaW1wbGllZC4KLy8gU2VlIHRoZSBMaWNlbnNlIGZvciB0aGUgc3BlY2lmaWMgbGFuZ3VhZ2UgZ292ZXJuaW5nIHBlcm1pc3Npb25zIGFuZAovLyBsaW1pdGF0aW9ucyB1bmRlciB0aGUgTGljZW5zZS4KCi8qKgogKiBAZmlsZW92ZXJ2aWV3IEhlbHBlcnMgZm9yIGdvb2dsZS5jb2xhYiBQeXRob24gbW9kdWxlLgogKi8KKGZ1bmN0aW9uKHNjb3BlKSB7CmZ1bmN0aW9uIHNwYW4odGV4dCwgc3R5bGVBdHRyaWJ1dGVzID0ge30pIHsKICBjb25zdCBlbGVtZW50ID0gZG9jdW1lbnQuY3JlYXRlRWxlbWVudCgnc3BhbicpOwogIGVsZW1lbnQudGV4dENvbnRlbnQgPSB0ZXh0OwogIGZvciAoY29uc3Qga2V5IG9mIE9iamVjdC5rZXlzKHN0eWxlQXR0cmlidXRlcykpIHsKICAgIGVsZW1lbnQuc3R5bGVba2V5XSA9IHN0eWxlQXR0cmlidXRlc1trZXldOwogIH0KICByZXR1cm4gZWxlbWVudDsKfQoKLy8gTWF4IG51bWJlciBvZiBieXRlcyB3aGljaCB3aWxsIGJlIHVwbG9hZGVkIGF0IGEgdGltZS4KY29uc3QgTUFYX1BBWUxPQURfU0laRSA9IDEwMCAqIDEwMjQ7CgpmdW5jdGlvbiBfdXBsb2FkRmlsZXMoaW5wdXRJZCwgb3V0cHV0SWQpIHsKICBjb25zdCBzdGVwcyA9IHVwbG9hZEZpbGVzU3RlcChpbnB1dElkLCBvdXRwdXRJZCk7CiAgY29uc3Qgb3V0cHV0RWxlbWVudCA9IGRvY3VtZW50LmdldEVsZW1lbnRCeUlkKG91dHB1dElkKTsKICAvLyBDYWNoZSBzdGVwcyBvbiB0aGUgb3V0cHV0RWxlbWVudCB0byBtYWtlIGl0IGF2YWlsYWJsZSBmb3IgdGhlIG5leHQgY2FsbAogIC8vIHRvIHVwbG9hZEZpbGVzQ29udGludWUgZnJvbSBQeXRob24uCiAgb3V0cHV0RWxlbWVudC5zdGVwcyA9IHN0ZXBzOwoKICByZXR1cm4gX3VwbG9hZEZpbGVzQ29udGludWUob3V0cHV0SWQpOwp9CgovLyBUaGlzIGlzIHJvdWdobHkgYW4gYXN5bmMgZ2VuZXJhdG9yIChub3Qgc3VwcG9ydGVkIGluIHRoZSBicm93c2VyIHlldCksCi8vIHdoZXJlIHRoZXJlIGFyZSBtdWx0aXBsZSBhc3luY2hyb25vdXMgc3RlcHMgYW5kIHRoZSBQeXRob24gc2lkZSBpcyBnb2luZwovLyB0byBwb2xsIGZvciBjb21wbGV0aW9uIG9mIGVhY2ggc3RlcC4KLy8gVGhpcyB1c2VzIGEgUHJvbWlzZSB0byBibG9jayB0aGUgcHl0aG9uIHNpZGUgb24gY29tcGxldGlvbiBvZiBlYWNoIHN0ZXAsCi8vIHRoZW4gcGFzc2VzIHRoZSByZXN1bHQgb2YgdGhlIHByZXZpb3VzIHN0ZXAgYXMgdGhlIGlucHV0IHRvIHRoZSBuZXh0IHN0ZXAuCmZ1bmN0aW9uIF91cGxvYWRGaWxlc0NvbnRpbnVlKG91dHB1dElkKSB7CiAgY29uc3Qgb3V0cHV0RWxlbWVudCA9IGRvY3VtZW50LmdldEVsZW1lbnRCeUlkKG91dHB1dElkKTsKICBjb25zdCBzdGVwcyA9IG91dHB1dEVsZW1lbnQuc3RlcHM7CgogIGNvbnN0IG5leHQgPSBzdGVwcy5uZXh0KG91dHB1dEVsZW1lbnQubGFzdFByb21pc2VWYWx1ZSk7CiAgcmV0dXJuIFByb21pc2UucmVzb2x2ZShuZXh0LnZhbHVlLnByb21pc2UpLnRoZW4oKHZhbHVlKSA9PiB7CiAgICAvLyBDYWNoZSB0aGUgbGFzdCBwcm9taXNlIHZhbHVlIHRvIG1ha2UgaXQgYXZhaWxhYmxlIHRvIHRoZSBuZXh0CiAgICAvLyBzdGVwIG9mIHRoZSBnZW5lcmF0b3IuCiAgICBvdXRwdXRFbGVtZW50Lmxhc3RQcm9taXNlVmFsdWUgPSB2YWx1ZTsKICAgIHJldHVybiBuZXh0LnZhbHVlLnJlc3BvbnNlOwogIH0pOwp9CgovKioKICogR2VuZXJhdG9yIGZ1bmN0aW9uIHdoaWNoIGlzIGNhbGxlZCBiZXR3ZWVuIGVhY2ggYXN5bmMgc3RlcCBvZiB0aGUgdXBsb2FkCiAqIHByb2Nlc3MuCiAqIEBwYXJhbSB7c3RyaW5nfSBpbnB1dElkIEVsZW1lbnQgSUQgb2YgdGhlIGlucHV0IGZpbGUgcGlja2VyIGVsZW1lbnQuCiAqIEBwYXJhbSB7c3RyaW5nfSBvdXRwdXRJZCBFbGVtZW50IElEIG9mIHRoZSBvdXRwdXQgZGlzcGxheS4KICogQHJldHVybiB7IUl0ZXJhYmxlPCFPYmplY3Q+fSBJdGVyYWJsZSBvZiBuZXh0IHN0ZXBzLgogKi8KZnVuY3Rpb24qIHVwbG9hZEZpbGVzU3RlcChpbnB1dElkLCBvdXRwdXRJZCkgewogIGNvbnN0IGlucHV0RWxlbWVudCA9IGRvY3VtZW50LmdldEVsZW1lbnRCeUlkKGlucHV0SWQpOwogIGlucHV0RWxlbWVudC5kaXNhYmxlZCA9IGZhbHNlOwoKICBjb25zdCBvdXRwdXRFbGVtZW50ID0gZG9jdW1lbnQuZ2V0RWxlbWVudEJ5SWQob3V0cHV0SWQpOwogIG91dHB1dEVsZW1lbnQuaW5uZXJIVE1MID0gJyc7CgogIGNvbnN0IHBpY2tlZFByb21pc2UgPSBuZXcgUHJvbWlzZSgocmVzb2x2ZSkgPT4gewogICAgaW5wdXRFbGVtZW50LmFkZEV2ZW50TGlzdGVuZXIoJ2NoYW5nZScsIChlKSA9PiB7CiAgICAgIHJlc29sdmUoZS50YXJnZXQuZmlsZXMpOwogICAgfSk7CiAgfSk7CgogIGNvbnN0IGNhbmNlbCA9IGRvY3VtZW50LmNyZWF0ZUVsZW1lbnQoJ2J1dHRvbicpOwogIGlucHV0RWxlbWVudC5wYXJlbnRFbGVtZW50LmFwcGVuZENoaWxkKGNhbmNlbCk7CiAgY2FuY2VsLnRleHRDb250ZW50ID0gJ0NhbmNlbCB1cGxvYWQnOwogIGNvbnN0IGNhbmNlbFByb21pc2UgPSBuZXcgUHJvbWlzZSgocmVzb2x2ZSkgPT4gewogICAgY2FuY2VsLm9uY2xpY2sgPSAoKSA9PiB7CiAgICAgIHJlc29sdmUobnVsbCk7CiAgICB9OwogIH0pOwoKICAvLyBXYWl0IGZvciB0aGUgdXNlciB0byBwaWNrIHRoZSBmaWxlcy4KICBjb25zdCBmaWxlcyA9IHlpZWxkIHsKICAgIHByb21pc2U6IFByb21pc2UucmFjZShbcGlja2VkUHJvbWlzZSwgY2FuY2VsUHJvbWlzZV0pLAogICAgcmVzcG9uc2U6IHsKICAgICAgYWN0aW9uOiAnc3RhcnRpbmcnLAogICAgfQogIH07CgogIGNhbmNlbC5yZW1vdmUoKTsKCiAgLy8gRGlzYWJsZSB0aGUgaW5wdXQgZWxlbWVudCBzaW5jZSBmdXJ0aGVyIHBpY2tzIGFyZSBub3QgYWxsb3dlZC4KICBpbnB1dEVsZW1lbnQuZGlzYWJsZWQgPSB0cnVlOwoKICBpZiAoIWZpbGVzKSB7CiAgICByZXR1cm4gewogICAgICByZXNwb25zZTogewogICAgICAgIGFjdGlvbjogJ2NvbXBsZXRlJywKICAgICAgfQogICAgfTsKICB9CgogIGZvciAoY29uc3QgZmlsZSBvZiBmaWxlcykgewogICAgY29uc3QgbGkgPSBkb2N1bWVudC5jcmVhdGVFbGVtZW50KCdsaScpOwogICAgbGkuYXBwZW5kKHNwYW4oZmlsZS5uYW1lLCB7Zm9udFdlaWdodDogJ2JvbGQnfSkpOwogICAgbGkuYXBwZW5kKHNwYW4oCiAgICAgICAgYCgke2ZpbGUudHlwZSB8fCAnbi9hJ30pIC0gJHtmaWxlLnNpemV9IGJ5dGVzLCBgICsKICAgICAgICBgbGFzdCBtb2RpZmllZDogJHsKICAgICAgICAgICAgZmlsZS5sYXN0TW9kaWZpZWREYXRlID8gZmlsZS5sYXN0TW9kaWZpZWREYXRlLnRvTG9jYWxlRGF0ZVN0cmluZygpIDoKICAgICAgICAgICAgICAgICAgICAgICAgICAgICAgICAgICAgJ24vYSd9IC0gYCkpOwogICAgY29uc3QgcGVyY2VudCA9IHNwYW4oJzAlIGRvbmUnKTsKICAgIGxpLmFwcGVuZENoaWxkKHBlcmNlbnQpOwoKICAgIG91dHB1dEVsZW1lbnQuYXBwZW5kQ2hpbGQobGkpOwoKICAgIGNvbnN0IGZpbGVEYXRhUHJvbWlzZSA9IG5ldyBQcm9taXNlKChyZXNvbHZlKSA9PiB7CiAgICAgIGNvbnN0IHJlYWRlciA9IG5ldyBGaWxlUmVhZGVyKCk7CiAgICAgIHJlYWRlci5vbmxvYWQgPSAoZSkgPT4gewogICAgICAgIHJlc29sdmUoZS50YXJnZXQucmVzdWx0KTsKICAgICAgfTsKICAgICAgcmVhZGVyLnJlYWRBc0FycmF5QnVmZmVyKGZpbGUpOwogICAgfSk7CiAgICAvLyBXYWl0IGZvciB0aGUgZGF0YSB0byBiZSByZWFkeS4KICAgIGxldCBmaWxlRGF0YSA9IHlpZWxkIHsKICAgICAgcHJvbWlzZTogZmlsZURhdGFQcm9taXNlLAogICAgICByZXNwb25zZTogewogICAgICAgIGFjdGlvbjogJ2NvbnRpbnVlJywKICAgICAgfQogICAgfTsKCiAgICAvLyBVc2UgYSBjaHVua2VkIHNlbmRpbmcgdG8gYXZvaWQgbWVzc2FnZSBzaXplIGxpbWl0cy4gU2VlIGIvNjIxMTU2NjAuCiAgICBsZXQgcG9zaXRpb24gPSAwOwogICAgZG8gewogICAgICBjb25zdCBsZW5ndGggPSBNYXRoLm1pbihmaWxlRGF0YS5ieXRlTGVuZ3RoIC0gcG9zaXRpb24sIE1BWF9QQVlMT0FEX1NJWkUpOwogICAgICBjb25zdCBjaHVuayA9IG5ldyBVaW50OEFycmF5KGZpbGVEYXRhLCBwb3NpdGlvbiwgbGVuZ3RoKTsKICAgICAgcG9zaXRpb24gKz0gbGVuZ3RoOwoKICAgICAgY29uc3QgYmFzZTY0ID0gYnRvYShTdHJpbmcuZnJvbUNoYXJDb2RlLmFwcGx5KG51bGwsIGNodW5rKSk7CiAgICAgIHlpZWxkIHsKICAgICAgICByZXNwb25zZTogewogICAgICAgICAgYWN0aW9uOiAnYXBwZW5kJywKICAgICAgICAgIGZpbGU6IGZpbGUubmFtZSwKICAgICAgICAgIGRhdGE6IGJhc2U2NCwKICAgICAgICB9LAogICAgICB9OwoKICAgICAgbGV0IHBlcmNlbnREb25lID0gZmlsZURhdGEuYnl0ZUxlbmd0aCA9PT0gMCA/CiAgICAgICAgICAxMDAgOgogICAgICAgICAgTWF0aC5yb3VuZCgocG9zaXRpb24gLyBmaWxlRGF0YS5ieXRlTGVuZ3RoKSAqIDEwMCk7CiAgICAgIHBlcmNlbnQudGV4dENvbnRlbnQgPSBgJHtwZXJjZW50RG9uZX0lIGRvbmVgOwoKICAgIH0gd2hpbGUgKHBvc2l0aW9uIDwgZmlsZURhdGEuYnl0ZUxlbmd0aCk7CiAgfQoKICAvLyBBbGwgZG9uZS4KICB5aWVsZCB7CiAgICByZXNwb25zZTogewogICAgICBhY3Rpb246ICdjb21wbGV0ZScsCiAgICB9CiAgfTsKfQoKc2NvcGUuZ29vZ2xlID0gc2NvcGUuZ29vZ2xlIHx8IHt9OwpzY29wZS5nb29nbGUuY29sYWIgPSBzY29wZS5nb29nbGUuY29sYWIgfHwge307CnNjb3BlLmdvb2dsZS5jb2xhYi5fZmlsZXMgPSB7CiAgX3VwbG9hZEZpbGVzLAogIF91cGxvYWRGaWxlc0NvbnRpbnVlLAp9Owp9KShzZWxmKTsK",
              "ok": true,
              "headers": [
                [
                  "content-type",
                  "application/javascript"
                ]
              ],
              "status": 200,
              "status_text": ""
            }
          },
          "base_uri": "https://localhost:8080/",
          "height": 73
        },
        "id": "hawtNPK0245Z",
        "outputId": "6bccd059-b0a6-45a2-acd8-afe035fb6e9d"
      },
      "source": [
        "from google.colab import files\n",
        "uploaded = files.upload()"
      ],
      "execution_count": 2,
      "outputs": [
        {
          "output_type": "display_data",
          "data": {
            "text/html": [
              "\n",
              "     <input type=\"file\" id=\"files-1cb4b2c9-bff6-48dc-90fa-1ef23721c9d8\" name=\"files[]\" multiple disabled\n",
              "        style=\"border:none\" />\n",
              "     <output id=\"result-1cb4b2c9-bff6-48dc-90fa-1ef23721c9d8\">\n",
              "      Upload widget is only available when the cell has been executed in the\n",
              "      current browser session. Please rerun this cell to enable.\n",
              "      </output>\n",
              "      <script src=\"/nbextensions/google.colab/files.js\"></script> "
            ],
            "text/plain": [
              "<IPython.core.display.HTML object>"
            ]
          },
          "metadata": {}
        },
        {
          "output_type": "stream",
          "name": "stdout",
          "text": [
            "Saving 01. homelessness.csv to 01. homelessness.csv\n"
          ]
        }
      ]
    },
    {
      "cell_type": "code",
      "metadata": {
        "colab": {
          "base_uri": "https://localhost:8080/",
          "height": 1000
        },
        "id": "APsBuw3w3Egc",
        "outputId": "627a4691-875f-4453-8f16-088ec439a5c2"
      },
      "source": [
        "homelessness = pd.read_csv('01. homelessness.csv')\n",
        "homelessness.drop(columns=['Unnamed: 0'], inplace=True)\n",
        "homelessness"
      ],
      "execution_count": 3,
      "outputs": [
        {
          "output_type": "execute_result",
          "data": {
            "text/html": [
              "<div>\n",
              "<style scoped>\n",
              "    .dataframe tbody tr th:only-of-type {\n",
              "        vertical-align: middle;\n",
              "    }\n",
              "\n",
              "    .dataframe tbody tr th {\n",
              "        vertical-align: top;\n",
              "    }\n",
              "\n",
              "    .dataframe thead th {\n",
              "        text-align: right;\n",
              "    }\n",
              "</style>\n",
              "<table border=\"1\" class=\"dataframe\">\n",
              "  <thead>\n",
              "    <tr style=\"text-align: right;\">\n",
              "      <th></th>\n",
              "      <th>region</th>\n",
              "      <th>state</th>\n",
              "      <th>individuals</th>\n",
              "      <th>family_members</th>\n",
              "      <th>state_pop</th>\n",
              "    </tr>\n",
              "  </thead>\n",
              "  <tbody>\n",
              "    <tr>\n",
              "      <th>0</th>\n",
              "      <td>East South Central</td>\n",
              "      <td>Alabama</td>\n",
              "      <td>2570.0</td>\n",
              "      <td>864.0</td>\n",
              "      <td>4887681</td>\n",
              "    </tr>\n",
              "    <tr>\n",
              "      <th>1</th>\n",
              "      <td>Pacific</td>\n",
              "      <td>Alaska</td>\n",
              "      <td>1434.0</td>\n",
              "      <td>582.0</td>\n",
              "      <td>735139</td>\n",
              "    </tr>\n",
              "    <tr>\n",
              "      <th>2</th>\n",
              "      <td>Mountain</td>\n",
              "      <td>Arizona</td>\n",
              "      <td>7259.0</td>\n",
              "      <td>2606.0</td>\n",
              "      <td>7158024</td>\n",
              "    </tr>\n",
              "    <tr>\n",
              "      <th>3</th>\n",
              "      <td>West South Central</td>\n",
              "      <td>Arkansas</td>\n",
              "      <td>2280.0</td>\n",
              "      <td>432.0</td>\n",
              "      <td>3009733</td>\n",
              "    </tr>\n",
              "    <tr>\n",
              "      <th>4</th>\n",
              "      <td>Pacific</td>\n",
              "      <td>California</td>\n",
              "      <td>109008.0</td>\n",
              "      <td>20964.0</td>\n",
              "      <td>39461588</td>\n",
              "    </tr>\n",
              "    <tr>\n",
              "      <th>5</th>\n",
              "      <td>Mountain</td>\n",
              "      <td>Colorado</td>\n",
              "      <td>7607.0</td>\n",
              "      <td>3250.0</td>\n",
              "      <td>5691287</td>\n",
              "    </tr>\n",
              "    <tr>\n",
              "      <th>6</th>\n",
              "      <td>New England</td>\n",
              "      <td>Connecticut</td>\n",
              "      <td>2280.0</td>\n",
              "      <td>1696.0</td>\n",
              "      <td>3571520</td>\n",
              "    </tr>\n",
              "    <tr>\n",
              "      <th>7</th>\n",
              "      <td>South Atlantic</td>\n",
              "      <td>Delaware</td>\n",
              "      <td>708.0</td>\n",
              "      <td>374.0</td>\n",
              "      <td>965479</td>\n",
              "    </tr>\n",
              "    <tr>\n",
              "      <th>8</th>\n",
              "      <td>South Atlantic</td>\n",
              "      <td>District of Columbia</td>\n",
              "      <td>3770.0</td>\n",
              "      <td>3134.0</td>\n",
              "      <td>701547</td>\n",
              "    </tr>\n",
              "    <tr>\n",
              "      <th>9</th>\n",
              "      <td>South Atlantic</td>\n",
              "      <td>Florida</td>\n",
              "      <td>21443.0</td>\n",
              "      <td>9587.0</td>\n",
              "      <td>21244317</td>\n",
              "    </tr>\n",
              "    <tr>\n",
              "      <th>10</th>\n",
              "      <td>South Atlantic</td>\n",
              "      <td>Georgia</td>\n",
              "      <td>6943.0</td>\n",
              "      <td>2556.0</td>\n",
              "      <td>10511131</td>\n",
              "    </tr>\n",
              "    <tr>\n",
              "      <th>11</th>\n",
              "      <td>Pacific</td>\n",
              "      <td>Hawaii</td>\n",
              "      <td>4131.0</td>\n",
              "      <td>2399.0</td>\n",
              "      <td>1420593</td>\n",
              "    </tr>\n",
              "    <tr>\n",
              "      <th>12</th>\n",
              "      <td>Mountain</td>\n",
              "      <td>Idaho</td>\n",
              "      <td>1297.0</td>\n",
              "      <td>715.0</td>\n",
              "      <td>1750536</td>\n",
              "    </tr>\n",
              "    <tr>\n",
              "      <th>13</th>\n",
              "      <td>East North Central</td>\n",
              "      <td>Illinois</td>\n",
              "      <td>6752.0</td>\n",
              "      <td>3891.0</td>\n",
              "      <td>12723071</td>\n",
              "    </tr>\n",
              "    <tr>\n",
              "      <th>14</th>\n",
              "      <td>East North Central</td>\n",
              "      <td>Indiana</td>\n",
              "      <td>3776.0</td>\n",
              "      <td>1482.0</td>\n",
              "      <td>6695497</td>\n",
              "    </tr>\n",
              "    <tr>\n",
              "      <th>15</th>\n",
              "      <td>West North Central</td>\n",
              "      <td>Iowa</td>\n",
              "      <td>1711.0</td>\n",
              "      <td>1038.0</td>\n",
              "      <td>3148618</td>\n",
              "    </tr>\n",
              "    <tr>\n",
              "      <th>16</th>\n",
              "      <td>West North Central</td>\n",
              "      <td>Kansas</td>\n",
              "      <td>1443.0</td>\n",
              "      <td>773.0</td>\n",
              "      <td>2911359</td>\n",
              "    </tr>\n",
              "    <tr>\n",
              "      <th>17</th>\n",
              "      <td>East South Central</td>\n",
              "      <td>Kentucky</td>\n",
              "      <td>2735.0</td>\n",
              "      <td>953.0</td>\n",
              "      <td>4461153</td>\n",
              "    </tr>\n",
              "    <tr>\n",
              "      <th>18</th>\n",
              "      <td>West South Central</td>\n",
              "      <td>Louisiana</td>\n",
              "      <td>2540.0</td>\n",
              "      <td>519.0</td>\n",
              "      <td>4659690</td>\n",
              "    </tr>\n",
              "    <tr>\n",
              "      <th>19</th>\n",
              "      <td>New England</td>\n",
              "      <td>Maine</td>\n",
              "      <td>1450.0</td>\n",
              "      <td>1066.0</td>\n",
              "      <td>1339057</td>\n",
              "    </tr>\n",
              "    <tr>\n",
              "      <th>20</th>\n",
              "      <td>South Atlantic</td>\n",
              "      <td>Maryland</td>\n",
              "      <td>4914.0</td>\n",
              "      <td>2230.0</td>\n",
              "      <td>6035802</td>\n",
              "    </tr>\n",
              "    <tr>\n",
              "      <th>21</th>\n",
              "      <td>New England</td>\n",
              "      <td>Massachusetts</td>\n",
              "      <td>6811.0</td>\n",
              "      <td>13257.0</td>\n",
              "      <td>6882635</td>\n",
              "    </tr>\n",
              "    <tr>\n",
              "      <th>22</th>\n",
              "      <td>East North Central</td>\n",
              "      <td>Michigan</td>\n",
              "      <td>5209.0</td>\n",
              "      <td>3142.0</td>\n",
              "      <td>9984072</td>\n",
              "    </tr>\n",
              "    <tr>\n",
              "      <th>23</th>\n",
              "      <td>West North Central</td>\n",
              "      <td>Minnesota</td>\n",
              "      <td>3993.0</td>\n",
              "      <td>3250.0</td>\n",
              "      <td>5606249</td>\n",
              "    </tr>\n",
              "    <tr>\n",
              "      <th>24</th>\n",
              "      <td>East South Central</td>\n",
              "      <td>Mississippi</td>\n",
              "      <td>1024.0</td>\n",
              "      <td>328.0</td>\n",
              "      <td>2981020</td>\n",
              "    </tr>\n",
              "    <tr>\n",
              "      <th>25</th>\n",
              "      <td>West North Central</td>\n",
              "      <td>Missouri</td>\n",
              "      <td>3776.0</td>\n",
              "      <td>2107.0</td>\n",
              "      <td>6121623</td>\n",
              "    </tr>\n",
              "    <tr>\n",
              "      <th>26</th>\n",
              "      <td>Mountain</td>\n",
              "      <td>Montana</td>\n",
              "      <td>983.0</td>\n",
              "      <td>422.0</td>\n",
              "      <td>1060665</td>\n",
              "    </tr>\n",
              "    <tr>\n",
              "      <th>27</th>\n",
              "      <td>West North Central</td>\n",
              "      <td>Nebraska</td>\n",
              "      <td>1745.0</td>\n",
              "      <td>676.0</td>\n",
              "      <td>1925614</td>\n",
              "    </tr>\n",
              "    <tr>\n",
              "      <th>28</th>\n",
              "      <td>Mountain</td>\n",
              "      <td>Nevada</td>\n",
              "      <td>7058.0</td>\n",
              "      <td>486.0</td>\n",
              "      <td>3027341</td>\n",
              "    </tr>\n",
              "    <tr>\n",
              "      <th>29</th>\n",
              "      <td>New England</td>\n",
              "      <td>New Hampshire</td>\n",
              "      <td>835.0</td>\n",
              "      <td>615.0</td>\n",
              "      <td>1353465</td>\n",
              "    </tr>\n",
              "    <tr>\n",
              "      <th>30</th>\n",
              "      <td>Mid-Atlantic</td>\n",
              "      <td>New Jersey</td>\n",
              "      <td>6048.0</td>\n",
              "      <td>3350.0</td>\n",
              "      <td>8886025</td>\n",
              "    </tr>\n",
              "    <tr>\n",
              "      <th>31</th>\n",
              "      <td>Mountain</td>\n",
              "      <td>New Mexico</td>\n",
              "      <td>1949.0</td>\n",
              "      <td>602.0</td>\n",
              "      <td>2092741</td>\n",
              "    </tr>\n",
              "    <tr>\n",
              "      <th>32</th>\n",
              "      <td>Mid-Atlantic</td>\n",
              "      <td>New York</td>\n",
              "      <td>39827.0</td>\n",
              "      <td>52070.0</td>\n",
              "      <td>19530351</td>\n",
              "    </tr>\n",
              "    <tr>\n",
              "      <th>33</th>\n",
              "      <td>South Atlantic</td>\n",
              "      <td>North Carolina</td>\n",
              "      <td>6451.0</td>\n",
              "      <td>2817.0</td>\n",
              "      <td>10381615</td>\n",
              "    </tr>\n",
              "    <tr>\n",
              "      <th>34</th>\n",
              "      <td>West North Central</td>\n",
              "      <td>North Dakota</td>\n",
              "      <td>467.0</td>\n",
              "      <td>75.0</td>\n",
              "      <td>758080</td>\n",
              "    </tr>\n",
              "    <tr>\n",
              "      <th>35</th>\n",
              "      <td>East North Central</td>\n",
              "      <td>Ohio</td>\n",
              "      <td>6929.0</td>\n",
              "      <td>3320.0</td>\n",
              "      <td>11676341</td>\n",
              "    </tr>\n",
              "    <tr>\n",
              "      <th>36</th>\n",
              "      <td>West South Central</td>\n",
              "      <td>Oklahoma</td>\n",
              "      <td>2823.0</td>\n",
              "      <td>1048.0</td>\n",
              "      <td>3940235</td>\n",
              "    </tr>\n",
              "    <tr>\n",
              "      <th>37</th>\n",
              "      <td>Pacific</td>\n",
              "      <td>Oregon</td>\n",
              "      <td>11139.0</td>\n",
              "      <td>3337.0</td>\n",
              "      <td>4181886</td>\n",
              "    </tr>\n",
              "    <tr>\n",
              "      <th>38</th>\n",
              "      <td>Mid-Atlantic</td>\n",
              "      <td>Pennsylvania</td>\n",
              "      <td>8163.0</td>\n",
              "      <td>5349.0</td>\n",
              "      <td>12800922</td>\n",
              "    </tr>\n",
              "    <tr>\n",
              "      <th>39</th>\n",
              "      <td>New England</td>\n",
              "      <td>Rhode Island</td>\n",
              "      <td>747.0</td>\n",
              "      <td>354.0</td>\n",
              "      <td>1058287</td>\n",
              "    </tr>\n",
              "    <tr>\n",
              "      <th>40</th>\n",
              "      <td>South Atlantic</td>\n",
              "      <td>South Carolina</td>\n",
              "      <td>3082.0</td>\n",
              "      <td>851.0</td>\n",
              "      <td>5084156</td>\n",
              "    </tr>\n",
              "    <tr>\n",
              "      <th>41</th>\n",
              "      <td>West North Central</td>\n",
              "      <td>South Dakota</td>\n",
              "      <td>836.0</td>\n",
              "      <td>323.0</td>\n",
              "      <td>878698</td>\n",
              "    </tr>\n",
              "    <tr>\n",
              "      <th>42</th>\n",
              "      <td>East South Central</td>\n",
              "      <td>Tennessee</td>\n",
              "      <td>6139.0</td>\n",
              "      <td>1744.0</td>\n",
              "      <td>6771631</td>\n",
              "    </tr>\n",
              "    <tr>\n",
              "      <th>43</th>\n",
              "      <td>West South Central</td>\n",
              "      <td>Texas</td>\n",
              "      <td>19199.0</td>\n",
              "      <td>6111.0</td>\n",
              "      <td>28628666</td>\n",
              "    </tr>\n",
              "    <tr>\n",
              "      <th>44</th>\n",
              "      <td>Mountain</td>\n",
              "      <td>Utah</td>\n",
              "      <td>1904.0</td>\n",
              "      <td>972.0</td>\n",
              "      <td>3153550</td>\n",
              "    </tr>\n",
              "    <tr>\n",
              "      <th>45</th>\n",
              "      <td>New England</td>\n",
              "      <td>Vermont</td>\n",
              "      <td>780.0</td>\n",
              "      <td>511.0</td>\n",
              "      <td>624358</td>\n",
              "    </tr>\n",
              "    <tr>\n",
              "      <th>46</th>\n",
              "      <td>South Atlantic</td>\n",
              "      <td>Virginia</td>\n",
              "      <td>3928.0</td>\n",
              "      <td>2047.0</td>\n",
              "      <td>8501286</td>\n",
              "    </tr>\n",
              "    <tr>\n",
              "      <th>47</th>\n",
              "      <td>Pacific</td>\n",
              "      <td>Washington</td>\n",
              "      <td>16424.0</td>\n",
              "      <td>5880.0</td>\n",
              "      <td>7523869</td>\n",
              "    </tr>\n",
              "    <tr>\n",
              "      <th>48</th>\n",
              "      <td>South Atlantic</td>\n",
              "      <td>West Virginia</td>\n",
              "      <td>1021.0</td>\n",
              "      <td>222.0</td>\n",
              "      <td>1804291</td>\n",
              "    </tr>\n",
              "    <tr>\n",
              "      <th>49</th>\n",
              "      <td>East North Central</td>\n",
              "      <td>Wisconsin</td>\n",
              "      <td>2740.0</td>\n",
              "      <td>2167.0</td>\n",
              "      <td>5807406</td>\n",
              "    </tr>\n",
              "    <tr>\n",
              "      <th>50</th>\n",
              "      <td>Mountain</td>\n",
              "      <td>Wyoming</td>\n",
              "      <td>434.0</td>\n",
              "      <td>205.0</td>\n",
              "      <td>577601</td>\n",
              "    </tr>\n",
              "  </tbody>\n",
              "</table>\n",
              "</div>"
            ],
            "text/plain": [
              "                region                 state  ...  family_members  state_pop\n",
              "0   East South Central               Alabama  ...           864.0    4887681\n",
              "1              Pacific                Alaska  ...           582.0     735139\n",
              "2             Mountain               Arizona  ...          2606.0    7158024\n",
              "3   West South Central              Arkansas  ...           432.0    3009733\n",
              "4              Pacific            California  ...         20964.0   39461588\n",
              "5             Mountain              Colorado  ...          3250.0    5691287\n",
              "6          New England           Connecticut  ...          1696.0    3571520\n",
              "7       South Atlantic              Delaware  ...           374.0     965479\n",
              "8       South Atlantic  District of Columbia  ...          3134.0     701547\n",
              "9       South Atlantic               Florida  ...          9587.0   21244317\n",
              "10      South Atlantic               Georgia  ...          2556.0   10511131\n",
              "11             Pacific                Hawaii  ...          2399.0    1420593\n",
              "12            Mountain                 Idaho  ...           715.0    1750536\n",
              "13  East North Central              Illinois  ...          3891.0   12723071\n",
              "14  East North Central               Indiana  ...          1482.0    6695497\n",
              "15  West North Central                  Iowa  ...          1038.0    3148618\n",
              "16  West North Central                Kansas  ...           773.0    2911359\n",
              "17  East South Central              Kentucky  ...           953.0    4461153\n",
              "18  West South Central             Louisiana  ...           519.0    4659690\n",
              "19         New England                 Maine  ...          1066.0    1339057\n",
              "20      South Atlantic              Maryland  ...          2230.0    6035802\n",
              "21         New England         Massachusetts  ...         13257.0    6882635\n",
              "22  East North Central              Michigan  ...          3142.0    9984072\n",
              "23  West North Central             Minnesota  ...          3250.0    5606249\n",
              "24  East South Central           Mississippi  ...           328.0    2981020\n",
              "25  West North Central              Missouri  ...          2107.0    6121623\n",
              "26            Mountain               Montana  ...           422.0    1060665\n",
              "27  West North Central              Nebraska  ...           676.0    1925614\n",
              "28            Mountain                Nevada  ...           486.0    3027341\n",
              "29         New England         New Hampshire  ...           615.0    1353465\n",
              "30        Mid-Atlantic            New Jersey  ...          3350.0    8886025\n",
              "31            Mountain            New Mexico  ...           602.0    2092741\n",
              "32        Mid-Atlantic              New York  ...         52070.0   19530351\n",
              "33      South Atlantic        North Carolina  ...          2817.0   10381615\n",
              "34  West North Central          North Dakota  ...            75.0     758080\n",
              "35  East North Central                  Ohio  ...          3320.0   11676341\n",
              "36  West South Central              Oklahoma  ...          1048.0    3940235\n",
              "37             Pacific                Oregon  ...          3337.0    4181886\n",
              "38        Mid-Atlantic          Pennsylvania  ...          5349.0   12800922\n",
              "39         New England          Rhode Island  ...           354.0    1058287\n",
              "40      South Atlantic        South Carolina  ...           851.0    5084156\n",
              "41  West North Central          South Dakota  ...           323.0     878698\n",
              "42  East South Central             Tennessee  ...          1744.0    6771631\n",
              "43  West South Central                 Texas  ...          6111.0   28628666\n",
              "44            Mountain                  Utah  ...           972.0    3153550\n",
              "45         New England               Vermont  ...           511.0     624358\n",
              "46      South Atlantic              Virginia  ...          2047.0    8501286\n",
              "47             Pacific            Washington  ...          5880.0    7523869\n",
              "48      South Atlantic         West Virginia  ...           222.0    1804291\n",
              "49  East North Central             Wisconsin  ...          2167.0    5807406\n",
              "50            Mountain               Wyoming  ...           205.0     577601\n",
              "\n",
              "[51 rows x 5 columns]"
            ]
          },
          "metadata": {},
          "execution_count": 3
        }
      ]
    },
    {
      "cell_type": "code",
      "metadata": {
        "id": "aFeAVj_hwI28",
        "colab": {
          "base_uri": "https://localhost:8080/"
        },
        "outputId": "432b213a-26ed-498d-aa9a-415f68886d00"
      },
      "source": [
        "# Import pandas using the alias pd\n",
        "import pandas as pd\n",
        "\n",
        "# Print the head of the homelessness data\n",
        "print(homelessness.head())\n",
        "\n",
        "# Print information about homelessness\n",
        "print(homelessness.info())\n",
        "\n",
        "# Print the shape of homelessness\n",
        "print(homelessness.shape)\n",
        "\n",
        "# Print a description of homelessness\n",
        "print(homelessness.describe())"
      ],
      "execution_count": 4,
      "outputs": [
        {
          "output_type": "stream",
          "name": "stdout",
          "text": [
            "               region       state  individuals  family_members  state_pop\n",
            "0  East South Central     Alabama       2570.0           864.0    4887681\n",
            "1             Pacific      Alaska       1434.0           582.0     735139\n",
            "2            Mountain     Arizona       7259.0          2606.0    7158024\n",
            "3  West South Central    Arkansas       2280.0           432.0    3009733\n",
            "4             Pacific  California     109008.0         20964.0   39461588\n",
            "<class 'pandas.core.frame.DataFrame'>\n",
            "RangeIndex: 51 entries, 0 to 50\n",
            "Data columns (total 5 columns):\n",
            " #   Column          Non-Null Count  Dtype  \n",
            "---  ------          --------------  -----  \n",
            " 0   region          51 non-null     object \n",
            " 1   state           51 non-null     object \n",
            " 2   individuals     51 non-null     float64\n",
            " 3   family_members  51 non-null     float64\n",
            " 4   state_pop       51 non-null     int64  \n",
            "dtypes: float64(2), int64(1), object(2)\n",
            "memory usage: 2.1+ KB\n",
            "None\n",
            "(51, 5)\n",
            "         individuals  family_members     state_pop\n",
            "count      51.000000       51.000000  5.100000e+01\n",
            "mean     7225.784314     3504.882353  6.405637e+06\n",
            "std     15991.025083     7805.411811  7.327258e+06\n",
            "min       434.000000       75.000000  5.776010e+05\n",
            "25%      1446.500000      592.000000  1.777414e+06\n",
            "50%      3082.000000     1482.000000  4.461153e+06\n",
            "75%      6781.500000     3196.000000  7.340946e+06\n",
            "max    109008.000000    52070.000000  3.946159e+07\n"
          ]
        }
      ]
    },
    {
      "cell_type": "code",
      "metadata": {
        "id": "fm5saUItwcFd",
        "colab": {
          "base_uri": "https://localhost:8080/"
        },
        "outputId": "0ab7a8ec-9dc3-4dab-86a6-697d192bf39c"
      },
      "source": [
        "# Print the values of homelessness\n",
        "print(homelessness.values)\n",
        "\n",
        "# Print the column index of homelessness\n",
        "print(homelessness.columns)\n",
        "\n",
        "# Print the row index of homelessness\n",
        "print(homelessness.index)"
      ],
      "execution_count": 5,
      "outputs": [
        {
          "output_type": "stream",
          "name": "stdout",
          "text": [
            "[['East South Central' 'Alabama' 2570.0 864.0 4887681]\n",
            " ['Pacific' 'Alaska' 1434.0 582.0 735139]\n",
            " ['Mountain' 'Arizona' 7259.0 2606.0 7158024]\n",
            " ['West South Central' 'Arkansas' 2280.0 432.0 3009733]\n",
            " ['Pacific' 'California' 109008.0 20964.0 39461588]\n",
            " ['Mountain' 'Colorado' 7607.0 3250.0 5691287]\n",
            " ['New England' 'Connecticut' 2280.0 1696.0 3571520]\n",
            " ['South Atlantic' 'Delaware' 708.0 374.0 965479]\n",
            " ['South Atlantic' 'District of Columbia' 3770.0 3134.0 701547]\n",
            " ['South Atlantic' 'Florida' 21443.0 9587.0 21244317]\n",
            " ['South Atlantic' 'Georgia' 6943.0 2556.0 10511131]\n",
            " ['Pacific' 'Hawaii' 4131.0 2399.0 1420593]\n",
            " ['Mountain' 'Idaho' 1297.0 715.0 1750536]\n",
            " ['East North Central' 'Illinois' 6752.0 3891.0 12723071]\n",
            " ['East North Central' 'Indiana' 3776.0 1482.0 6695497]\n",
            " ['West North Central' 'Iowa' 1711.0 1038.0 3148618]\n",
            " ['West North Central' 'Kansas' 1443.0 773.0 2911359]\n",
            " ['East South Central' 'Kentucky' 2735.0 953.0 4461153]\n",
            " ['West South Central' 'Louisiana' 2540.0 519.0 4659690]\n",
            " ['New England' 'Maine' 1450.0 1066.0 1339057]\n",
            " ['South Atlantic' 'Maryland' 4914.0 2230.0 6035802]\n",
            " ['New England' 'Massachusetts' 6811.0 13257.0 6882635]\n",
            " ['East North Central' 'Michigan' 5209.0 3142.0 9984072]\n",
            " ['West North Central' 'Minnesota' 3993.0 3250.0 5606249]\n",
            " ['East South Central' 'Mississippi' 1024.0 328.0 2981020]\n",
            " ['West North Central' 'Missouri' 3776.0 2107.0 6121623]\n",
            " ['Mountain' 'Montana' 983.0 422.0 1060665]\n",
            " ['West North Central' 'Nebraska' 1745.0 676.0 1925614]\n",
            " ['Mountain' 'Nevada' 7058.0 486.0 3027341]\n",
            " ['New England' 'New Hampshire' 835.0 615.0 1353465]\n",
            " ['Mid-Atlantic' 'New Jersey' 6048.0 3350.0 8886025]\n",
            " ['Mountain' 'New Mexico' 1949.0 602.0 2092741]\n",
            " ['Mid-Atlantic' 'New York' 39827.0 52070.0 19530351]\n",
            " ['South Atlantic' 'North Carolina' 6451.0 2817.0 10381615]\n",
            " ['West North Central' 'North Dakota' 467.0 75.0 758080]\n",
            " ['East North Central' 'Ohio' 6929.0 3320.0 11676341]\n",
            " ['West South Central' 'Oklahoma' 2823.0 1048.0 3940235]\n",
            " ['Pacific' 'Oregon' 11139.0 3337.0 4181886]\n",
            " ['Mid-Atlantic' 'Pennsylvania' 8163.0 5349.0 12800922]\n",
            " ['New England' 'Rhode Island' 747.0 354.0 1058287]\n",
            " ['South Atlantic' 'South Carolina' 3082.0 851.0 5084156]\n",
            " ['West North Central' 'South Dakota' 836.0 323.0 878698]\n",
            " ['East South Central' 'Tennessee' 6139.0 1744.0 6771631]\n",
            " ['West South Central' 'Texas' 19199.0 6111.0 28628666]\n",
            " ['Mountain' 'Utah' 1904.0 972.0 3153550]\n",
            " ['New England' 'Vermont' 780.0 511.0 624358]\n",
            " ['South Atlantic' 'Virginia' 3928.0 2047.0 8501286]\n",
            " ['Pacific' 'Washington' 16424.0 5880.0 7523869]\n",
            " ['South Atlantic' 'West Virginia' 1021.0 222.0 1804291]\n",
            " ['East North Central' 'Wisconsin' 2740.0 2167.0 5807406]\n",
            " ['Mountain' 'Wyoming' 434.0 205.0 577601]]\n",
            "Index(['region', 'state', 'individuals', 'family_members', 'state_pop'], dtype='object')\n",
            "RangeIndex(start=0, stop=51, step=1)\n"
          ]
        }
      ]
    },
    {
      "cell_type": "markdown",
      "metadata": {
        "id": "C2RxFTVbwurT"
      },
      "source": [
        "1. Sort homelessness by the number of homeless individuals, from smallest to largest, and save this as homelessness_ind.\n",
        "2. Print the head of the sorted DataFrame."
      ]
    },
    {
      "cell_type": "code",
      "metadata": {
        "id": "a3ykbCdgwzQV",
        "colab": {
          "base_uri": "https://localhost:8080/"
        },
        "outputId": "3febfa62-a336-4b98-e82c-1f7d034465d2"
      },
      "source": [
        "# Sort homelessness by individual\n",
        "homelessness_ind = homelessness.sort_values('individuals')\n",
        "\n",
        "# Print the top few rows\n",
        "print(homelessness_ind.head())"
      ],
      "execution_count": 6,
      "outputs": [
        {
          "output_type": "stream",
          "name": "stdout",
          "text": [
            "                region         state  individuals  family_members  state_pop\n",
            "50            Mountain       Wyoming        434.0           205.0     577601\n",
            "34  West North Central  North Dakota        467.0            75.0     758080\n",
            "7       South Atlantic      Delaware        708.0           374.0     965479\n",
            "39         New England  Rhode Island        747.0           354.0    1058287\n",
            "45         New England       Vermont        780.0           511.0     624358\n"
          ]
        }
      ]
    },
    {
      "cell_type": "markdown",
      "metadata": {
        "id": "DzVp9qvLwyQA"
      },
      "source": [
        "1. Sort homelessness by the number of homeless family_members in descending order, and save this as homelessness_fam.\n",
        "2. Print the head of the sorted DataFrame."
      ]
    },
    {
      "cell_type": "code",
      "metadata": {
        "id": "b6XF3IT0w7us",
        "colab": {
          "base_uri": "https://localhost:8080/"
        },
        "outputId": "91982160-00f7-49ee-d346-cf6c047f7d92"
      },
      "source": [
        "# Sort homelessness by descending family members\n",
        "homelessness_fam = homelessness.sort_values('family_members', ascending=False)\n",
        "\n",
        "# Print the top few rows\n",
        "print(homelessness_fam.head())"
      ],
      "execution_count": 7,
      "outputs": [
        {
          "output_type": "stream",
          "name": "stdout",
          "text": [
            "                region          state  individuals  family_members  state_pop\n",
            "32        Mid-Atlantic       New York      39827.0         52070.0   19530351\n",
            "4              Pacific     California     109008.0         20964.0   39461588\n",
            "21         New England  Massachusetts       6811.0         13257.0    6882635\n",
            "9       South Atlantic        Florida      21443.0          9587.0   21244317\n",
            "43  West South Central          Texas      19199.0          6111.0   28628666\n"
          ]
        }
      ]
    },
    {
      "cell_type": "markdown",
      "metadata": {
        "id": "VrycbWLXxju4"
      },
      "source": [
        "1. Sort homelessness first by region (ascending), and then by number of family members (descending). Save this as homelessness_reg_fam.\n",
        "2. Print the head of the sorted DataFrame."
      ]
    },
    {
      "cell_type": "code",
      "metadata": {
        "id": "8GxinflQxmL6",
        "colab": {
          "base_uri": "https://localhost:8080/"
        },
        "outputId": "09f94bb1-97af-459e-bc6a-34834ae76f6e"
      },
      "source": [
        "# Sort homelessness by region, then descending family members\n",
        "homelessness_reg_fam = homelessness.sort_values(['region', 'family_members'], ascending = [True, False])\n",
        "\n",
        "# Print the top few rows\n",
        "print(homelessness_reg_fam.head())"
      ],
      "execution_count": 8,
      "outputs": [
        {
          "output_type": "stream",
          "name": "stdout",
          "text": [
            "                region      state  individuals  family_members  state_pop\n",
            "13  East North Central   Illinois       6752.0          3891.0   12723071\n",
            "35  East North Central       Ohio       6929.0          3320.0   11676341\n",
            "22  East North Central   Michigan       5209.0          3142.0    9984072\n",
            "49  East North Central  Wisconsin       2740.0          2167.0    5807406\n",
            "14  East North Central    Indiana       3776.0          1482.0    6695497\n"
          ]
        }
      ]
    },
    {
      "cell_type": "markdown",
      "metadata": {
        "id": "ysh02Y60xs7n"
      },
      "source": [
        "1. Create a DataFrame called individuals that contains only the individuals column of homelessness.\n",
        "2. Print the head of the result."
      ]
    },
    {
      "cell_type": "code",
      "metadata": {
        "id": "N9kvbr1fxwQV",
        "colab": {
          "base_uri": "https://localhost:8080/"
        },
        "outputId": "dd46c3ed-9bec-4bee-8d18-4c39702591da"
      },
      "source": [
        "# Select the individuals column\n",
        "individuals = homelessness['individuals']\n",
        "\n",
        "# Print the head of the result\n",
        "print(individuals.head())"
      ],
      "execution_count": 9,
      "outputs": [
        {
          "output_type": "stream",
          "name": "stdout",
          "text": [
            "0      2570.0\n",
            "1      1434.0\n",
            "2      7259.0\n",
            "3      2280.0\n",
            "4    109008.0\n",
            "Name: individuals, dtype: float64\n"
          ]
        }
      ]
    },
    {
      "cell_type": "markdown",
      "metadata": {
        "id": "kjcynwqKyprN"
      },
      "source": [
        "1. Create a DataFrame called state_fam that contains only the state and family_members columns of homelessness, in that order.\n",
        "2. Print the head of the result."
      ]
    },
    {
      "cell_type": "code",
      "metadata": {
        "id": "cmOO0FXNyuLY",
        "colab": {
          "base_uri": "https://localhost:8080/"
        },
        "outputId": "f4446875-a92b-4c74-d244-6e08caeceb7b"
      },
      "source": [
        "# Select the state and family_members columns\n",
        "state_fam = homelessness[['state', 'family_members']]\n",
        "\n",
        "# Print the head of the result\n",
        "print(state_fam.head())"
      ],
      "execution_count": 10,
      "outputs": [
        {
          "output_type": "stream",
          "name": "stdout",
          "text": [
            "        state  family_members\n",
            "0     Alabama           864.0\n",
            "1      Alaska           582.0\n",
            "2     Arizona          2606.0\n",
            "3    Arkansas           432.0\n",
            "4  California         20964.0\n"
          ]
        }
      ]
    },
    {
      "cell_type": "markdown",
      "metadata": {
        "id": "HDL0tEKpywNU"
      },
      "source": [
        "1. Create a DataFrame called ind_state that contains the individuals and state columns of homelessness, in that order.\n",
        "2. Print the head of the result."
      ]
    },
    {
      "cell_type": "code",
      "metadata": {
        "id": "9CGyZMlPy17L",
        "colab": {
          "base_uri": "https://localhost:8080/"
        },
        "outputId": "462265bd-7bd6-44a7-efee-a2d89288ae1f"
      },
      "source": [
        "# Select only the individuals and state columns, in that order\n",
        "ind_state = homelessness[['individuals', 'state']]\n",
        "\n",
        "# Print the head of the result\n",
        "print(ind_state.head())"
      ],
      "execution_count": 11,
      "outputs": [
        {
          "output_type": "stream",
          "name": "stdout",
          "text": [
            "   individuals       state\n",
            "0       2570.0     Alabama\n",
            "1       1434.0      Alaska\n",
            "2       7259.0     Arizona\n",
            "3       2280.0    Arkansas\n",
            "4     109008.0  California\n"
          ]
        }
      ]
    },
    {
      "cell_type": "markdown",
      "metadata": {
        "id": "jRHrSM92zYH5"
      },
      "source": [
        "Filter homelessness for cases where the number of individuals is greater than ten thousand, assigning to ind_gt_10k. View the printed result."
      ]
    },
    {
      "cell_type": "code",
      "metadata": {
        "id": "Gb2mfRaYzbvk",
        "colab": {
          "base_uri": "https://localhost:8080/"
        },
        "outputId": "90ea0ac0-2592-4c78-ca95-3a28eed232c8"
      },
      "source": [
        "# Filter for rows where individuals is greater than 10000\n",
        "ind_gt_10k = homelessness[homelessness['individuals']>10000]\n",
        "\n",
        "# See the result\n",
        "print(ind_gt_10k)"
      ],
      "execution_count": 12,
      "outputs": [
        {
          "output_type": "stream",
          "name": "stdout",
          "text": [
            "                region       state  individuals  family_members  state_pop\n",
            "4              Pacific  California     109008.0         20964.0   39461588\n",
            "9       South Atlantic     Florida      21443.0          9587.0   21244317\n",
            "32        Mid-Atlantic    New York      39827.0         52070.0   19530351\n",
            "37             Pacific      Oregon      11139.0          3337.0    4181886\n",
            "43  West South Central       Texas      19199.0          6111.0   28628666\n",
            "47             Pacific  Washington      16424.0          5880.0    7523869\n"
          ]
        }
      ]
    },
    {
      "cell_type": "markdown",
      "metadata": {
        "id": "ON9JYsLnzcPF"
      },
      "source": [
        "Filter homelessness for cases where the USA Census region is \"Mountain\", assigning to mountain_reg. View the printed result."
      ]
    },
    {
      "cell_type": "code",
      "metadata": {
        "id": "MrVVVJwMzhaI",
        "colab": {
          "base_uri": "https://localhost:8080/"
        },
        "outputId": "9d8c196d-2cf6-4893-ee8e-12a8597a3d90"
      },
      "source": [
        "# Filter for rows where region is Mountain\n",
        "mountain_reg = homelessness[homelessness['region']== 'Mountain']\n",
        "\n",
        "# See the result\n",
        "print(mountain_reg)"
      ],
      "execution_count": 13,
      "outputs": [
        {
          "output_type": "stream",
          "name": "stdout",
          "text": [
            "      region       state  individuals  family_members  state_pop\n",
            "2   Mountain     Arizona       7259.0          2606.0    7158024\n",
            "5   Mountain    Colorado       7607.0          3250.0    5691287\n",
            "12  Mountain       Idaho       1297.0           715.0    1750536\n",
            "26  Mountain     Montana        983.0           422.0    1060665\n",
            "28  Mountain      Nevada       7058.0           486.0    3027341\n",
            "31  Mountain  New Mexico       1949.0           602.0    2092741\n",
            "44  Mountain        Utah       1904.0           972.0    3153550\n",
            "50  Mountain     Wyoming        434.0           205.0     577601\n"
          ]
        }
      ]
    },
    {
      "cell_type": "markdown",
      "metadata": {
        "id": "DDQQp1oWziHx"
      },
      "source": [
        "Filter homelessness for cases where the number of family_members is less than one thousand and the region is \"Pacific\", assigning to fam_lt_1k_pac. View the printed result."
      ]
    },
    {
      "cell_type": "code",
      "metadata": {
        "id": "8YRcU-HszlCU",
        "colab": {
          "base_uri": "https://localhost:8080/"
        },
        "outputId": "f8aadb50-d3f8-4d05-fff8-89ea4facc521"
      },
      "source": [
        "# Filter for rows where family_members is less than 1000 \n",
        "# and region is Pacific\n",
        "fam_lt_1k_pac = homelessness[(homelessness['family_members']< 1000) & (homelessness['region'] == 'Pacific')]\n",
        "\n",
        "# See the result\n",
        "print(fam_lt_1k_pac)"
      ],
      "execution_count": 14,
      "outputs": [
        {
          "output_type": "stream",
          "name": "stdout",
          "text": [
            "    region   state  individuals  family_members  state_pop\n",
            "1  Pacific  Alaska       1434.0           582.0     735139\n"
          ]
        }
      ]
    },
    {
      "cell_type": "markdown",
      "metadata": {
        "id": "yGDc3wEIzpE8"
      },
      "source": [
        "Filter homelessness for cases where the USA census region is \"South Atlantic\" or it is \"Mid-Atlantic\", assigning to south_mid_atlantic. View the printed result"
      ]
    },
    {
      "cell_type": "code",
      "metadata": {
        "id": "nk8O0I2PzrLV",
        "colab": {
          "base_uri": "https://localhost:8080/"
        },
        "outputId": "25111119-eb5a-4f1a-ff80-d53e3688bc60"
      },
      "source": [
        "# Subset for rows in South Atlantic or Mid-Atlantic regions\n",
        "south_mid_atlantic = homelessness[(homelessness['region'] == 'South Atlantic') | (homelessness['region'] == 'Mid-Atlantic')]\n",
        "\n",
        "# See the result\n",
        "print(south_mid_atlantic)"
      ],
      "execution_count": 15,
      "outputs": [
        {
          "output_type": "stream",
          "name": "stdout",
          "text": [
            "            region                 state  ...  family_members  state_pop\n",
            "7   South Atlantic              Delaware  ...           374.0     965479\n",
            "8   South Atlantic  District of Columbia  ...          3134.0     701547\n",
            "9   South Atlantic               Florida  ...          9587.0   21244317\n",
            "10  South Atlantic               Georgia  ...          2556.0   10511131\n",
            "20  South Atlantic              Maryland  ...          2230.0    6035802\n",
            "30    Mid-Atlantic            New Jersey  ...          3350.0    8886025\n",
            "32    Mid-Atlantic              New York  ...         52070.0   19530351\n",
            "33  South Atlantic        North Carolina  ...          2817.0   10381615\n",
            "38    Mid-Atlantic          Pennsylvania  ...          5349.0   12800922\n",
            "40  South Atlantic        South Carolina  ...           851.0    5084156\n",
            "46  South Atlantic              Virginia  ...          2047.0    8501286\n",
            "48  South Atlantic         West Virginia  ...           222.0    1804291\n",
            "\n",
            "[12 rows x 5 columns]\n"
          ]
        }
      ]
    },
    {
      "cell_type": "markdown",
      "metadata": {
        "id": "jjBCm7kAzs5u"
      },
      "source": [
        "Filter homelessness for cases where the USA census state is in the list of Mojave states, canu, assigning to mojave_homelessness. View the printed result."
      ]
    },
    {
      "cell_type": "code",
      "metadata": {
        "id": "F45HAHppzvKf",
        "colab": {
          "base_uri": "https://localhost:8080/"
        },
        "outputId": "446901be-4f34-4202-90b3-22b685110f89"
      },
      "source": [
        "# The Mojave Desert states\n",
        "canu = [\"California\", \"Arizona\", \"Nevada\", \"Utah\"]\n",
        "\n",
        "# Filter for rows in the Mojave Desert states\n",
        "mojave_homelessness = homelessness[homelessness['state'].isin(canu)]\n",
        "\n",
        "# See the result\n",
        "print(mojave_homelessness)"
      ],
      "execution_count": 16,
      "outputs": [
        {
          "output_type": "stream",
          "name": "stdout",
          "text": [
            "      region       state  individuals  family_members  state_pop\n",
            "2   Mountain     Arizona       7259.0          2606.0    7158024\n",
            "4    Pacific  California     109008.0         20964.0   39461588\n",
            "28  Mountain      Nevada       7058.0           486.0    3027341\n",
            "44  Mountain        Utah       1904.0           972.0    3153550\n"
          ]
        }
      ]
    },
    {
      "cell_type": "markdown",
      "metadata": {
        "id": "-HUNhiw2zzvO"
      },
      "source": [
        "1. Add a new column to homelessness, named total, containing the sum of the individuals and family_members columns.\n",
        "2. Add another column to homelessness, named p_individuals, containing the proportion of homeless people in each state who are individuals."
      ]
    },
    {
      "cell_type": "code",
      "metadata": {
        "id": "Cc9kHD-Szw9S",
        "colab": {
          "base_uri": "https://localhost:8080/"
        },
        "outputId": "6df9fc7f-a674-4096-8a0d-cc7c9be7c1ef"
      },
      "source": [
        "# Add total col as sum of individuals and family_members\n",
        "homelessness['total'] = homelessness['individuals'] + homelessness['family_members']\n",
        "\n",
        "# Add p_individuals col as proportion of individuals\n",
        "homelessness['p_individuals'] = homelessness['individuals'] / homelessness['total']\n",
        "\n",
        "# See the result\n",
        "print(homelessness)"
      ],
      "execution_count": 17,
      "outputs": [
        {
          "output_type": "stream",
          "name": "stdout",
          "text": [
            "                region                 state  ...     total  p_individuals\n",
            "0   East South Central               Alabama  ...    3434.0       0.748398\n",
            "1              Pacific                Alaska  ...    2016.0       0.711310\n",
            "2             Mountain               Arizona  ...    9865.0       0.735834\n",
            "3   West South Central              Arkansas  ...    2712.0       0.840708\n",
            "4              Pacific            California  ...  129972.0       0.838704\n",
            "5             Mountain              Colorado  ...   10857.0       0.700654\n",
            "6          New England           Connecticut  ...    3976.0       0.573441\n",
            "7       South Atlantic              Delaware  ...    1082.0       0.654344\n",
            "8       South Atlantic  District of Columbia  ...    6904.0       0.546060\n",
            "9       South Atlantic               Florida  ...   31030.0       0.691041\n",
            "10      South Atlantic               Georgia  ...    9499.0       0.730919\n",
            "11             Pacific                Hawaii  ...    6530.0       0.632619\n",
            "12            Mountain                 Idaho  ...    2012.0       0.644632\n",
            "13  East North Central              Illinois  ...   10643.0       0.634408\n",
            "14  East North Central               Indiana  ...    5258.0       0.718144\n",
            "15  West North Central                  Iowa  ...    2749.0       0.622408\n",
            "16  West North Central                Kansas  ...    2216.0       0.651173\n",
            "17  East South Central              Kentucky  ...    3688.0       0.741594\n",
            "18  West South Central             Louisiana  ...    3059.0       0.830337\n",
            "19         New England                 Maine  ...    2516.0       0.576312\n",
            "20      South Atlantic              Maryland  ...    7144.0       0.687850\n",
            "21         New England         Massachusetts  ...   20068.0       0.339396\n",
            "22  East North Central              Michigan  ...    8351.0       0.623758\n",
            "23  West North Central             Minnesota  ...    7243.0       0.551291\n",
            "24  East South Central           Mississippi  ...    1352.0       0.757396\n",
            "25  West North Central              Missouri  ...    5883.0       0.641849\n",
            "26            Mountain               Montana  ...    1405.0       0.699644\n",
            "27  West North Central              Nebraska  ...    2421.0       0.720777\n",
            "28            Mountain                Nevada  ...    7544.0       0.935578\n",
            "29         New England         New Hampshire  ...    1450.0       0.575862\n",
            "30        Mid-Atlantic            New Jersey  ...    9398.0       0.643541\n",
            "31            Mountain            New Mexico  ...    2551.0       0.764014\n",
            "32        Mid-Atlantic              New York  ...   91897.0       0.433387\n",
            "33      South Atlantic        North Carolina  ...    9268.0       0.696051\n",
            "34  West North Central          North Dakota  ...     542.0       0.861624\n",
            "35  East North Central                  Ohio  ...   10249.0       0.676066\n",
            "36  West South Central              Oklahoma  ...    3871.0       0.729269\n",
            "37             Pacific                Oregon  ...   14476.0       0.769481\n",
            "38        Mid-Atlantic          Pennsylvania  ...   13512.0       0.604130\n",
            "39         New England          Rhode Island  ...    1101.0       0.678474\n",
            "40      South Atlantic        South Carolina  ...    3933.0       0.783626\n",
            "41  West North Central          South Dakota  ...    1159.0       0.721311\n",
            "42  East South Central             Tennessee  ...    7883.0       0.778764\n",
            "43  West South Central                 Texas  ...   25310.0       0.758554\n",
            "44            Mountain                  Utah  ...    2876.0       0.662031\n",
            "45         New England               Vermont  ...    1291.0       0.604183\n",
            "46      South Atlantic              Virginia  ...    5975.0       0.657406\n",
            "47             Pacific            Washington  ...   22304.0       0.736370\n",
            "48      South Atlantic         West Virginia  ...    1243.0       0.821400\n",
            "49  East North Central             Wisconsin  ...    4907.0       0.558386\n",
            "50            Mountain               Wyoming  ...     639.0       0.679186\n",
            "\n",
            "[51 rows x 7 columns]\n"
          ]
        }
      ]
    },
    {
      "cell_type": "markdown",
      "metadata": {
        "id": "nU1T0AwEz5dR"
      },
      "source": [
        "1. Add a column to homelessness, indiv_per_10k, containing the number of homeless individuals per ten thousand people in each state.\n",
        "2. Subset rows where indiv_per_10k is higher than 20, assigning to high_homelessness.\n",
        "3. Sort high_homelessness by descending indiv_per_10k, assigning to high_homelessness_srt.\n",
        "4. Select only the state and indiv_per_10k columns of high_homelessness_srt and save as result. Look at the result."
      ]
    },
    {
      "cell_type": "code",
      "metadata": {
        "id": "IybcAnQ2z5DU",
        "colab": {
          "base_uri": "https://localhost:8080/"
        },
        "outputId": "b5ceff07-b363-4a7c-a027-847a5898df82"
      },
      "source": [
        "# Create indiv_per_10k col as homeless individuals per 10k state pop\n",
        "homelessness[\"indiv_per_10k\"] = 10000 * homelessness['individuals'] / homelessness['state_pop'] \n",
        "\n",
        "# Subset rows for indiv_per_10k greater than 20\n",
        "high_homelessness = homelessness[homelessness['indiv_per_10k'] > 20]\n",
        "\n",
        "# Sort high_homelessness by descending indiv_per_10k\n",
        "high_homelessness_srt = high_homelessness.sort_values('indiv_per_10k', ascending= False)\n",
        "\n",
        "# From high_homelessness_srt, select the state and indiv_per_10k cols\n",
        "result = high_homelessness_srt[['state', 'indiv_per_10k']]\n",
        "\n",
        "# See the result\n",
        "print(result)"
      ],
      "execution_count": 18,
      "outputs": [
        {
          "output_type": "stream",
          "name": "stdout",
          "text": [
            "                   state  indiv_per_10k\n",
            "8   District of Columbia      53.738381\n",
            "11                Hawaii      29.079406\n",
            "4             California      27.623825\n",
            "37                Oregon      26.636307\n",
            "28                Nevada      23.314189\n",
            "47            Washington      21.829195\n",
            "32              New York      20.392363\n"
          ]
        }
      ]
    }
  ]
}