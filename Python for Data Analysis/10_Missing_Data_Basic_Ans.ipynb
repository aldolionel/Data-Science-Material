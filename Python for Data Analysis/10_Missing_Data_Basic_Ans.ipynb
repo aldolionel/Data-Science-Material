{
  "nbformat": 4,
  "nbformat_minor": 0,
  "metadata": {
    "colab": {
      "name": "10. Missing Data Basic Ans.ipynb",
      "provenance": []
    },
    "kernelspec": {
      "name": "python3",
      "display_name": "Python 3"
    },
    "language_info": {
      "name": "python"
    }
  },
  "cells": [
    {
      "cell_type": "code",
      "metadata": {
        "id": "Y-Jt1zODSxcb"
      },
      "source": [
        "# import pandas, numpy, and load dataset\n",
        "import pandas as pd\n",
        "import numpy as np\n",
        "import matplotlib.pyplot as plt\n",
        "import seaborn as sns"
      ],
      "execution_count": 1,
      "outputs": []
    },
    {
      "cell_type": "code",
      "metadata": {
        "colab": {
          "resources": {
            "http://localhost:8080/nbextensions/google.colab/files.js": {
              "data": "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",
              "ok": true,
              "headers": [
                [
                  "content-type",
                  "application/javascript"
                ]
              ],
              "status": 200,
              "status_text": ""
            }
          },
          "base_uri": "https://localhost:8080/",
          "height": 73
        },
        "id": "4cMvHSScX90N",
        "outputId": "25229580-42bb-45c9-f920-b470acf9d288"
      },
      "source": [
        "from google.colab import files\n",
        "uploaded = files.upload()"
      ],
      "execution_count": 27,
      "outputs": [
        {
          "output_type": "display_data",
          "data": {
            "text/html": [
              "\n",
              "     <input type=\"file\" id=\"files-021a3e83-eabc-4f2e-9cd0-2b6a63227f29\" name=\"files[]\" multiple disabled\n",
              "        style=\"border:none\" />\n",
              "     <output id=\"result-021a3e83-eabc-4f2e-9cd0-2b6a63227f29\">\n",
              "      Upload widget is only available when the cell has been executed in the\n",
              "      current browser session. Please rerun this cell to enable.\n",
              "      </output>\n",
              "      <script src=\"/nbextensions/google.colab/files.js\"></script> "
            ],
            "text/plain": [
              "<IPython.core.display.HTML object>"
            ]
          },
          "metadata": {}
        },
        {
          "output_type": "stream",
          "name": "stdout",
          "text": [
            "Saving pima-indians-diabetes data.csv to pima-indians-diabetes data.csv\n"
          ]
        }
      ]
    },
    {
      "cell_type": "code",
      "metadata": {
        "id": "CGJu90cUZbTh"
      },
      "source": [
        "diabetes = pd.read_csv('pima-indians-diabetes data.csv')"
      ],
      "execution_count": 28,
      "outputs": []
    },
    {
      "cell_type": "markdown",
      "metadata": {
        "id": "O_al6raTWnt1"
      },
      "source": [
        "Sum two None values and print the output."
      ]
    },
    {
      "cell_type": "code",
      "metadata": {
        "colab": {
          "base_uri": "https://localhost:8080/"
        },
        "id": "7XnZb9WYWnGJ",
        "outputId": "eabde470-3062-4ce5-f5af-c35189ed08c1"
      },
      "source": [
        "try:\n",
        "  # Print the sum of two None's\n",
        "  print(\"Add operation output of 'None': \", None + None)\n",
        "\n",
        "except TypeError:\n",
        "  # Print if error\n",
        "  print(\"'None' does not support Arithmetic Operations!!\")"
      ],
      "execution_count": 14,
      "outputs": [
        {
          "output_type": "stream",
          "name": "stdout",
          "text": [
            "'None' does not support Arithmetic Operations!!\n"
          ]
        }
      ]
    },
    {
      "cell_type": "markdown",
      "metadata": {
        "id": "xj9RHT8oW15N"
      },
      "source": [
        "Sum two np.nan and print the output."
      ]
    },
    {
      "cell_type": "code",
      "metadata": {
        "colab": {
          "base_uri": "https://localhost:8080/"
        },
        "id": "xsIn3YuUW2Fo",
        "outputId": "83ef6114-8ee1-438f-a03a-9ae65e17833e"
      },
      "source": [
        "try:\n",
        "  # Print the sum of two np.nan's\n",
        "  print(\"Add operation output of 'np.nan': \", np.nan + np.nan)\n",
        "\n",
        "except TypeError:\n",
        "  # Print if error\n",
        "  print(\"'np.nan' does not support Arithmetic Operations!!\")"
      ],
      "execution_count": 15,
      "outputs": [
        {
          "output_type": "stream",
          "name": "stdout",
          "text": [
            "Add operation output of 'np.nan':  nan\n"
          ]
        }
      ]
    },
    {
      "cell_type": "markdown",
      "metadata": {
        "id": "Q6j9tSeuW-8f"
      },
      "source": [
        "Print the output of logical or of two None."
      ]
    },
    {
      "cell_type": "code",
      "metadata": {
        "colab": {
          "base_uri": "https://localhost:8080/"
        },
        "id": "NfUAisV-XA-k",
        "outputId": "81adebff-cb2b-4a22-d60b-eac4bcdb1b7b"
      },
      "source": [
        "try:\n",
        "  # Print the output of logical OR of two None's\n",
        "  print(\"OR operation output of 'None': \", None or None)\n",
        "\n",
        "except TypeError:\n",
        "  # Print if error\n",
        "  print(\"'None' does not support Logical Operations!!\")"
      ],
      "execution_count": 16,
      "outputs": [
        {
          "output_type": "stream",
          "name": "stdout",
          "text": [
            "OR operation output of 'None':  None\n"
          ]
        }
      ]
    },
    {
      "cell_type": "markdown",
      "metadata": {
        "id": "jdhROG-7XJRg"
      },
      "source": [
        "Print the output of logical or of two np.nan."
      ]
    },
    {
      "cell_type": "code",
      "metadata": {
        "colab": {
          "base_uri": "https://localhost:8080/"
        },
        "id": "AeFvxZkzXJ1I",
        "outputId": "5bc843c0-6abc-46c6-d8ec-aad045164bb7"
      },
      "source": [
        "try:\n",
        "  # Print the output of logical OR of two np.nan's\n",
        "  print(\"OR operation output of 'np.nan': \", np.nan or np.nan)\n",
        "\n",
        "except TypeError:\n",
        "  # Print if error\n",
        "  print(\"'np.nan' does not support Logical Operations!!\")"
      ],
      "execution_count": 17,
      "outputs": [
        {
          "output_type": "stream",
          "name": "stdout",
          "text": [
            "OR operation output of 'np.nan':  nan\n"
          ]
        }
      ]
    },
    {
      "cell_type": "markdown",
      "metadata": {
        "id": "719KQNxwXR57"
      },
      "source": [
        "Compare two None using == and print the output."
      ]
    },
    {
      "cell_type": "code",
      "metadata": {
        "colab": {
          "base_uri": "https://localhost:8080/"
        },
        "id": "r-dpxJi4XRSr",
        "outputId": "318aad12-db0d-4718-f402-5f74b2c4996f"
      },
      "source": [
        "try:\n",
        "  # Print the comparison of two 'None's\n",
        "  print(\"'None' comparison output: \", None == None)\n",
        "\n",
        "except TypeError:\n",
        "  # Print if error\n",
        "  print(\"'None' does not support this operation!!\")"
      ],
      "execution_count": 18,
      "outputs": [
        {
          "output_type": "stream",
          "name": "stdout",
          "text": [
            "'None' comparison output:  True\n"
          ]
        }
      ]
    },
    {
      "cell_type": "markdown",
      "metadata": {
        "id": "D5imqC9aXXHs"
      },
      "source": [
        "Compare two np.nan using == and print the output."
      ]
    },
    {
      "cell_type": "code",
      "metadata": {
        "colab": {
          "base_uri": "https://localhost:8080/"
        },
        "id": "axr9GeooXX4q",
        "outputId": "70ca22f5-d5d1-4073-8aae-557272e4cd05"
      },
      "source": [
        "try:\n",
        "  # Print the comparison of two 'np.nan's\n",
        "  print(\"'np.nan' comparison output: \", np.nan == np.nan)\n",
        "\n",
        "except TypeError:\n",
        "  # Print if error\n",
        "  print(\"'np.nan' does not support this operation!!\")"
      ],
      "execution_count": 19,
      "outputs": [
        {
          "output_type": "stream",
          "name": "stdout",
          "text": [
            "'np.nan' comparison output:  False\n"
          ]
        }
      ]
    },
    {
      "cell_type": "markdown",
      "metadata": {
        "id": "ffNFmsjuXcBN"
      },
      "source": [
        "Print whether None is not a number."
      ]
    },
    {
      "cell_type": "code",
      "metadata": {
        "colab": {
          "base_uri": "https://localhost:8080/"
        },
        "id": "XdIG79AFXbgJ",
        "outputId": "fc2617ac-bebc-40f2-a0cc-cbe7dfdaddcc"
      },
      "source": [
        "try:\n",
        "  # Check if 'None' is 'NaN'\n",
        "  print(\"Is 'None' same as nan? \", np.isnan(None))\n",
        "\n",
        "except TypeError:\n",
        "  # Print if error\n",
        "  print(\"Function 'np.isnan()' does not support this Type!!\")"
      ],
      "execution_count": 20,
      "outputs": [
        {
          "output_type": "stream",
          "name": "stdout",
          "text": [
            "Function 'np.isnan()' does not support this Type!!\n"
          ]
        }
      ]
    },
    {
      "cell_type": "markdown",
      "metadata": {
        "id": "5pvX-jx0Xhbs"
      },
      "source": [
        "Print whether np.nan is not a number."
      ]
    },
    {
      "cell_type": "code",
      "metadata": {
        "colab": {
          "base_uri": "https://localhost:8080/"
        },
        "id": "dP3Om-usXh--",
        "outputId": "0a9f601e-775e-44d2-9376-5c1219327a46"
      },
      "source": [
        "try:\n",
        "  # Check if 'np.nan' is 'NaN'\n",
        "  print(\"Is 'np.nan' same as nan? \", np.isnan(np.nan))\n",
        "\n",
        "except TypeError:\n",
        "  # Print if error\n",
        "  print(\"Function 'np.isnan()' does not support this Type!!\")"
      ],
      "execution_count": 21,
      "outputs": [
        {
          "output_type": "stream",
          "name": "stdout",
          "text": [
            "Is 'np.nan' same as nan?  True\n"
          ]
        }
      ]
    },
    {
      "cell_type": "markdown",
      "metadata": {
        "id": "x7h7P1PtXn_Q"
      },
      "source": [
        "1. Read the CSV version of the dataset into a pandas DataFrame.\n",
        "2. Print the DataFrame information.\n",
        "3. Store unique values of temp column to temp_unique\n",
        "4. Print the sorted values of temp "
      ]
    },
    {
      "cell_type": "code",
      "metadata": {
        "colab": {
          "base_uri": "https://localhost:8080/"
        },
        "id": "PyRjtftmXoew",
        "outputId": "13da9154-2c1a-45c7-b32c-925449c28fe7"
      },
      "source": [
        "# Read the dataset 'air quality.csv'\n",
        "air = pd.read_csv('air-quality.csv')\n",
        "print(air.head())\n",
        "\n",
        "# Print the info of college\n",
        "print(air.info())\n",
        "\n",
        "# Store unique values of 'csat' column to 'csat_unique'\n",
        "temp_unique = air.Temp.unique()\n",
        "\n",
        "# Print the sorted values of csat_unique\n",
        "print(np.sort(temp_unique))"
      ],
      "execution_count": 26,
      "outputs": [
        {
          "output_type": "stream",
          "name": "stdout",
          "text": [
            "         Date  Ozone  Solar  Wind  Temp\n",
            "0  1976-05-01   41.0  190.0   7.4    67\n",
            "1  1976-05-02   36.0  118.0   8.0    72\n",
            "2  1976-05-03   12.0  149.0  12.6    74\n",
            "3  1976-05-04   18.0  313.0  11.5    62\n",
            "4  1976-05-05    NaN    NaN  14.3    56\n",
            "<class 'pandas.core.frame.DataFrame'>\n",
            "RangeIndex: 153 entries, 0 to 152\n",
            "Data columns (total 5 columns):\n",
            " #   Column  Non-Null Count  Dtype  \n",
            "---  ------  --------------  -----  \n",
            " 0   Date    153 non-null    object \n",
            " 1   Ozone   116 non-null    float64\n",
            " 2   Solar   146 non-null    float64\n",
            " 3   Wind    153 non-null    float64\n",
            " 4   Temp    153 non-null    int64  \n",
            "dtypes: float64(3), int64(1), object(1)\n",
            "memory usage: 6.1+ KB\n",
            "None\n",
            "[56 57 58 59 61 62 63 64 65 66 67 68 69 70 71 72 73 74 75 76 77 78 79 80\n",
            " 81 82 83 84 85 86 87 88 89 90 91 92 93 94 96 97]\n"
          ]
        }
      ]
    },
    {
      "cell_type": "markdown",
      "metadata": {
        "id": "Z6SST3gWZnhJ"
      },
      "source": [
        "1. Describe the basic statistics of diabetes.\n",
        "2. Isolate the values of BMI which are equal to 0 and store them in zero_bmi.\n",
        "3. Set all the values in the column BMI that are equal to 0 to np.nan.\n",
        "4. Print the rows with NaN values in BMI."
      ]
    },
    {
      "cell_type": "code",
      "metadata": {
        "colab": {
          "base_uri": "https://localhost:8080/"
        },
        "id": "Q4-v7GwQZAng",
        "outputId": "bfd7b7f1-98d3-48b9-a98e-a05f958d870c"
      },
      "source": [
        "# Print the description of the data\n",
        "print(diabetes.describe())\n",
        "\n",
        "# Store all rows of column 'BMI' which are equal to 0 \n",
        "zero_bmi = diabetes.BMI[diabetes.BMI == 0]\n",
        "print(zero_bmi)\n",
        "\n",
        "# Set the 0 values of column 'BMI' to np.nan\n",
        "diabetes.BMI[diabetes.BMI == 0] = np.nan\n",
        "\n",
        "# Print the 'NaN' values in the column BMI\n",
        "print(diabetes.BMI[np.isnan(diabetes.BMI)])"
      ],
      "execution_count": 30,
      "outputs": [
        {
          "output_type": "stream",
          "name": "stdout",
          "text": [
            "         Pregnant     Glucose  ...         Age       Class\n",
            "count  768.000000  763.000000  ...  768.000000  768.000000\n",
            "mean     3.845052  121.686763  ...   33.240885    0.348958\n",
            "std      3.369578   30.535641  ...   11.760232    0.476951\n",
            "min      0.000000   44.000000  ...   21.000000    0.000000\n",
            "25%      1.000000   99.000000  ...   24.000000    0.000000\n",
            "50%      3.000000  117.000000  ...   29.000000    0.000000\n",
            "75%      6.000000  141.000000  ...   41.000000    1.000000\n",
            "max     17.000000  199.000000  ...   81.000000    1.000000\n",
            "\n",
            "[8 rows x 9 columns]\n",
            "Series([], Name: BMI, dtype: float64)\n",
            "9     NaN\n",
            "49    NaN\n",
            "60    NaN\n",
            "81    NaN\n",
            "145   NaN\n",
            "371   NaN\n",
            "426   NaN\n",
            "494   NaN\n",
            "522   NaN\n",
            "684   NaN\n",
            "706   NaN\n",
            "Name: BMI, dtype: float64\n"
          ]
        },
        {
          "output_type": "stream",
          "name": "stderr",
          "text": [
            "/usr/local/lib/python3.7/dist-packages/ipykernel_launcher.py:9: SettingWithCopyWarning: \n",
            "A value is trying to be set on a copy of a slice from a DataFrame\n",
            "\n",
            "See the caveats in the documentation: https://pandas.pydata.org/pandas-docs/stable/user_guide/indexing.html#returning-a-view-versus-a-copy\n",
            "  if __name__ == '__main__':\n"
          ]
        }
      ]
    },
    {
      "cell_type": "markdown",
      "metadata": {
        "id": "IU5jmZiQaEy1"
      },
      "source": [
        "1. Load 'air-quality.csv' into a pandas DataFrame while parsing the 'Date' column and setting it to the index column as well.\n",
        "2. Find the number of missing values in airquality and store it into airquality_nullity.\n",
        "3. Calculate the number of missing values in airquality.\n",
        "4. Calculate the percentage of missing values in airquality."
      ]
    },
    {
      "cell_type": "code",
      "metadata": {
        "colab": {
          "base_uri": "https://localhost:8080/"
        },
        "id": "g6OMV3vtaD6i",
        "outputId": "e140ac5f-741c-4d78-a32d-d77269da1ff1"
      },
      "source": [
        "# Load the airquality dataset\n",
        "airquality = pd.read_csv('air-quality.csv', parse_dates=['Date'], index_col='Date')\n",
        "\n",
        "# Create a nullity DataFrame airquality_nullity\n",
        "airquality_nullity = airquality.isnull()\n",
        "print(airquality_nullity.head())\n",
        "\n",
        "# Calculate total of missing values\n",
        "missing_values_sum = airquality_nullity.sum()\n",
        "print('Total Missing Values:\\n', missing_values_sum)\n",
        "\n",
        "# Calculate percentage of missing values\n",
        "missing_values_percent = airquality_nullity.mean() * 100\n",
        "print('Percentage of Missing Values:\\n', missing_values_percent)"
      ],
      "execution_count": 32,
      "outputs": [
        {
          "output_type": "stream",
          "name": "stdout",
          "text": [
            "            Ozone  Solar   Wind   Temp\n",
            "Date                                  \n",
            "1976-05-01  False  False  False  False\n",
            "1976-05-02  False  False  False  False\n",
            "1976-05-03  False  False  False  False\n",
            "1976-05-04  False  False  False  False\n",
            "1976-05-05   True   True  False  False\n",
            "Total Missing Values:\n",
            " Ozone    37\n",
            "Solar     7\n",
            "Wind      0\n",
            "Temp      0\n",
            "dtype: int64\n",
            "Percentage of Missing Values:\n",
            " Ozone    24.183007\n",
            "Solar     4.575163\n",
            "Wind      0.000000\n",
            "Temp      0.000000\n",
            "dtype: float64\n"
          ]
        }
      ]
    },
    {
      "cell_type": "markdown",
      "metadata": {
        "id": "bE4bqHXZh_Ru"
      },
      "source": [
        "Plot a bar chart of the missing values in airquality."
      ]
    },
    {
      "cell_type": "code",
      "metadata": {
        "colab": {
          "base_uri": "https://localhost:8080/",
          "height": 544
        },
        "id": "6ckc4tK_h-jd",
        "outputId": "34baaaf8-40b8-416d-cf02-e21a0cd15419"
      },
      "source": [
        "# Import missingno as msno\n",
        "import missingno as msno\n",
        "\n",
        "# Plot amount of missingness\n",
        "msno.bar(airquality)\n",
        "\n",
        "# Display bar chart of missing values\n",
        "display(\"/usr/local/share/datasets/bar_chart.png\")"
      ],
      "execution_count": 33,
      "outputs": [
        {
          "output_type": "display_data",
          "data": {
            "application/vnd.google.colaboratory.intrinsic+json": {
              "type": "string"
            },
            "text/plain": [
              "'/usr/local/share/datasets/bar_chart.png'"
            ]
          },
          "metadata": {}
        },
        {
          "output_type": "display_data",
          "data": {
            "image/png": "[encoded data removed]",
            "text/plain": [
              "<Figure size 1800x720 with 3 Axes>"
            ]
          },
          "metadata": {
            "needs_background": "light"
          }
        }
      ]
    },
    {
      "cell_type": "markdown",
      "metadata": {
        "id": "j0KV1m7siK1F"
      },
      "source": [
        "Plot the nullity matrix of airquality.\n",
        "\n",
        "**HINT!**\n",
        "\n",
        "To plot the nullity matrix, use the msno.matrix() function."
      ]
    },
    {
      "cell_type": "code",
      "metadata": {
        "colab": {
          "base_uri": "https://localhost:8080/",
          "height": 527
        },
        "id": "rLSdsSKbiLYI",
        "outputId": "a1cfb995-1ee7-45c2-eb3b-6b9a27080e82"
      },
      "source": [
        "# Import missingno as msno\n",
        "import missingno as msno\n",
        "\n",
        "# Plot nullity matrix of airquality\n",
        "msno.matrix(airquality)\n",
        "\n",
        "# Display nullity matrix\n",
        "display(\"/usr/local/share/datasets/matrix.png\")"
      ],
      "execution_count": 34,
      "outputs": [
        {
          "output_type": "display_data",
          "data": {
            "application/vnd.google.colaboratory.intrinsic+json": {
              "type": "string"
            },
            "text/plain": [
              "'/usr/local/share/datasets/matrix.png'"
            ]
          },
          "metadata": {}
        },
        {
          "output_type": "display_data",
          "data": {
            "image/png": "[encoded data removed]",
            "text/plain": [
              "<Figure size 1800x720 with 2 Axes>"
            ]
          },
          "metadata": {
            "needs_background": "light"
          }
        }
      ]
    },
    {
      "cell_type": "markdown",
      "metadata": {
        "id": "M0E7AqOeiS5S"
      },
      "source": [
        ""
      ]
    }
  ]
}