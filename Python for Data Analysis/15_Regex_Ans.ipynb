{
  "nbformat": 4,
  "nbformat_minor": 0,
  "metadata": {
    "colab": {
      "name": "15. Regex Ans.ipynb",
      "provenance": []
    },
    "kernelspec": {
      "name": "python3",
      "display_name": "Python 3"
    },
    "language_info": {
      "name": "python"
    }
  },
  "cells": [
    {
      "cell_type": "code",
      "metadata": {
        "id": "ipijHL6NfHKn"
      },
      "source": [
        "# import pandas, numpy, and load dataset\n",
        "import pandas as pd\n",
        "import numpy as np\n",
        "import matplotlib.pyplot as plt\n",
        "import seaborn as sns"
      ],
      "execution_count": 1,
      "outputs": []
    },
    {
      "cell_type": "markdown",
      "metadata": {
        "id": "R04xQvuuf-pM"
      },
      "source": [
        "1. Import the re module.\n",
        "2. Write a regex that matches the user mentions that starts with @ and follows the pattern, e.g. @robot3!.\n",
        "3. Find all the matches of the pattern in the sentiment_analysis variable.\n",
        "\n",
        "**HINT!**\n",
        "\n",
        "* Always start a regex with r. Remember that normal characters match themselves. Use \\d to indicate digits and \\W to indicate any non-word character, for example, & or #.\n",
        "* To find all matches of pattern in a string, use the method .findall() from the re module. Don't forget to specify the pattern and the string as arguments."
      ]
    },
    {
      "cell_type": "code",
      "metadata": {
        "id": "iiknaKyNf--D"
      },
      "source": [
        "sentiment_analysis = '@robot9! @robot4& I have a good feeling that the show isgoing to be amazing! @robot9$ @robot7%'"
      ],
      "execution_count": 2,
      "outputs": []
    },
    {
      "cell_type": "code",
      "metadata": {
        "colab": {
          "base_uri": "https://localhost:8080/"
        },
        "id": "MBvMVT8zgMfz",
        "outputId": "05a29f3e-0368-4351-fa20-faa8ef53df1e"
      },
      "source": [
        "# Import the re module\n",
        "import re\n",
        "\n",
        "# Write the regex\n",
        "regex = r\"@robot\\d\\W\"\n",
        "\n",
        "# Find all matches of regex\n",
        "print(re.findall(regex, sentiment_analysis))"
      ],
      "execution_count": 3,
      "outputs": [
        {
          "output_type": "stream",
          "name": "stdout",
          "text": [
            "['@robot9!', '@robot4&', '@robot9$', '@robot7%']\n"
          ]
        }
      ]
    },
    {
      "cell_type": "markdown",
      "metadata": {
        "id": "HBshmpl5gSEZ"
      },
      "source": [
        "Write a regex that matches the number of user mentions given as, for example, User_mentions:9 in sentiment_analysis.\n",
        "\n",
        "\n",
        "**HINT!**\n",
        "\n",
        "Always start a regex with r. Remember that normal characters match themselves. Use \\d to indicate digits and \\s for spaces. Use the .findall() method of the re module."
      ]
    },
    {
      "cell_type": "code",
      "metadata": {
        "id": "Lyeka5SngSVv"
      },
      "source": [
        "sentiment_analysis = \"Unfortunately one of those moments wasn't a giant squid monster. User_mentions:2, likes: 9, number of retweets: 7\""
      ],
      "execution_count": 4,
      "outputs": []
    },
    {
      "cell_type": "code",
      "metadata": {
        "colab": {
          "base_uri": "https://localhost:8080/"
        },
        "id": "tbRhxZNtgd_M",
        "outputId": "b4bfbfba-5fc7-4149-8379-7e06f3168570"
      },
      "source": [
        "# Write a regex to obtain user mentions\n",
        "print(re.findall(r\"User_mentions:\\d\", sentiment_analysis))"
      ],
      "execution_count": 5,
      "outputs": [
        {
          "output_type": "stream",
          "name": "stdout",
          "text": [
            "['User_mentions:2']\n"
          ]
        }
      ]
    },
    {
      "cell_type": "markdown",
      "metadata": {
        "id": "mL2QtJmxghoU"
      },
      "source": [
        "Write a regex that matches the number of likes given as, for example, likes: 5 in sentiment_analysis."
      ]
    },
    {
      "cell_type": "code",
      "metadata": {
        "colab": {
          "base_uri": "https://localhost:8080/"
        },
        "id": "GoEblCPAgfH0",
        "outputId": "8a2f0161-c4c3-457f-ccf9-fd41ae56c057"
      },
      "source": [
        "# Write a regex to obtain number of likes\n",
        "print(re.findall(r\"likes:\\s\\d\", sentiment_analysis))"
      ],
      "execution_count": 6,
      "outputs": [
        {
          "output_type": "stream",
          "name": "stdout",
          "text": [
            "['likes: 9']\n"
          ]
        }
      ]
    },
    {
      "cell_type": "markdown",
      "metadata": {
        "id": "DwDgAhoBhIvK"
      },
      "source": [
        "Write a regex that matches the number of retweets given as, for example, number of retweets: 4 in sentiment_analysis.\n",
        "\n",
        "**HINT!**\n",
        "\n",
        "Always start a regex with r. Remember that normal characters match themselves. Use \\d to indicate digits and \\s to indicate whitespace. Use the .findall() method of the re module."
      ]
    },
    {
      "cell_type": "code",
      "metadata": {
        "colab": {
          "base_uri": "https://localhost:8080/"
        },
        "id": "lbPHiAizhdU6",
        "outputId": "4ec1c42d-8f36-479f-ba0b-bef1f4e7cd41"
      },
      "source": [
        "# Write a regex to obtain number of retweets\n",
        "print(re.findall(r\"number\\sof\\sretweets:\\s\\d\", sentiment_analysis))"
      ],
      "execution_count": 7,
      "outputs": [
        {
          "output_type": "stream",
          "name": "stdout",
          "text": [
            "['number of retweets: 7']\n"
          ]
        }
      ]
    },
    {
      "cell_type": "markdown",
      "metadata": {
        "id": "JGS9Xm8Whse6"
      },
      "source": [
        "1. Write a regex that matches the pattern separating the sentences in sentiment_analysis, e.g. &4break!.\n",
        "2. Replace regex_sentence with a space \" \" in the variable sentiment_analysis. Assign it to sentiment_sub.\n",
        "3. Write a regex that matches the pattern separating the words in sentiment_analysis, e.g. #newH.\n",
        "4. Replace regex_words with a space in the variable sentiment_sub. Assign it to sentiment_final and print out the result.\n",
        "\n",
        "**HINT!**\n",
        "\n",
        "* Start a regex with r. Use \\W to match special characters and \\d to match digits. Don't forget that normal characters match themselves.\n",
        "* To replace a regex in a string, use the method .sub of the re module. Don't forget to specify regex, the new characters and the string inside the method.\n"
      ]
    },
    {
      "cell_type": "code",
      "metadata": {
        "id": "-iMtBWvhhzgi"
      },
      "source": [
        "sentiment_analysis = 'He#newHis%newTin love with$newPscrappy. #8break%He is&newYmissing him@newLalready'"
      ],
      "execution_count": 8,
      "outputs": []
    },
    {
      "cell_type": "code",
      "metadata": {
        "colab": {
          "base_uri": "https://localhost:8080/"
        },
        "id": "qnzGIq3Oh4Ho",
        "outputId": "9c3bfe5c-8b21-49db-ff06-3018c6629827"
      },
      "source": [
        "# Write a regex to match pattern separating sentences\n",
        "regex_sentence = r\"\\W\\dbreak\\W\"\n",
        "\n",
        "# Replace the regex_sentence with a space\n",
        "sentiment_sub = re.sub(regex_sentence, \" \", sentiment_analysis)\n",
        "\n",
        "# Write a regex to match pattern separating words\n",
        "regex_words = r\"\\Wnew\\w\"\n",
        "\n",
        "# Replace the regex_words and print the result\n",
        "sentiment_final = re.sub(regex_words, \" \", sentiment_sub)\n",
        "print(sentiment_final)"
      ],
      "execution_count": 10,
      "outputs": [
        {
          "output_type": "stream",
          "name": "stdout",
          "text": [
            "He is in love with scrappy.  He is missing him already\n"
          ]
        }
      ]
    },
    {
      "cell_type": "markdown",
      "metadata": {
        "id": "CkFWPVfVif_P"
      },
      "source": [
        "1. Import the re module.\n",
        "2. Write a regex to find all the matches of http links appearing in each tweet in sentiment_analysis. Print out the result.\n",
        "3. Write a regex to find all the matches of user mentions appearing in each tweet in sentiment_analysis. Print out the result.\n",
        "\n",
        "**HINT!**\n",
        "\n",
        "* To match a pattern that starts with sequence and has no whitespace, use sequence and \\S+. To find all matches, use the method .findall().\n",
        "* To match a pattern that starts with @ symbol and can contain letters and numbers, use @ and \\w+. To find all matches, use the method .findall()."
      ]
    },
    {
      "cell_type": "code",
      "metadata": {
        "colab": {
          "base_uri": "https://localhost:8080/"
        },
        "id": "D5XnlUpIigXT",
        "outputId": "ecd97d0a-497a-4016-b27e-b8aa5e649333"
      },
      "source": [
        "sentiment_analysis = ['Boredd. Colddd @blueKnight39 Internet keeps stuffing up. Save me! https://www.tellyourstory.com'\n",
        ", \"I had a horrible nightmare last night @anitaLopez98 @MyredHat31 which affected my sleep, now I'm really tired\",\n",
        "'im lonely  keep me company @YourBestCompany! @foxRadio https://radio.foxnews.com 22 female, new york'\n",
        "]\n",
        "sentiment_analysis"
      ],
      "execution_count": 18,
      "outputs": [
        {
          "output_type": "execute_result",
          "data": {
            "text/plain": [
              "['Boredd. Colddd @blueKnight39 Internet keeps stuffing up. Save me! https://www.tellyourstory.com',\n",
              " \"I had a horrible nightmare last night @anitaLopez98 @MyredHat31 which affected my sleep, now I'm really tired\",\n",
              " 'im lonely  keep me company @YourBestCompany! @foxRadio https://radio.foxnews.com 22 female, new york']"
            ]
          },
          "metadata": {},
          "execution_count": 18
        }
      ]
    },
    {
      "cell_type": "code",
      "metadata": {
        "colab": {
          "base_uri": "https://localhost:8080/"
        },
        "id": "p_JqoFYxi6_v",
        "outputId": "98c49d86-96a1-41ca-c7c7-6ebbd43f0f9a"
      },
      "source": [
        "# Import re module\n",
        "import re\n",
        "\n",
        "for tweet in sentiment_analysis:\n",
        "  \t# Write regex to match http links and print out result\n",
        "\tprint(re.findall(r\"http\\S+\", tweet))\n",
        "\n",
        "\t# Write regex to match user mentions and print out result\n",
        "\tprint(re.findall(r\"@\\w+\", tweet))"
      ],
      "execution_count": 19,
      "outputs": [
        {
          "output_type": "stream",
          "name": "stdout",
          "text": [
            "['https://www.tellyourstory.com']\n",
            "['@blueKnight39']\n",
            "[]\n",
            "['@anitaLopez98', '@MyredHat31']\n",
            "['https://radio.foxnews.com']\n",
            "['@YourBestCompany', '@foxRadio']\n"
          ]
        }
      ]
    },
    {
      "cell_type": "markdown",
      "metadata": {
        "id": "nrjNPkBQkyoE"
      },
      "source": [
        "1. Complete the for-loop with a regex that finds all dates in a format similar to 27 minutes ago or 4 hours ago.\n",
        "\n",
        "\n",
        "**HINT!**\n",
        "\n",
        "* To match a number that appears once or twice, use \\d{1,2}. Remember that \\s indicates whitespace present in the pattern. You can use \\w for normal characters together with + to specify that it can be repeated once or more times. Pay attention that both formats end in ago and normal characters match themselves. To find all matches use .findall()."
      ]
    },
    {
      "cell_type": "code",
      "metadata": {
        "id": "tjA07E0Iky4S"
      },
      "source": [
        "sentiment_analysis = ['I would like to apologize for the repeated Video Games Live related tweets. 32 minutes ago',\n",
        "                      '@zaydia but i cant figure out how to get there / back / pay for a hotel 1st May 2019',\n",
        "                      'FML: So much for seniority, bc of technological ineptness 23rd June 2018 17:54']"
      ],
      "execution_count": 20,
      "outputs": []
    },
    {
      "cell_type": "code",
      "metadata": {
        "colab": {
          "base_uri": "https://localhost:8080/"
        },
        "id": "QsE3tmTzlFMY",
        "outputId": "7c6dd4ec-33a3-4e1d-94df-b52e9d089788"
      },
      "source": [
        "# Complete the for loop with a regex to find dates\n",
        "for date in sentiment_analysis:\n",
        "\tprint(re.findall(r\"\\d{1,2}\\s\\w+\\sago\", date))"
      ],
      "execution_count": 21,
      "outputs": [
        {
          "output_type": "stream",
          "name": "stdout",
          "text": [
            "['32 minutes ago']\n",
            "[]\n",
            "[]\n"
          ]
        }
      ]
    },
    {
      "cell_type": "markdown",
      "metadata": {
        "id": "yLlZa2xGlJGo"
      },
      "source": [
        "Complete the for-loop with a regex that finds all dates in a format similar to 23rd june 2018.\n",
        "\n",
        "**HINT!**\n",
        "\n",
        "To match a number that appears once or twice, use \\d{1,2}. Remember that \\s indicates whitespace present in the pattern. You can use \\w for normal characters together with + to specify that it can be repeated once or more times. If a date ends with the year you can use the {n} quantifier to specify that the number is repeated exactly n times. To find all matches use .findall()."
      ]
    },
    {
      "cell_type": "code",
      "metadata": {
        "colab": {
          "base_uri": "https://localhost:8080/"
        },
        "id": "QOJkVhxwlOBT",
        "outputId": "e586cca8-1d3a-427c-df12-374213084a30"
      },
      "source": [
        "# Complete the for loop with a regex to find dates\n",
        "for date in sentiment_analysis:\n",
        "\tprint(re.findall(r\"\\d{1,2}\\w+\\s\\w+\\s\\d{4}\", date))"
      ],
      "execution_count": 22,
      "outputs": [
        {
          "output_type": "stream",
          "name": "stdout",
          "text": [
            "[]\n",
            "['1st May 2019']\n",
            "['23rd June 2018']\n"
          ]
        }
      ]
    },
    {
      "cell_type": "markdown",
      "metadata": {
        "id": "QUbghyMllShz"
      },
      "source": [
        "Complete the for-loop with a regex that finds all dates in a format similar to 1st september 2019 17:25.\n",
        "\n",
        "**HINT!**\n",
        "\n",
        "To specify the time, you can use \\d together with the {n,m} quantifier to indicate a minimum n and a maximum m numbers of times. The : is there to match the : appearing between numbers. Remember that \\s indicates whitespace present in the pattern. To find all matches use .findall()."
      ]
    },
    {
      "cell_type": "code",
      "metadata": {
        "colab": {
          "base_uri": "https://localhost:8080/"
        },
        "id": "pXkzgPaLlW9m",
        "outputId": "67dd31e5-2eae-4849-9f09-b4c789869a75"
      },
      "source": [
        "# Complete the for loop with a regex to find dates\n",
        "for date in sentiment_analysis:\n",
        "\tprint(re.findall(r\"\\d{1,2}\\w+\\s\\w+\\s\\d{4}\\s\\d{1,2}:\\d{2}\", date))"
      ],
      "execution_count": 23,
      "outputs": [
        {
          "output_type": "stream",
          "name": "stdout",
          "text": [
            "[]\n",
            "[]\n",
            "['23rd June 2018 17:54']\n"
          ]
        }
      ]
    },
    {
      "cell_type": "markdown",
      "metadata": {
        "id": "h8XGGYsvlwHd"
      },
      "source": [
        "1. Write a regex that matches the described hashtag pattern. Assign it to the regex variable.\n",
        "2. Replace all the matches of the regex with an empty string \"\". Assign it to no_hashtag variable.\n",
        "3. Split the text in the no_hashtag variable at every match of one or more consecutive whitespace.\n",
        "\n",
        "**HINT!**\n",
        "\n",
        "* To match a letter or a number, use \\w. If you want these character to be repeated once or multiple times, you can use +. The hashtag symbol will match itself.\n",
        "* To replace a regex with a new sequence, use .sub(). Remember to specify the regex, the new sequence of characters, and the string inside the method.\n",
        "* To split a text at every pattern match, use .split(). To specify you want to split the text at one or more consecutive whitespace (\\s), use the + quantifier."
      ]
    },
    {
      "cell_type": "code",
      "metadata": {
        "id": "6jkWwNu4lwcV"
      },
      "source": [
        "sentiment_analysis = 'ITS NOT ENOUGH TO SAY THAT IMISS U #MissYou #SoMuch #Friendship #Forever'"
      ],
      "execution_count": 24,
      "outputs": []
    },
    {
      "cell_type": "code",
      "metadata": {
        "colab": {
          "base_uri": "https://localhost:8080/"
        },
        "id": "h2JTRulhmKEr",
        "outputId": "5a1189c3-a9f4-4664-d590-2aef0490d48c"
      },
      "source": [
        "# Write a regex matching the hashtag pattern\n",
        "regex = r\"#\\w+\"\n",
        "\n",
        "# Replace the regex by an empty string\n",
        "no_hashtag = re.sub(regex, \"\", sentiment_analysis)\n",
        "\n",
        "# Get tokens by splitting text\n",
        "print(re.split(r\"\\s+\", no_hashtag))"
      ],
      "execution_count": 25,
      "outputs": [
        {
          "output_type": "stream",
          "name": "stdout",
          "text": [
            "['ITS', 'NOT', 'ENOUGH', 'TO', 'SAY', 'THAT', 'IMISS', 'U', '']\n"
          ]
        }
      ]
    },
    {
      "cell_type": "markdown",
      "metadata": {
        "id": "eGu4pn6ZmS9-"
      },
      "source": [
        "1. Write a regex that matches the pattern of the text file names, e.g. aemyfile.txt.\n",
        "2. Find all matches of the regex in the elements of sentiment_analysis. Print out the result.\n",
        "3. Replace all matches of the regex with an empty string \"\". Print out the result.\n",
        "\n",
        "**HINT!**\n",
        "\n",
        "* Use [] to indicate optional characters such as [aeiou]. The dot . metacharacter matches any character. The txt ending can match itself. Use ^ to anchor it to the beginning of the string.\n",
        "* Use .findall() to find all matches of a regex. Specify regex and string.\n",
        "* Use .sub() to replace all matches of a regex. Specify the regex, new sequence, and string."
      ]
    },
    {
      "cell_type": "code",
      "metadata": {
        "id": "GQDk1DThmTW-"
      },
      "source": [
        "sentiment_analysis = ['AIshadowhunters.txt aaaaand back to my literature review. At least i have a friendly cup of coffee to keep me company',\n",
        "                      \"ouMYTAXES.txt I am worried that I won't get my $900 even though I paid tax last year\"]"
      ],
      "execution_count": 26,
      "outputs": []
    },
    {
      "cell_type": "code",
      "metadata": {
        "colab": {
          "base_uri": "https://localhost:8080/"
        },
        "id": "wg8mblkCmch1",
        "outputId": "bdd6faba-4de3-4f08-b427-a6a5aa4b6415"
      },
      "source": [
        "# Write a regex to match text file name\n",
        "regex = r\"^[aeiouAEIOU]{2,3}.+txt\"\n",
        "\n",
        "for text in sentiment_analysis:\n",
        "\t# Find all matches of the regex\n",
        "\tprint(re.findall(regex, text))\n",
        "    \n",
        "\t# Replace all matches with empty string\n",
        "\tprint(re.sub(regex, \"\", text))"
      ],
      "execution_count": 27,
      "outputs": [
        {
          "output_type": "stream",
          "name": "stdout",
          "text": [
            "['AIshadowhunters.txt']\n",
            " aaaaand back to my literature review. At least i have a friendly cup of coffee to keep me company\n",
            "['ouMYTAXES.txt']\n",
            " I am worried that I won't get my $900 even though I paid tax last year\n"
          ]
        }
      ]
    },
    {
      "cell_type": "markdown",
      "metadata": {
        "id": "SRMHkAlSmy1I"
      },
      "source": [
        "1. Write a regular expression to match valid email addresses as described.\n",
        "2. Match the regex to the elements contained in emails.\n",
        "3. To print out the message indicating if it is a valid email or not, complete .format() statement.\n",
        "\n",
        "**HINT!**\n",
        "\n",
        "* To choose between different characters use []. Use a-z for lowercase, A-Z for uppercase letters and 0-9 for numbers. Don't forget to escape . and $ as they have another meaning. Use \\w for any word character.\n",
        "* To match a pattern to a string, use .match(pattern, string).\n",
        "* Remember the .format() syntax: \"text {variable}\".format(variable=string).\n"
      ]
    },
    {
      "cell_type": "code",
      "metadata": {
        "id": "FwvV3Xc0m2rw"
      },
      "source": [
        "emails = ['n.john.smith@gmail.com', '87victory@hotmail.com', '!#mary-=@msca.net']"
      ],
      "execution_count": 28,
      "outputs": []
    },
    {
      "cell_type": "code",
      "metadata": {
        "colab": {
          "base_uri": "https://localhost:8080/"
        },
        "id": "6_eBgWYKm6Kl",
        "outputId": "709aa802-1266-47ee-c69e-672754747f35"
      },
      "source": [
        "# Write a regex to match a valid email address\n",
        "regex = r\"[A-Za-z0-9!#%&*\\$\\.]+@\\w+\\.com\"\n",
        "\n",
        "for example in emails:\n",
        "  \t# Match the regex to the string\n",
        "    if re.match(regex, example):\n",
        "        # Complete the format method to print out the result\n",
        "      \tprint(\"The email {email_example} is a valid email\".format(email_example=example))\n",
        "    else:\n",
        "      \tprint(\"The email {email_example} is invalid\".format(email_example=example))   "
      ],
      "execution_count": 29,
      "outputs": [
        {
          "output_type": "stream",
          "name": "stdout",
          "text": [
            "The email n.john.smith@gmail.com is a valid email\n",
            "The email 87victory@hotmail.com is a valid email\n",
            "The email !#mary-=@msca.net is invalid\n"
          ]
        }
      ]
    },
    {
      "cell_type": "markdown",
      "metadata": {
        "id": "8ZMNi8_snh4d"
      },
      "source": [
        "1. Write a regular expression to check if the passwords are valid according to the description.\n",
        "2. Search the elements in the passwords list to find out if they are valid passwords.\n",
        "3. To print out the message indicating if it is a valid password or not, complete .format() statement."
      ]
    },
    {
      "cell_type": "code",
      "metadata": {
        "id": "boy-T3VVnhRu"
      },
      "source": [
        "passwords = ['Apple34!rose', 'My87hou#4$', 'abc123']"
      ],
      "execution_count": 30,
      "outputs": []
    },
    {
      "cell_type": "code",
      "metadata": {
        "colab": {
          "base_uri": "https://localhost:8080/"
        },
        "id": "RnCJvPu4ntGM",
        "outputId": "cdbcebef-4a9b-4548-df45-a5fc15c6706a"
      },
      "source": [
        "# Write a regex to check if the password is valid\n",
        "regex = r\"[A-Za-z0-9!#%&*\\$\\.]{8,20}\" \n",
        "\n",
        "for example in passwords:\n",
        "  \t# Scan the strings to find a match\n",
        "    if re.search(regex, example):\n",
        "        # Complete the format method to print out the result\n",
        "      \tprint(\"The password {pass_example} is a valid password\".format(pass_example=example))\n",
        "    else:\n",
        "      \tprint(\"The password {pass_example} is invalid\".format(pass_example=example))     "
      ],
      "execution_count": 31,
      "outputs": [
        {
          "output_type": "stream",
          "name": "stdout",
          "text": [
            "The password Apple34!rose is a valid password\n",
            "The password My87hou#4$ is a valid password\n",
            "The password abc123 is invalid\n"
          ]
        }
      ]
    },
    {
      "cell_type": "markdown",
      "metadata": {
        "id": "xqRSvZpmn32K"
      },
      "source": [
        "1. Import the re module.\n",
        "2. Write a regex expression to replace HTML tags with an empty string.\n",
        "3. Print out the result.\n",
        "\n",
        "**HINT!**\n",
        "\n",
        "Write a regex that looks for any character one or more times but uses a lazy quantifier by appending ?. Use it inside the function re.sub(regex,replacement, string)\n",
        "\n"
      ]
    },
    {
      "cell_type": "code",
      "metadata": {
        "id": "W6FdbzyPn4Kt"
      },
      "source": [
        "string = 'I want to see that <strong>amazing show</strong> again!'"
      ],
      "execution_count": 34,
      "outputs": []
    },
    {
      "cell_type": "code",
      "metadata": {
        "colab": {
          "base_uri": "https://localhost:8080/"
        },
        "id": "904kP7xkqx70",
        "outputId": "38f4cc3c-f29d-4a3b-ee67-b1bcb0001d83"
      },
      "source": [
        "# Import re\n",
        "import re\n",
        "\n",
        "# Write a regex to eliminate tags\n",
        "string_notags = re.sub(r\"<.+?>\", \"\", string)\n",
        "\n",
        "# Print out the result\n",
        "print(string_notags)"
      ],
      "execution_count": 35,
      "outputs": [
        {
          "output_type": "stream",
          "name": "stdout",
          "text": [
            "I want to see that amazing show again!\n"
          ]
        }
      ]
    },
    {
      "cell_type": "markdown",
      "metadata": {
        "id": "dkMhnhRYrtxM"
      },
      "source": [
        "1. Use a lazy quantifier to match all numbers that appear in the variable sentiment_analysis.\n",
        "\n",
        "**HINT!**\n",
        "\n",
        "* In order to use a lazy quantifier, append ? to a regex that looks for numbers that occur one or more times. Don't forget to use .findall() method from the re module."
      ]
    },
    {
      "cell_type": "code",
      "metadata": {
        "id": "-vwvQd-iruRZ"
      },
      "source": [
        "sentiment_analysis = 'Was intending to finish editing my 536-page novel manuscript tonight, but that will probably not happen. And only 12 pages are left '\n"
      ],
      "execution_count": 36,
      "outputs": []
    },
    {
      "cell_type": "code",
      "metadata": {
        "colab": {
          "base_uri": "https://localhost:8080/"
        },
        "id": "_ewvaiCIsGZh",
        "outputId": "4ee40c57-1942-4b15-be66-aa1aaef4b2f9"
      },
      "source": [
        "# Write a lazy regex expression \n",
        "numbers_found_lazy = re.findall(r\"[0-9]+?\", sentiment_analysis)\n",
        "\n",
        "# Print out the result\n",
        "print(numbers_found_lazy)"
      ],
      "execution_count": 37,
      "outputs": [
        {
          "output_type": "stream",
          "name": "stdout",
          "text": [
            "['5', '3', '6', '1', '2']\n"
          ]
        }
      ]
    },
    {
      "cell_type": "markdown",
      "metadata": {
        "id": "7ckurrPVsocc"
      },
      "source": [
        "Now, use a greedy quantifier to match all numbers that appear in the variable sentiment_analysis.\n",
        "\n",
        "**HINT!**\n",
        "\n",
        "In order to use a greedy quantifier, write a regex that looks for numbers that appear once or multiple times. Don't forget to use .findall() method from the re module."
      ]
    },
    {
      "cell_type": "code",
      "metadata": {
        "colab": {
          "base_uri": "https://localhost:8080/"
        },
        "id": "hXRp94nMsntV",
        "outputId": "33790199-ffdd-4d50-af24-2f5732058d50"
      },
      "source": [
        "# Write a greedy regex expression \n",
        "numbers_found_greedy = re.findall(r\"[0-9]+\", sentiment_analysis)\n",
        "\n",
        "# Print out the result\n",
        "print(numbers_found_greedy)"
      ],
      "execution_count": 38,
      "outputs": [
        {
          "output_type": "stream",
          "name": "stdout",
          "text": [
            "['536', '12']\n"
          ]
        }
      ]
    },
    {
      "cell_type": "markdown",
      "metadata": {
        "id": "qKyuBEj5ucJi"
      },
      "source": [
        "Use a greedy quantifier to match text that appears within parentheses in the variable sentiment_analysis.\n",
        "\n",
        "**HINT!**\n",
        "\n",
        "For a greedy approach, use the quantifier .*. Remember to use \\ to escape the parentheses. Use .findall() method to find all matches."
      ]
    },
    {
      "cell_type": "code",
      "metadata": {
        "id": "ujOyH0iwucda"
      },
      "source": [
        "sentiment_analysis = \"Put vacation photos online (They were so cute) a few yrs ago. PC crashed, and now I forget the name of the site (I'm crying). \""
      ],
      "execution_count": 39,
      "outputs": []
    },
    {
      "cell_type": "code",
      "metadata": {
        "colab": {
          "base_uri": "https://localhost:8080/"
        },
        "id": "tiKBFBk_unYK",
        "outputId": "a6c3289b-bd98-41af-fa87-84184d841138"
      },
      "source": [
        "# Write a greedy regex expression to match \n",
        "sentences_found_greedy = re.findall(r\"\\(.*\\)\", sentiment_analysis)\n",
        "\n",
        "# Print out the result\n",
        "print(sentences_found_greedy)"
      ],
      "execution_count": 40,
      "outputs": [
        {
          "output_type": "stream",
          "name": "stdout",
          "text": [
            "[\"(They were so cute) a few yrs ago. PC crashed, and now I forget the name of the site (I'm crying)\"]\n"
          ]
        }
      ]
    },
    {
      "cell_type": "markdown",
      "metadata": {
        "id": "xu5_O8bCus5s"
      },
      "source": [
        "Now, use a lazy quantifier to match text that appears within parentheses in the variable sentiment_analysis.\n",
        "\n",
        "\n",
        "**HINT!**\n",
        "\n",
        "For the lazy mode, append ? to the quantifier .*. Remember to use \\ to escape the parenthesis. Use .findall() method to find all matches."
      ]
    },
    {
      "cell_type": "code",
      "metadata": {
        "id": "Q7Pn-4VKux0J",
        "outputId": "63ce0dfc-2445-45bd-8da3-ee734a4a96a4",
        "colab": {
          "base_uri": "https://localhost:8080/"
        }
      },
      "source": [
        "# Write a lazy regex expression\n",
        "sentences_found_lazy = re.findall(r\"\\(.*?\\)\", sentiment_analysis)\n",
        "\n",
        "# Print out the results\n",
        "print(sentences_found_lazy)"
      ],
      "execution_count": 41,
      "outputs": [
        {
          "output_type": "stream",
          "name": "stdout",
          "text": [
            "['(They were so cute)', \"(I'm crying)\"]\n"
          ]
        }
      ]
    }
  ]
}