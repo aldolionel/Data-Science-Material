{
  "nbformat": 4,
  "nbformat_minor": 0,
  "metadata": {
    "colab": {
      "name": "09. Exploring Police Data Ans.ipynb",
      "provenance": []
    },
    "kernelspec": {
      "name": "python3",
      "display_name": "Python 3"
    },
    "language_info": {
      "name": "python"
    }
  },
  "cells": [
    {
      "cell_type": "code",
      "metadata": {
        "id": "oxvHDwJ6WFlX"
      },
      "source": [
        "# import pandas, numpy, and load dataset\n",
        "import pandas as pd\n",
        "import numpy as np\n",
        "import matplotlib.pyplot as plt\n",
        "import seaborn as sns"
      ],
      "execution_count": 1,
      "outputs": []
    },
    {
      "cell_type": "code",
      "metadata": {
        "colab": {
          "resources": {
            "http://localhost:8080/nbextensions/google.colab/files.js": {
              "data": "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",
              "ok": true,
              "headers": [
                [
                  "content-type",
                  "application/javascript"
                ]
              ],
              "status": 200,
              "status_text": ""
            }
          },
          "base_uri": "https://localhost:8080/",
          "height": 108
        },
        "id": "q3zYWn_OXEcc",
        "outputId": "a573b255-ee9e-4562-fba2-1a969f6231dd"
      },
      "source": [
        "from google.colab import files\n",
        "uploaded = files.upload()"
      ],
      "execution_count": 8,
      "outputs": [
        {
          "output_type": "display_data",
          "data": {
            "text/html": [
              "\n",
              "     <input type=\"file\" id=\"files-76f04c34-8df5-4279-a0c2-904f9424d5a2\" name=\"files[]\" multiple disabled\n",
              "        style=\"border:none\" />\n",
              "     <output id=\"result-76f04c34-8df5-4279-a0c2-904f9424d5a2\">\n",
              "      Upload widget is only available when the cell has been executed in the\n",
              "      current browser session. Please rerun this cell to enable.\n",
              "      </output>\n",
              "      <script src=\"/nbextensions/google.colab/files.js\"></script> "
            ],
            "text/plain": [
              "<IPython.core.display.HTML object>"
            ]
          },
          "metadata": {}
        },
        {
          "output_type": "stream",
          "name": "stdout",
          "text": [
            "Saving 05. police.csv to 05. police.csv\n",
            "Saving 09. weather.csv to 09. weather.csv\n"
          ]
        }
      ]
    },
    {
      "cell_type": "code",
      "metadata": {
        "id": "e7fk5k_MXR_-"
      },
      "source": [
        "ri = pd.read_csv('05. police.csv')"
      ],
      "execution_count": 9,
      "outputs": []
    },
    {
      "cell_type": "markdown",
      "metadata": {
        "id": "ibBedviLXeQ4"
      },
      "source": [
        "1. Count the unique values in the violation column of the ri DataFrame, to see what violations are being committed by all drivers.\n",
        "2. Express the violation counts as proportions of the total.\n",
        "\n",
        "**HINT!**\n",
        "* To compute the counts, use the .value_counts() method on the violation column.\n",
        "* Express the counts as proportions by including the normalize=True argument in .value_counts()."
      ]
    },
    {
      "cell_type": "code",
      "metadata": {
        "colab": {
          "base_uri": "https://localhost:8080/"
        },
        "id": "Y2lpkJIvXagw",
        "outputId": "8fd81ca1-67af-4643-8942-3093b24062f4"
      },
      "source": [
        "# Count the unique values in 'violation'\n",
        "print(ri.violation.value_counts())\n",
        "\n",
        "# Express the counts as proportions\n",
        "print(ri.violation.value_counts(normalize=True))"
      ],
      "execution_count": 10,
      "outputs": [
        {
          "output_type": "stream",
          "name": "stdout",
          "text": [
            "Speeding               48424\n",
            "Moving violation       16224\n",
            "Equipment              10922\n",
            "Other                   4410\n",
            "Registration/plates     3703\n",
            "Seat belt               2856\n",
            "Name: violation, dtype: int64\n",
            "Speeding               0.559563\n",
            "Moving violation       0.187476\n",
            "Equipment              0.126209\n",
            "Other                  0.050960\n",
            "Registration/plates    0.042790\n",
            "Seat belt              0.033002\n",
            "Name: violation, dtype: float64\n"
          ]
        }
      ]
    },
    {
      "cell_type": "markdown",
      "metadata": {
        "id": "GkATVj7rbBhB"
      },
      "source": [
        "1. Create a DataFrame, female, that only contains rows in which driver_gender is 'F'.\n",
        "2. Create a DataFrame, male, that only contains rows in which driver_gender is 'M'.\n",
        "3. Count the violations committed by female drivers and express them as proportions.\n",
        "4. Count the violations committed by male drivers and express them as proportions.\n",
        "\n",
        "**HINT!**\n",
        "* Filter the ri DataFrame using brackets, and include the condition ri.driver_gender == 'F' or ri.driver_gender == 'M'."
      ]
    },
    {
      "cell_type": "code",
      "metadata": {
        "colab": {
          "base_uri": "https://localhost:8080/"
        },
        "id": "n3x8FtszbBAm",
        "outputId": "bf65fb15-c91e-4133-ac33-adb2207e322c"
      },
      "source": [
        "# Create a DataFrame of female drivers\n",
        "female = ri[ri.driver_gender == 'F']\n",
        "\n",
        "# Create a DataFrame of male drivers\n",
        "male = ri[ri.driver_gender == 'M']\n",
        "\n",
        "# Compute the violations by female drivers (as proportions)\n",
        "print(female.violation.value_counts(normalize=True))\n",
        "\n",
        "# Compute the violations by male drivers (as proportions)\n",
        "print(male.violation.value_counts(normalize=True))"
      ],
      "execution_count": 11,
      "outputs": [
        {
          "output_type": "stream",
          "name": "stdout",
          "text": [
            "Speeding               0.658114\n",
            "Moving violation       0.138218\n",
            "Equipment              0.105199\n",
            "Registration/plates    0.044418\n",
            "Other                  0.029738\n",
            "Seat belt              0.024312\n",
            "Name: violation, dtype: float64\n",
            "Speeding               0.522243\n",
            "Moving violation       0.206144\n",
            "Equipment              0.134158\n",
            "Other                  0.058985\n",
            "Registration/plates    0.042175\n",
            "Seat belt              0.036296\n",
            "Name: violation, dtype: float64\n"
          ]
        }
      ]
    },
    {
      "cell_type": "markdown",
      "metadata": {
        "id": "bUQI7QcLbTYq"
      },
      "source": [
        "1. Create a DataFrame, female_and_speeding, that only includes female drivers who were stopped for speeding.\n",
        "2. Create a DataFrame, male_and_speeding, that only includes male drivers who were stopped for speeding.\n",
        "3. Count the stop outcomes for the female drivers and express them as proportions.\n",
        "4. Count the stop outcomes for the male drivers and express them as proportions.\n",
        "\n",
        "**HINT!**\n",
        "* Make sure you're filtering the female and male drivers as 'F' and 'M', respectively.\n",
        "* Check for drivers that are speeding by filtering ri.violation.\n",
        "* Each condition should be surrounded by parentheses with an ampersand (&) between the conditions.\n",
        "* Use the normalize=True argument to express the stop_outcome counts as proportions."
      ]
    },
    {
      "cell_type": "code",
      "metadata": {
        "colab": {
          "base_uri": "https://localhost:8080/"
        },
        "id": "ROQ-OTXtbR0r",
        "outputId": "c418801f-8c39-4ed8-82d7-5257144ac6a3"
      },
      "source": [
        "# Create a DataFrame of female drivers stopped for speeding\n",
        "female_and_speeding = ri[(ri.driver_gender == 'F') & (ri.violation == 'Speeding')]\n",
        "\n",
        "# Create a DataFrame of male drivers stopped for speeding\n",
        "male_and_speeding = ri[(ri.driver_gender == 'M') & (ri.violation == 'Speeding')]\n",
        "\n",
        "# Compute the stop outcomes for female drivers (as proportions)\n",
        "print(female_and_speeding.stop_outcome.value_counts(normalize=True))\n",
        "\n",
        "# Compute the stop outcomes for male drivers (as proportions)\n",
        "print(male_and_speeding.stop_outcome.value_counts(normalize=True))"
      ],
      "execution_count": 12,
      "outputs": [
        {
          "output_type": "stream",
          "name": "stdout",
          "text": [
            "Citation            0.952192\n",
            "Warning             0.040074\n",
            "Arrest Driver       0.005752\n",
            "N/D                 0.000959\n",
            "Arrest Passenger    0.000639\n",
            "No Action           0.000383\n",
            "Name: stop_outcome, dtype: float64\n",
            "Citation            0.944595\n",
            "Warning             0.036184\n",
            "Arrest Driver       0.015895\n",
            "Arrest Passenger    0.001281\n",
            "No Action           0.001068\n",
            "N/D                 0.000976\n",
            "Name: stop_outcome, dtype: float64\n"
          ]
        }
      ]
    },
    {
      "cell_type": "markdown",
      "metadata": {
        "id": "lLI5OYDzbljJ"
      },
      "source": [
        "1. Check the data type of search_conducted to confirm that it's a Boolean Series.\n",
        "2. Calculate the search rate by counting the Series values and expressing them as proportions.\n",
        "3. Calculate the search rate by taking the mean of the Series. (It should match the proportion of True values calculated above.)\n",
        "\n",
        "**HINT!**\n",
        "* Examine the .dtype attribute to check the data type of a Series.\n",
        "* Use the normalize=True argument to express the search_conducted counts as proportions.\n",
        "* Use the .mean() method on the search_conducted Series."
      ]
    },
    {
      "cell_type": "code",
      "metadata": {
        "colab": {
          "base_uri": "https://localhost:8080/"
        },
        "id": "VF2gXV3mbw6o",
        "outputId": "51b3e947-ef0d-4eba-aae9-857779c91822"
      },
      "source": [
        "# Check the data type of 'search_conducted'\n",
        "print(ri.search_conducted.dtype)\n",
        "\n",
        "# Calculate the search rate by counting the values\n",
        "print(ri.search_conducted.value_counts(normalize=True))\n",
        "\n",
        "# Calculate the search rate by taking the mean\n",
        "print(ri.search_conducted.mean())"
      ],
      "execution_count": 13,
      "outputs": [
        {
          "output_type": "stream",
          "name": "stdout",
          "text": [
            "bool\n",
            "False    0.963953\n",
            "True     0.036047\n",
            "Name: search_conducted, dtype: float64\n",
            "0.03604713268876511\n"
          ]
        }
      ]
    },
    {
      "cell_type": "markdown",
      "metadata": {
        "id": "riqLepjjby7a"
      },
      "source": [
        "Filter the DataFrame to only include female drivers, and then calculate the search rate by taking the mean of search_conducted."
      ]
    },
    {
      "cell_type": "code",
      "metadata": {
        "colab": {
          "base_uri": "https://localhost:8080/"
        },
        "id": "6rBB5A6Zb1YU",
        "outputId": "622fc8dd-6dad-4e0b-e254-0cec79874e3a"
      },
      "source": [
        "# Calculate the search rate for female drivers\n",
        "print(ri[ri.driver_gender == 'F'].search_conducted.mean())"
      ],
      "execution_count": 14,
      "outputs": [
        {
          "output_type": "stream",
          "name": "stdout",
          "text": [
            "0.019180617481282074\n"
          ]
        }
      ]
    },
    {
      "cell_type": "markdown",
      "metadata": {
        "id": "v-ZiZZ8fb73j"
      },
      "source": [
        "Filter the DataFrame to only include male drivers, and then repeat the search rate calculation."
      ]
    },
    {
      "cell_type": "code",
      "metadata": {
        "colab": {
          "base_uri": "https://localhost:8080/"
        },
        "id": "pNd-7Zxqb7Ns",
        "outputId": "3782a347-45e5-461b-a51a-d88b7db714f0"
      },
      "source": [
        "# Calculate the search rate for male drivers\n",
        "print(ri[ri.driver_gender == 'M'].search_conducted.mean())"
      ],
      "execution_count": 15,
      "outputs": [
        {
          "output_type": "stream",
          "name": "stdout",
          "text": [
            "0.04542557598546892\n"
          ]
        }
      ]
    },
    {
      "cell_type": "markdown",
      "metadata": {
        "id": "VyNk_bHqcAvH"
      },
      "source": [
        "Group by driver gender to calculate the search rate for both groups simultaneously. (It should match the previous results.)"
      ]
    },
    {
      "cell_type": "code",
      "metadata": {
        "colab": {
          "base_uri": "https://localhost:8080/"
        },
        "id": "bgjhAvKYcC6W",
        "outputId": "29078cac-ee14-4694-9df7-f169f44fa677"
      },
      "source": [
        "# Calculate the search rate for both groups simultaneously\n",
        "print(ri.groupby('driver_gender').search_conducted.mean())"
      ],
      "execution_count": 16,
      "outputs": [
        {
          "output_type": "stream",
          "name": "stdout",
          "text": [
            "driver_gender\n",
            "F    0.019181\n",
            "M    0.045426\n",
            "Name: search_conducted, dtype: float64\n"
          ]
        }
      ]
    },
    {
      "cell_type": "markdown",
      "metadata": {
        "id": "t4mxEpR5cn7q"
      },
      "source": [
        "Use a .groupby() to calculate the search rate for each combination of gender and violation. Are males and females searched at about the same rate for each violation?"
      ]
    },
    {
      "cell_type": "code",
      "metadata": {
        "colab": {
          "base_uri": "https://localhost:8080/"
        },
        "id": "stVT5u-ncq2e",
        "outputId": "6304289d-78fe-4066-f6a2-2001f55b0271"
      },
      "source": [
        "# Calculate the search rate for each combination of gender and violation\n",
        "print(ri.groupby(['driver_gender', 'violation']).search_conducted.mean())"
      ],
      "execution_count": 17,
      "outputs": [
        {
          "output_type": "stream",
          "name": "stdout",
          "text": [
            "driver_gender  violation          \n",
            "F              Equipment              0.039984\n",
            "               Moving violation       0.039257\n",
            "               Other                  0.041018\n",
            "               Registration/plates    0.054924\n",
            "               Seat belt              0.017301\n",
            "               Speeding               0.008309\n",
            "M              Equipment              0.071496\n",
            "               Moving violation       0.061524\n",
            "               Other                  0.046191\n",
            "               Registration/plates    0.108802\n",
            "               Seat belt              0.035119\n",
            "               Speeding               0.027885\n",
            "Name: search_conducted, dtype: float64\n"
          ]
        }
      ]
    },
    {
      "cell_type": "markdown",
      "metadata": {
        "id": "B5lroMTLcvZL"
      },
      "source": [
        "Reverse the ordering to group by violation before gender. The results may be easier to compare when presented this way."
      ]
    },
    {
      "cell_type": "code",
      "metadata": {
        "colab": {
          "base_uri": "https://localhost:8080/"
        },
        "id": "XCleP73mcutO",
        "outputId": "9d3f7a81-4da5-4357-d056-533e3bd89de2"
      },
      "source": [
        "# Reverse the ordering to group by violation before gender\n",
        "print(ri.groupby(['violation', 'driver_gender']).search_conducted.mean())"
      ],
      "execution_count": 18,
      "outputs": [
        {
          "output_type": "stream",
          "name": "stdout",
          "text": [
            "violation            driver_gender\n",
            "Equipment            F                0.039984\n",
            "                     M                0.071496\n",
            "Moving violation     F                0.039257\n",
            "                     M                0.061524\n",
            "Other                F                0.041018\n",
            "                     M                0.046191\n",
            "Registration/plates  F                0.054924\n",
            "                     M                0.108802\n",
            "Seat belt            F                0.017301\n",
            "                     M                0.035119\n",
            "Speeding             F                0.008309\n",
            "                     M                0.027885\n",
            "Name: search_conducted, dtype: float64\n"
          ]
        }
      ]
    },
    {
      "cell_type": "markdown",
      "metadata": {
        "id": "WzKCx9E_c1Al"
      },
      "source": [
        "1. Count the search_type values in the ri DataFrame to see how many times \"Protective Frisk\" was the only search type.\n",
        "2. Create a new column, frisk, that is True if search_type contains the string \"Protective Frisk\" and False otherwise.\n",
        "3. Check the data type of frisk to confirm that it's a Boolean Series.\n",
        "Take the sum of frisk to count the total number of frisks.\n",
        "\n",
        "**HINT!**\n",
        "* Use the .str.contains() method on the search_type column to search for 'Protective Frisk', and make sure to include the na=False argument.\n",
        "* If you're not finding any matches, keep in mind that string methods are case sensitive."
      ]
    },
    {
      "cell_type": "code",
      "metadata": {
        "colab": {
          "base_uri": "https://localhost:8080/"
        },
        "id": "Wn1IYVvSc0Zu",
        "outputId": "06b79e06-83e8-4009-8e30-899161fa4779"
      },
      "source": [
        "# Count the 'search_type' values\n",
        "print(ri.search_type.value_counts())\n",
        "\n",
        "# Check if 'search_type' contains the string 'Protective Frisk'\n",
        "ri['frisk'] = ri.search_type.str.contains('Protective Frisk', na=False)\n",
        "\n",
        "# Check the data type of 'frisk'\n",
        "print(ri.frisk.dtype)\n",
        "\n",
        "# Take the sum of 'frisk'\n",
        "print(ri.frisk.sum())"
      ],
      "execution_count": 19,
      "outputs": [
        {
          "output_type": "stream",
          "name": "stdout",
          "text": [
            "Incident to Arrest                                          1290\n",
            "Probable Cause                                               924\n",
            "Inventory                                                    219\n",
            "Reasonable Suspicion                                         214\n",
            "Protective Frisk                                             164\n",
            "Incident to Arrest,Inventory                                 123\n",
            "Incident to Arrest,Probable Cause                            100\n",
            "Probable Cause,Reasonable Suspicion                           54\n",
            "Probable Cause,Protective Frisk                               35\n",
            "Incident to Arrest,Inventory,Probable Cause                   35\n",
            "Incident to Arrest,Protective Frisk                           33\n",
            "Inventory,Probable Cause                                      25\n",
            "Protective Frisk,Reasonable Suspicion                         19\n",
            "Incident to Arrest,Inventory,Protective Frisk                 18\n",
            "Incident to Arrest,Probable Cause,Protective Frisk            13\n",
            "Inventory,Protective Frisk                                    12\n",
            "Incident to Arrest,Reasonable Suspicion                        8\n",
            "Incident to Arrest,Probable Cause,Reasonable Suspicion         5\n",
            "Probable Cause,Protective Frisk,Reasonable Suspicion           5\n",
            "Incident to Arrest,Inventory,Reasonable Suspicion              4\n",
            "Inventory,Reasonable Suspicion                                 2\n",
            "Incident to Arrest,Protective Frisk,Reasonable Suspicion       2\n",
            "Inventory,Probable Cause,Reasonable Suspicion                  1\n",
            "Inventory,Probable Cause,Protective Frisk                      1\n",
            "Inventory,Protective Frisk,Reasonable Suspicion                1\n",
            "Name: search_type, dtype: int64\n",
            "bool\n",
            "303\n"
          ]
        }
      ]
    },
    {
      "cell_type": "markdown",
      "metadata": {
        "id": "WvRcRzRgdErW"
      },
      "source": [
        "1. Create a DataFrame, searched, that only contains rows in which search_conducted is True.\n",
        "2. Take the mean of the frisk column to find out what percentage of searches included a frisk.\n",
        "3. Calculate the frisk rate for each gender using a .groupby().\n",
        "\n",
        "**HINT!**\n",
        "\n",
        "* Filter the ri DataFrame using the condition ri.search_conducted == True.\n",
        "* To calculate the frisk rate by gender, group by 'driver_gender' and then take the .mean() of the frisk column."
      ]
    },
    {
      "cell_type": "code",
      "metadata": {
        "colab": {
          "base_uri": "https://localhost:8080/"
        },
        "id": "ECnykTNKdNYm",
        "outputId": "8957c181-140c-46aa-d2c5-254ece878154"
      },
      "source": [
        "# Create a DataFrame of stops in which a search was conducted\n",
        "searched = ri[ri.search_conducted == True]\n",
        "\n",
        "# Calculate the overall frisk rate by taking the mean of 'frisk'\n",
        "print(searched.frisk.mean())\n",
        "\n",
        "# Calculate the frisk rate for each gender\n",
        "print(searched.groupby('driver_gender').frisk.mean())"
      ],
      "execution_count": 20,
      "outputs": [
        {
          "output_type": "stream",
          "name": "stdout",
          "text": [
            "0.09162382824312065\n",
            "driver_gender\n",
            "F    0.074561\n",
            "M    0.094353\n",
            "Name: frisk, dtype: float64\n"
          ]
        }
      ]
    }
  ]
}