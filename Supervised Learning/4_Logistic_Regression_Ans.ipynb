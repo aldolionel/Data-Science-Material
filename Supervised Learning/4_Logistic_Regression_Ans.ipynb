{
  "nbformat": 4,
  "nbformat_minor": 0,
  "metadata": {
    "colab": {
      "name": "4. Logistic Regression Ans.ipynb",
      "provenance": []
    },
    "kernelspec": {
      "name": "python3",
      "display_name": "Python 3"
    },
    "language_info": {
      "name": "python"
    }
  },
  "cells": [
    {
      "cell_type": "code",
      "metadata": {
        "id": "2llptxFGFu_6"
      },
      "source": [
        "import pandas as pd\n",
        "import numpy as np\n",
        "import matplotlib.pyplot as plt\n",
        "import seaborn as sns"
      ],
      "execution_count": 1,
      "outputs": []
    },
    {
      "cell_type": "code",
      "metadata": {
        "colab": {
          "resources": {
            "http://localhost:8080/nbextensions/google.colab/files.js": {
              "data": "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",
              "ok": true,
              "headers": [
                [
                  "content-type",
                  "application/javascript"
                ]
              ],
              "status": 200,
              "status_text": ""
            }
          },
          "base_uri": "https://localhost:8080/",
          "height": 212
        },
        "id": "4U-9pVgVFxQQ",
        "outputId": "bca249d8-74d7-4f00-9a95-c722f4ab91fa"
      },
      "source": [
        "from google.colab import files\n",
        "uploaded = files.upload()"
      ],
      "execution_count": 2,
      "outputs": [
        {
          "output_type": "display_data",
          "data": {
            "text/html": [
              "\n",
              "     <input type=\"file\" id=\"files-62c716d3-c6b4-45eb-a0ee-942c7a6b0342\" name=\"files[]\" multiple disabled\n",
              "        style=\"border:none\" />\n",
              "     <output id=\"result-62c716d3-c6b4-45eb-a0ee-942c7a6b0342\">\n",
              "      Upload widget is only available when the cell has been executed in the\n",
              "      current browser session. Please rerun this cell to enable.\n",
              "      </output>\n",
              "      <script src=\"/nbextensions/google.colab/files.js\"></script> "
            ],
            "text/plain": [
              "<IPython.core.display.HTML object>"
            ]
          },
          "metadata": {}
        },
        {
          "output_type": "stream",
          "name": "stdout",
          "text": [
            "Saving ad_conversion.csv to ad_conversion.csv\n",
            "Saving churn.csv to churn.csv\n",
            "Saving fish.csv to fish.csv\n",
            "Saving sp500_yearly_returns.csv to sp500_yearly_returns.csv\n",
            "Saving taiwan_real_estate2.csv to taiwan_real_estate2.csv\n"
          ]
        }
      ]
    },
    {
      "cell_type": "code",
      "metadata": {
        "colab": {
          "base_uri": "https://localhost:8080/",
          "height": 423
        },
        "id": "nZjPiVhmF49e",
        "outputId": "9502ff73-7d1b-4179-a959-0e528bae16f8"
      },
      "source": [
        "churn = pd.read_csv('churn.csv')\n",
        "churn"
      ],
      "execution_count": 3,
      "outputs": [
        {
          "output_type": "execute_result",
          "data": {
            "text/html": [
              "<div>\n",
              "<style scoped>\n",
              "    .dataframe tbody tr th:only-of-type {\n",
              "        vertical-align: middle;\n",
              "    }\n",
              "\n",
              "    .dataframe tbody tr th {\n",
              "        vertical-align: top;\n",
              "    }\n",
              "\n",
              "    .dataframe thead th {\n",
              "        text-align: right;\n",
              "    }\n",
              "</style>\n",
              "<table border=\"1\" class=\"dataframe\">\n",
              "  <thead>\n",
              "    <tr style=\"text-align: right;\">\n",
              "      <th></th>\n",
              "      <th>has_churned</th>\n",
              "      <th>time_since_first_purchase</th>\n",
              "      <th>time_since_last_purchase</th>\n",
              "    </tr>\n",
              "  </thead>\n",
              "  <tbody>\n",
              "    <tr>\n",
              "      <th>0</th>\n",
              "      <td>0</td>\n",
              "      <td>-1.089221</td>\n",
              "      <td>-0.721322</td>\n",
              "    </tr>\n",
              "    <tr>\n",
              "      <th>1</th>\n",
              "      <td>0</td>\n",
              "      <td>1.182983</td>\n",
              "      <td>3.634435</td>\n",
              "    </tr>\n",
              "    <tr>\n",
              "      <th>2</th>\n",
              "      <td>0</td>\n",
              "      <td>-0.846156</td>\n",
              "      <td>-0.427582</td>\n",
              "    </tr>\n",
              "    <tr>\n",
              "      <th>3</th>\n",
              "      <td>0</td>\n",
              "      <td>0.086942</td>\n",
              "      <td>-0.535672</td>\n",
              "    </tr>\n",
              "    <tr>\n",
              "      <th>4</th>\n",
              "      <td>0</td>\n",
              "      <td>-1.166642</td>\n",
              "      <td>-0.672640</td>\n",
              "    </tr>\n",
              "    <tr>\n",
              "      <th>...</th>\n",
              "      <td>...</td>\n",
              "      <td>...</td>\n",
              "      <td>...</td>\n",
              "    </tr>\n",
              "    <tr>\n",
              "      <th>395</th>\n",
              "      <td>1</td>\n",
              "      <td>1.077655</td>\n",
              "      <td>0.878567</td>\n",
              "    </tr>\n",
              "    <tr>\n",
              "      <th>396</th>\n",
              "      <td>1</td>\n",
              "      <td>-1.273770</td>\n",
              "      <td>-0.869016</td>\n",
              "    </tr>\n",
              "    <tr>\n",
              "      <th>397</th>\n",
              "      <td>1</td>\n",
              "      <td>-0.426195</td>\n",
              "      <td>0.684666</td>\n",
              "    </tr>\n",
              "    <tr>\n",
              "      <th>398</th>\n",
              "      <td>1</td>\n",
              "      <td>0.818836</td>\n",
              "      <td>1.428091</td>\n",
              "    </tr>\n",
              "    <tr>\n",
              "      <th>399</th>\n",
              "      <td>1</td>\n",
              "      <td>0.691452</td>\n",
              "      <td>1.346405</td>\n",
              "    </tr>\n",
              "  </tbody>\n",
              "</table>\n",
              "<p>400 rows × 3 columns</p>\n",
              "</div>"
            ],
            "text/plain": [
              "     has_churned  time_since_first_purchase  time_since_last_purchase\n",
              "0              0                  -1.089221                 -0.721322\n",
              "1              0                   1.182983                  3.634435\n",
              "2              0                  -0.846156                 -0.427582\n",
              "3              0                   0.086942                 -0.535672\n",
              "4              0                  -1.166642                 -0.672640\n",
              "..           ...                        ...                       ...\n",
              "395            1                   1.077655                  0.878567\n",
              "396            1                  -1.273770                 -0.869016\n",
              "397            1                  -0.426195                  0.684666\n",
              "398            1                   0.818836                  1.428091\n",
              "399            1                   0.691452                  1.346405\n",
              "\n",
              "[400 rows x 3 columns]"
            ]
          },
          "metadata": {},
          "execution_count": 3
        }
      ]
    },
    {
      "cell_type": "markdown",
      "metadata": {
        "id": "QfkQNEIDGOJ0"
      },
      "source": [
        "## Exploring the explanatory variables\n",
        "\n",
        "In a sns.displot() call on the churn data, plot time_since_last_purchase as two histograms, split for each has_churned value.\n",
        "\n",
        "**HINT!**\n",
        "\n",
        "sns.displot() takes three arguments: data, x, and col.\n",
        "\n",
        "\n"
      ]
    },
    {
      "cell_type": "code",
      "metadata": {
        "colab": {
          "base_uri": "https://localhost:8080/",
          "height": 369
        },
        "id": "LRF2NcuMGYko",
        "outputId": "cc0f2b91-eec1-4ff8-d0c5-07f7c214e062"
      },
      "source": [
        "# Create the histograms of time_since_last_purchase split by has_churned\n",
        "sns.displot(x = 'time_since_last_purchase', col = 'has_churned', data = churn)\n",
        "\n",
        "# Show the plot\n",
        "plt.show()"
      ],
      "execution_count": 4,
      "outputs": [
        {
          "output_type": "display_data",
          "data": {
            "image/png": "[encoded data removed]",
            "text/plain": [
              "<Figure size 720x360 with 2 Axes>"
            ]
          },
          "metadata": {
            "needs_background": "light"
          }
        }
      ]
    },
    {
      "cell_type": "markdown",
      "metadata": {
        "id": "8DWN_z0fGc9v"
      },
      "source": [
        "Redraw the histograms using the time_since_first_purchase column, split for each has_churned value.\n",
        "\n",
        "\n"
      ]
    },
    {
      "cell_type": "code",
      "metadata": {
        "colab": {
          "base_uri": "https://localhost:8080/",
          "height": 369
        },
        "id": "y_WCad7tGfSj",
        "outputId": "5ceccab6-8f87-41cf-a87c-c174cf74c4f9"
      },
      "source": [
        "# Redraw the plot with time_since_first_purchase\n",
        "sns.displot(x = 'time_since_first_purchase', col = 'has_churned', data = churn)\n",
        "\n",
        "# Show the plot\n",
        "plt.show()"
      ],
      "execution_count": 5,
      "outputs": [
        {
          "output_type": "display_data",
          "data": {
            "image/png": "[encoded data removed]",
            "text/plain": [
              "<Figure size 720x360 with 2 Axes>"
            ]
          },
          "metadata": {
            "needs_background": "light"
          }
        }
      ]
    },
    {
      "cell_type": "markdown",
      "metadata": {
        "id": "IgRTnxi0Gir1"
      },
      "source": [
        "## Visualizing linear and logistic models\n",
        "\n",
        "Using churn, plot has_churned versus time_since_first_purchase as a scatter plot with a red linear regression trend line (without a standard error ribbon).\n",
        "\n",
        "**HINT!**\n",
        "\n",
        "The sns.regplot() function takes five arguments in this exercise: x, y, data, ci, and line_kws. The last one is already filled in, and makes the trend line stand out more.\n",
        "\n"
      ]
    },
    {
      "cell_type": "code",
      "metadata": {
        "colab": {
          "base_uri": "https://localhost:8080/",
          "height": 280
        },
        "id": "E-D2PDJ4GoQq",
        "outputId": "10c07a74-1777-4b2c-b162-19e6bc931c3d"
      },
      "source": [
        "# Draw a linear regression trend line and a scatter plot of time_since_first_purchase vs. has_churned\n",
        "sns.regplot(x = 'time_since_first_purchase', y ='has_churned', data = churn, ci = None,\n",
        "            line_kws={\"color\": \"red\"})\n",
        "\n",
        "# Show the plot\n",
        "plt.show()"
      ],
      "execution_count": 6,
      "outputs": [
        {
          "output_type": "display_data",
          "data": {
            "image/png": "[encoded data removed]",
            "text/plain": [
              "<Figure size 432x288 with 1 Axes>"
            ]
          },
          "metadata": {
            "needs_background": "light"
          }
        }
      ]
    },
    {
      "cell_type": "markdown",
      "metadata": {
        "id": "ao40PMyaGsNj"
      },
      "source": [
        "Using churn, plot has_churned versus time_since_first_purchase as a scatter plot with a blue logistic regression trend line (without a standard error ribbon).\n"
      ]
    },
    {
      "cell_type": "code",
      "metadata": {
        "colab": {
          "base_uri": "https://localhost:8080/",
          "height": 335
        },
        "id": "YqYOZbUNGspA",
        "outputId": "95a6ecca-f633-470f-a399-41f3dc5519d8"
      },
      "source": [
        "# Draw a linear regression trend line and a scatter plot of time_since_first_purchase vs. has_churned\n",
        "sns.regplot(x=\"time_since_first_purchase\",\n",
        "            y=\"has_churned\",\n",
        "            data=churn, \n",
        "            ci=None,\n",
        "            line_kws={\"color\": \"red\"})\n",
        "\n",
        "# Draw a logistic regression trend line and a scatter plot of time_since_first_purchase vs. has_churned\n",
        "sns.regplot(x=\"time_since_first_purchase\",\n",
        "            y=\"has_churned\",\n",
        "            data=churn, \n",
        "            ci=None,\n",
        "            logistic = True,\n",
        "            line_kws={\"color\": \"blue\"})\n",
        "\n",
        "# Show the plot\n",
        "plt.show()"
      ],
      "execution_count": 7,
      "outputs": [
        {
          "output_type": "stream",
          "name": "stderr",
          "text": [
            "/usr/local/lib/python3.7/dist-packages/statsmodels/tools/_testing.py:19: FutureWarning: pandas.util.testing is deprecated. Use the functions in the public API at pandas.testing instead.\n",
            "  import pandas.util.testing as tm\n"
          ]
        },
        {
          "output_type": "display_data",
          "data": {
            "image/png": "[encoded data removed]",
            "text/plain": [
              "<Figure size 432x288 with 1 Axes>"
            ]
          },
          "metadata": {
            "needs_background": "light"
          }
        }
      ]
    },
    {
      "cell_type": "markdown",
      "metadata": {
        "id": "Gprc3vhoGxd5"
      },
      "source": [
        "## Logistic regression with logit()\n",
        "\n",
        "1. Import the logit() function from statsmodels.formula.api.\n",
        "2. Fit a logistic regression of has_churned versus time_since_first_purchase using the churn dataset. Assign to mdl_churn_vs_relationship.\n",
        "3. Print the parameters of the fitted model.\n",
        "\n",
        "**HINT!**\n",
        "\n",
        "Call logit(), passing a formula of has_churned versus time_since_first_purchase and setting data to churn.\n"
      ]
    },
    {
      "cell_type": "code",
      "metadata": {
        "colab": {
          "base_uri": "https://localhost:8080/"
        },
        "id": "0DnZpipaG5QD",
        "outputId": "820a02f9-942f-40a4-f71a-48cb3bc47bb0"
      },
      "source": [
        "# Import logit\n",
        "from statsmodels.formula.api import logit\n",
        "\n",
        "# Fit a logistic regression of churn vs. \n",
        "# length of relationship using the churn dataset\n",
        "mdl_churn_vs_relationship = logit(\"has_churned ~ time_since_first_purchase\", data=churn).fit()\n",
        "\n",
        "# Print the parameters of the fitted model\n",
        "print(mdl_churn_vs_relationship.params)"
      ],
      "execution_count": 8,
      "outputs": [
        {
          "output_type": "stream",
          "name": "stdout",
          "text": [
            "Optimization terminated successfully.\n",
            "         Current function value: 0.679663\n",
            "         Iterations 4\n",
            "Intercept                   -0.015185\n",
            "time_since_first_purchase   -0.354795\n",
            "dtype: float64\n"
          ]
        }
      ]
    },
    {
      "cell_type": "markdown",
      "metadata": {
        "id": "nx5cygwJTCIg"
      },
      "source": [
        "1. Create a scatter plot with a logistic trend line of has_churned versus time_since_first_purchase.\n",
        "2. Overlay the plot with the points from prediction_data, colored red."
      ]
    },
    {
      "cell_type": "code",
      "metadata": {
        "colab": {
          "base_uri": "https://localhost:8080/",
          "height": 770
        },
        "id": "l9DgZfowTY1l",
        "outputId": "3d326960-6dd8-4bfd-8bce-07036d0318de"
      },
      "source": [
        "# Use this explanatory data\n",
        "explanatory_data = pd.DataFrame({\"time_since_first_purchase\": np.arange(-1.5, 4.1, 0.25)})\n",
        "explanatory_data"
      ],
      "execution_count": 11,
      "outputs": [
        {
          "output_type": "execute_result",
          "data": {
            "text/html": [
              "<div>\n",
              "<style scoped>\n",
              "    .dataframe tbody tr th:only-of-type {\n",
              "        vertical-align: middle;\n",
              "    }\n",
              "\n",
              "    .dataframe tbody tr th {\n",
              "        vertical-align: top;\n",
              "    }\n",
              "\n",
              "    .dataframe thead th {\n",
              "        text-align: right;\n",
              "    }\n",
              "</style>\n",
              "<table border=\"1\" class=\"dataframe\">\n",
              "  <thead>\n",
              "    <tr style=\"text-align: right;\">\n",
              "      <th></th>\n",
              "      <th>time_since_first_purchase</th>\n",
              "    </tr>\n",
              "  </thead>\n",
              "  <tbody>\n",
              "    <tr>\n",
              "      <th>0</th>\n",
              "      <td>-1.50</td>\n",
              "    </tr>\n",
              "    <tr>\n",
              "      <th>1</th>\n",
              "      <td>-1.25</td>\n",
              "    </tr>\n",
              "    <tr>\n",
              "      <th>2</th>\n",
              "      <td>-1.00</td>\n",
              "    </tr>\n",
              "    <tr>\n",
              "      <th>3</th>\n",
              "      <td>-0.75</td>\n",
              "    </tr>\n",
              "    <tr>\n",
              "      <th>4</th>\n",
              "      <td>-0.50</td>\n",
              "    </tr>\n",
              "    <tr>\n",
              "      <th>5</th>\n",
              "      <td>-0.25</td>\n",
              "    </tr>\n",
              "    <tr>\n",
              "      <th>6</th>\n",
              "      <td>0.00</td>\n",
              "    </tr>\n",
              "    <tr>\n",
              "      <th>7</th>\n",
              "      <td>0.25</td>\n",
              "    </tr>\n",
              "    <tr>\n",
              "      <th>8</th>\n",
              "      <td>0.50</td>\n",
              "    </tr>\n",
              "    <tr>\n",
              "      <th>9</th>\n",
              "      <td>0.75</td>\n",
              "    </tr>\n",
              "    <tr>\n",
              "      <th>10</th>\n",
              "      <td>1.00</td>\n",
              "    </tr>\n",
              "    <tr>\n",
              "      <th>11</th>\n",
              "      <td>1.25</td>\n",
              "    </tr>\n",
              "    <tr>\n",
              "      <th>12</th>\n",
              "      <td>1.50</td>\n",
              "    </tr>\n",
              "    <tr>\n",
              "      <th>13</th>\n",
              "      <td>1.75</td>\n",
              "    </tr>\n",
              "    <tr>\n",
              "      <th>14</th>\n",
              "      <td>2.00</td>\n",
              "    </tr>\n",
              "    <tr>\n",
              "      <th>15</th>\n",
              "      <td>2.25</td>\n",
              "    </tr>\n",
              "    <tr>\n",
              "      <th>16</th>\n",
              "      <td>2.50</td>\n",
              "    </tr>\n",
              "    <tr>\n",
              "      <th>17</th>\n",
              "      <td>2.75</td>\n",
              "    </tr>\n",
              "    <tr>\n",
              "      <th>18</th>\n",
              "      <td>3.00</td>\n",
              "    </tr>\n",
              "    <tr>\n",
              "      <th>19</th>\n",
              "      <td>3.25</td>\n",
              "    </tr>\n",
              "    <tr>\n",
              "      <th>20</th>\n",
              "      <td>3.50</td>\n",
              "    </tr>\n",
              "    <tr>\n",
              "      <th>21</th>\n",
              "      <td>3.75</td>\n",
              "    </tr>\n",
              "    <tr>\n",
              "      <th>22</th>\n",
              "      <td>4.00</td>\n",
              "    </tr>\n",
              "  </tbody>\n",
              "</table>\n",
              "</div>"
            ],
            "text/plain": [
              "    time_since_first_purchase\n",
              "0                       -1.50\n",
              "1                       -1.25\n",
              "2                       -1.00\n",
              "3                       -0.75\n",
              "4                       -0.50\n",
              "5                       -0.25\n",
              "6                        0.00\n",
              "7                        0.25\n",
              "8                        0.50\n",
              "9                        0.75\n",
              "10                       1.00\n",
              "11                       1.25\n",
              "12                       1.50\n",
              "13                       1.75\n",
              "14                       2.00\n",
              "15                       2.25\n",
              "16                       2.50\n",
              "17                       2.75\n",
              "18                       3.00\n",
              "19                       3.25\n",
              "20                       3.50\n",
              "21                       3.75\n",
              "22                       4.00"
            ]
          },
          "metadata": {},
          "execution_count": 11
        }
      ]
    },
    {
      "cell_type": "code",
      "metadata": {
        "colab": {
          "base_uri": "https://localhost:8080/",
          "height": 280
        },
        "id": "WGOdpUJ1TBiC",
        "outputId": "4be3ddf4-5b14-4565-bd4c-601df41b09c2"
      },
      "source": [
        "# Create prediction_data\n",
        "prediction_data = explanatory_data.assign(\n",
        "    has_churned = mdl_churn_vs_relationship.predict(explanatory_data)\n",
        ")\n",
        "\n",
        "fig = plt.figure()\n",
        "\n",
        "# Create a scatter plot with logistic trend line\n",
        "sns.regplot(x=\"time_since_first_purchase\",\n",
        "            y=\"has_churned\",\n",
        "            data=churn,\n",
        "            ci=None,\n",
        "            logistic=True)\n",
        "\n",
        "# Overlay with prediction_data, colored red\n",
        "sns.scatterplot(x=\"time_since_first_purchase\",\n",
        "                y=\"has_churned\",\n",
        "                data=prediction_data,\n",
        "                color=\"red\")\n",
        "\n",
        "plt.show()"
      ],
      "execution_count": 12,
      "outputs": [
        {
          "output_type": "display_data",
          "data": {
            "image/png": "[encoded data removed]",
            "text/plain": [
              "<Figure size 432x288 with 1 Axes>"
            ]
          },
          "metadata": {
            "needs_background": "light"
          }
        }
      ]
    },
    {
      "cell_type": "markdown",
      "metadata": {
        "id": "We-5Fo0kTrzK"
      },
      "source": [
        "## Most likely outcome\n",
        "\n",
        "When explaining your results to a non-technical audience, you may wish to side-step talking about probabilities and simply explain the most likely outcome. That is, rather than saying there is a 60% chance of a customer churning, you say that the most likely outcome is that the customer will churn. The trade-off here is easier interpretation at the cost of nuance.\n",
        "\n",
        "1. Update prediction_data to add a column of the most likely churn outcome, most_likely_outcome.\n",
        "2. Print the first five lines of prediction_data."
      ]
    },
    {
      "cell_type": "code",
      "metadata": {
        "colab": {
          "base_uri": "https://localhost:8080/"
        },
        "id": "O83bY34IT2xE",
        "outputId": "b2e04fdf-0c57-4ce5-da95-b04f4e8291e5"
      },
      "source": [
        "# Update prediction data by adding most_likely_outcome\n",
        "prediction_data[\"most_likely_outcome\"] = np.round(prediction_data['has_churned'])\n",
        "\n",
        "# Print the head\n",
        "print(prediction_data.head())"
      ],
      "execution_count": 13,
      "outputs": [
        {
          "output_type": "stream",
          "name": "stdout",
          "text": [
            "   time_since_first_purchase  has_churned  most_likely_outcome\n",
            "0                      -1.50     0.626448                  1.0\n",
            "1                      -1.25     0.605470                  1.0\n",
            "2                      -1.00     0.584096                  1.0\n",
            "3                      -0.75     0.562401                  1.0\n",
            "4                      -0.50     0.540465                  1.0\n"
          ]
        }
      ]
    },
    {
      "cell_type": "markdown",
      "metadata": {
        "id": "1fwnV6ZfT-sv"
      },
      "source": [
        "1. The code for creating a scatter plot with logistic trend line has been added from a previous exercise.\n",
        "2. Overlay the plot with prediction_data with red data points, with most_likely_outcome on the y-axis."
      ]
    },
    {
      "cell_type": "code",
      "metadata": {
        "colab": {
          "base_uri": "https://localhost:8080/",
          "height": 280
        },
        "id": "rKJogqNeUBAA",
        "outputId": "23674305-961c-4408-bf99-209577229c5b"
      },
      "source": [
        "# Update prediction data by adding most_likely_outcome\n",
        "prediction_data[\"most_likely_outcome\"] = np.round(prediction_data[\"has_churned\"])\n",
        "\n",
        "# Create a new figure\n",
        "fig = plt.figure()\n",
        "\n",
        "# Create a scatter plot with logistic trend line (from previous exercise)\n",
        "sns.regplot(x=\"time_since_first_purchase\",\n",
        "            y=\"has_churned\",\n",
        "            data=churn,\n",
        "            ci=None,\n",
        "            logistic=True)\n",
        "\n",
        "# Overlay with prediction_data, colored red\n",
        "sns.scatterplot(x = 'time_since_first_purchase',\n",
        "y = 'most_likely_outcome', color = 'red', data = prediction_data)\n",
        "\n",
        "# Show the plot\n",
        "plt.show()"
      ],
      "execution_count": 14,
      "outputs": [
        {
          "output_type": "display_data",
          "data": {
            "image/png": "[encoded data removed]",
            "text/plain": [
              "<Figure size 432x288 with 1 Axes>"
            ]
          },
          "metadata": {
            "needs_background": "light"
          }
        }
      ]
    },
    {
      "cell_type": "markdown",
      "metadata": {
        "id": "irw56BC0UFD9"
      },
      "source": [
        "## Odds ratio\n",
        "\n",
        "Odds ratios compare the probability of something happening with the probability of it not happening. This is sometimes easier to reason about than probabilities, particularly when you want to make decisions about choices. For example, if a customer has a 20% chance of churning, it may be more intuitive to say \"the chance of them not churning is four times higher than the chance of them churning\".\n",
        "\n",
        "1. Update prediction_data to add a column, odds_ratio, of the odds ratios.\n",
        "2. Print the first five lines of prediction_data.\n"
      ]
    },
    {
      "cell_type": "code",
      "metadata": {
        "colab": {
          "base_uri": "https://localhost:8080/"
        },
        "id": "-ym_QC4JUMh_",
        "outputId": "66351654-a9e9-4c68-a6ce-19ea2bd77c07"
      },
      "source": [
        "# Update prediction data with odds_ratio\n",
        "prediction_data[\"odds_ratio\"] = prediction_data['has_churned'] / (1-prediction_data['has_churned'])\n",
        "\n",
        "# Print the head\n",
        "print(prediction_data.head())"
      ],
      "execution_count": 15,
      "outputs": [
        {
          "output_type": "stream",
          "name": "stdout",
          "text": [
            "   time_since_first_purchase  has_churned  most_likely_outcome  odds_ratio\n",
            "0                      -1.50     0.626448                  1.0    1.677003\n",
            "1                      -1.25     0.605470                  1.0    1.534661\n",
            "2                      -1.00     0.584096                  1.0    1.404400\n",
            "3                      -0.75     0.562401                  1.0    1.285197\n",
            "4                      -0.50     0.540465                  1.0    1.176111\n"
          ]
        }
      ]
    },
    {
      "cell_type": "markdown",
      "metadata": {
        "id": "MHGWXbsTURW8"
      },
      "source": [
        "1. Using prediction_data, draw a line plot of odds_ratio versus time_since_first_purchase.\n",
        "2. Some code for preparing the final plot has already been added."
      ]
    },
    {
      "cell_type": "code",
      "metadata": {
        "colab": {
          "base_uri": "https://localhost:8080/",
          "height": 280
        },
        "id": "B1ZQYLLOUQho",
        "outputId": "6a595064-683d-48b7-c6ad-ac58a4f41f01"
      },
      "source": [
        "# Update prediction data with odds_ratio\n",
        "prediction_data[\"odds_ratio\"] = prediction_data[\"has_churned\"] / (1 - prediction_data[\"has_churned\"])\n",
        "\n",
        "# Create a new figure\n",
        "fig = plt.figure()\n",
        "\n",
        "# Create a line plot of odds_ratio vs time_since_first_purchase\n",
        "sns.lineplot(x = 'time_since_first_purchase', y = 'odds_ratio', data = prediction_data)\n",
        "\n",
        "# Add a dotted horizontal line at odds_ratio = 1\n",
        "plt.axhline(y=1, linestyle=\"dotted\")\n",
        "\n",
        "# Show the plot\n",
        "plt.show()"
      ],
      "execution_count": 16,
      "outputs": [
        {
          "output_type": "display_data",
          "data": {
            "image/png": "[encoded data removed]",
            "text/plain": [
              "<Figure size 432x288 with 1 Axes>"
            ]
          },
          "metadata": {
            "needs_background": "light"
          }
        }
      ]
    },
    {
      "cell_type": "markdown",
      "metadata": {
        "id": "w07jv0GnUe2f"
      },
      "source": [
        "## Calculating the confusion matrix\n",
        "\n",
        "A confusion matrix (occasionally called a confusion table) is the basis of all performance metrics for models with a categorical response (such as a logistic regression). It contains the counts of each actual response-predicted response pair. In this case, where there are two possible responses (churn or not churn), there are four overall outcomes.\n",
        "\n",
        "* True positive: The customer churned and the model predicted they would.\n",
        "* False positive: The customer didn't churn, but the model predicted they would.\n",
        "* True negative: The customer didn't churn and the model predicted they wouldn't.\n",
        "* False negative: The customer churned, but the model predicted they wouldn't.\n",
        "\n",
        "Exercise :\n",
        "\n",
        "1. Get the actual responses by subsetting the has_churned column of the dataset. Assign to actual_response.\n",
        "2. Get the \"most likely\" predicted responses from the model. Assign to predicted_response.\n",
        "3. Create a DataFrame from actual_response and predicted_response. Assign to outcomes.\n",
        "4. Print outcomes as a table of counts, representing the confusion matrix. This has been done for you.\n"
      ]
    },
    {
      "cell_type": "code",
      "metadata": {
        "colab": {
          "base_uri": "https://localhost:8080/"
        },
        "id": "qaF6N81yUecs",
        "outputId": "f004a327-b918-4261-f627-c603ba153d0b"
      },
      "source": [
        "# Get the actual responses\n",
        "actual_response = churn['has_churned']\n",
        "\n",
        "# Get the predicted responses\n",
        "predicted_response = np.round(mdl_churn_vs_relationship.predict())\n",
        "\n",
        "# Create outcomes as a DataFrame of both Series\n",
        "outcomes = pd.DataFrame({'actual_response' : actual_response,\n",
        "                         'predicted_response' : predicted_response})\n",
        "\n",
        "# Print the outcomes\n",
        "print(outcomes.value_counts(sort = False))"
      ],
      "execution_count": 17,
      "outputs": [
        {
          "output_type": "stream",
          "name": "stdout",
          "text": [
            "actual_response  predicted_response\n",
            "0                0.0                   112\n",
            "                 1.0                    88\n",
            "1                0.0                    76\n",
            "                 1.0                   124\n",
            "dtype: int64\n"
          ]
        }
      ]
    },
    {
      "cell_type": "markdown",
      "metadata": {
        "id": "zdrrUVm8Uz5E"
      },
      "source": [
        "## Drawing a mosaic plot of the confusion matrix\n",
        "\n",
        "1. Import the mosaic() function from statsmodels.graphics.mosaicplot.\n",
        "2. Create conf_matrix using the .pred_table() method and print it.\n",
        "3. Draw a mosaic plot of the confusion matrix.\n",
        "\n",
        "**HINT!**\n",
        "\n",
        "To calculate the confusion matrix, you can call .pred_table() on the fitted model, mdl_churn_vs_relationship.\n",
        "\n"
      ]
    },
    {
      "cell_type": "code",
      "metadata": {
        "colab": {
          "base_uri": "https://localhost:8080/",
          "height": 304
        },
        "id": "GbwSl0JsU-Kp",
        "outputId": "1173c66a-3e24-4885-ea3e-eebbe6a4b998"
      },
      "source": [
        "# Import mosaic from statsmodels.graphics.mosaicplot\n",
        "from statsmodels.graphics.mosaicplot import mosaic\n",
        "\n",
        "# Calculate the confusion matrix conf_matrix\n",
        "conf_matrix = mdl_churn_vs_relationship.pred_table()\n",
        "\n",
        "# Print it\n",
        "print(conf_matrix)\n",
        "\n",
        "# Draw a mosaic plot of conf_matrix\n",
        "mosaic(conf_matrix)\n",
        "plt.show()"
      ],
      "execution_count": 18,
      "outputs": [
        {
          "output_type": "stream",
          "name": "stdout",
          "text": [
            "[[112.  88.]\n",
            " [ 76. 124.]]\n"
          ]
        },
        {
          "output_type": "display_data",
          "data": {
            "image/png": "[encoded data removed]",
            "text/plain": [
              "<Figure size 432x288 with 3 Axes>"
            ]
          },
          "metadata": {
            "needs_background": "light"
          }
        }
      ]
    },
    {
      "cell_type": "markdown",
      "metadata": {
        "id": "dl8hO7EVVEUL"
      },
      "source": [
        "## Measuring logistic model performance\n",
        "1. Extract the number of true positives (TP), true negatives (TN), false positives (FP), and false negatives (FN) from conf_matrix.\n",
        "2. Calculate the accuracy of the model.\n",
        "3. Calculate the sensitivity of the model.\n",
        "4. Calculate the specificity of the model."
      ]
    },
    {
      "cell_type": "code",
      "metadata": {
        "colab": {
          "base_uri": "https://localhost:8080/"
        },
        "id": "5_5jJwd4VNX7",
        "outputId": "e52241d8-f53a-48fb-957a-0c889893f36e"
      },
      "source": [
        "# Extract TN, TP, FN and FP from conf_matrix\n",
        "TN = conf_matrix[0,0]\n",
        "TP = conf_matrix[1,1]\n",
        "FN = conf_matrix[1,0]\n",
        "FP = conf_matrix[0,1]\n",
        "\n",
        "# Calculate and print the accuracy\n",
        "accuracy = (TN + TP) / (TN + TP + FN + FP)\n",
        "print(\"accuracy: \", accuracy)\n",
        "\n",
        "# Calculate and print the sensitivity\n",
        "sensitivity = TP / (FN + TP)\n",
        "print(\"sensitivity: \", sensitivity)\n",
        "\n",
        "# Calculate and print the specificity\n",
        "specificity = TN / (TN + FP)\n",
        "print(\"specificity: \", specificity)"
      ],
      "execution_count": 19,
      "outputs": [
        {
          "output_type": "stream",
          "name": "stdout",
          "text": [
            "accuracy:  0.59\n",
            "sensitivity:  0.62\n",
            "specificity:  0.56\n"
          ]
        }
      ]
    }
  ]
}