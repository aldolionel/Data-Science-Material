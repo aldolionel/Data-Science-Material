{
  "nbformat": 4,
  "nbformat_minor": 0,
  "metadata": {
    "colab": {
      "name": "Linear Regression.ipynb",
      "provenance": []
    },
    "kernelspec": {
      "name": "python3",
      "display_name": "Python 3"
    },
    "language_info": {
      "name": "python"
    }
  },
  "cells": [
    {
      "cell_type": "code",
      "metadata": {
        "id": "tqzpgaHNK1K1"
      },
      "source": [
        "import pandas as pd\n",
        "import numpy as np\n",
        "import matplotlib.pyplot as plt\n",
        "import seaborn as sns"
      ],
      "execution_count": 2,
      "outputs": []
    },
    {
      "cell_type": "code",
      "metadata": {
        "colab": {
          "resources": {
            "http://localhost:8080/nbextensions/google.colab/files.js": {
              "data": "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",
              "ok": true,
              "headers": [
                [
                  "content-type",
                  "application/javascript"
                ]
              ],
              "status": 200,
              "status_text": ""
            }
          },
          "base_uri": "https://localhost:8080/",
          "height": 73
        },
        "id": "gRRA3QHvevFD",
        "outputId": "96aa6ff1-1143-4a9f-e9ce-1ce9a226fe1c"
      },
      "source": [
        "from google.colab import files\n",
        "uploaded = files.upload()"
      ],
      "execution_count": 3,
      "outputs": [
        {
          "output_type": "display_data",
          "data": {
            "text/html": [
              "\n",
              "     <input type=\"file\" id=\"files-c0329dc1-9397-4413-8dcb-bcad1d4ad784\" name=\"files[]\" multiple disabled\n",
              "        style=\"border:none\" />\n",
              "     <output id=\"result-c0329dc1-9397-4413-8dcb-bcad1d4ad784\">\n",
              "      Upload widget is only available when the cell has been executed in the\n",
              "      current browser session. Please rerun this cell to enable.\n",
              "      </output>\n",
              "      <script src=\"/nbextensions/google.colab/files.js\"></script> "
            ],
            "text/plain": [
              "<IPython.core.display.HTML object>"
            ]
          },
          "metadata": {
            "tags": []
          }
        },
        {
          "output_type": "stream",
          "text": [
            "Saving gm_2008_region.csv to gm_2008_region.csv\n"
          ],
          "name": "stdout"
        }
      ]
    },
    {
      "cell_type": "code",
      "metadata": {
        "id": "0TOABjYMeuI9"
      },
      "source": [
        "# Read the file 'gapminder.csv' into a DataFrame df using the read_csv() function.\n",
        "# Read the CSV file into a DataFrame: df\n",
        "df = ____\n",
        "\n",
        "# Create array X for the 'fertility' feature and array y for the 'life' target variable.\n",
        "y = ____\n",
        "X = ____\n",
        "\n",
        "# Print the dimensions of y and X before reshaping\n",
        "print(\"Dimensions of y before reshaping: \", y.shape)\n",
        "print(\"Dimensions of X before reshaping: \", X.shape)\n",
        "\n",
        "# Reshape the arrays by using the .reshape() method and passing in -1 and 1.\n",
        "y_reshaped = ____\n",
        "X_reshaped = ____\n",
        "\n",
        "# Print the dimensions of y_reshaped and X_reshaped\n",
        "print(\"Dimensions of y after reshaping: \", y_reshaped.shape)\n",
        "print(\"Dimensions of X after reshaping: \", X_reshaped.shape)"
      ],
      "execution_count": null,
      "outputs": []
    },
    {
      "cell_type": "code",
      "metadata": {
        "colab": {
          "base_uri": "https://localhost:8080/"
        },
        "id": "NJ3mNrH-fe5C",
        "outputId": "4ac21e02-2b45-4c6c-ed8d-a8fca93697a0"
      },
      "source": [
        "# Import numpy and pandas\n",
        "import numpy as np\n",
        "import pandas as pd\n",
        "\n",
        "# Read the CSV file into a DataFrame: df\n",
        "df = pd.read_csv('gm_2008_region.csv')\n",
        "\n",
        "# Create arrays for features and target variable\n",
        "y = df['life'].values\n",
        "X = df['fertility'].values\n",
        "\n",
        "# Print the dimensions of X and y before reshaping\n",
        "print(\"Dimensions of y before reshaping: {}\".format(y.shape))\n",
        "print(\"Dimensions of X before reshaping: {}\".format(X.shape))\n",
        "\n",
        "# Reshape X and y\n",
        "y_reshaped = y.reshape(-1, 1)\n",
        "X_reshaped = X.reshape(-1, 1)\n",
        "\n",
        "# Print the dimensions of X and y after reshaping\n",
        "print(\"Dimensions of y after reshaping: \", y_reshaped.shape)\n",
        "print(\"Dimensions of X after reshaping: \", X_reshaped.shape)"
      ],
      "execution_count": 4,
      "outputs": [
        {
          "output_type": "stream",
          "text": [
            "Dimensions of y before reshaping: (139,)\n",
            "Dimensions of X before reshaping: (139,)\n",
            "Dimensions of y after reshaping:  (139, 1)\n",
            "Dimensions of X after reshaping:  (139, 1)\n"
          ],
          "name": "stdout"
        }
      ]
    },
    {
      "cell_type": "markdown",
      "metadata": {
        "id": "t_XOzAfaf5jM"
      },
      "source": [
        "## Fit & predict for regression\n",
        "\n",
        "In this exercise, you will use the 'fertility' feature of the Gapminder dataset. Since the goal is to predict life expectancy, the target variable here is 'life'."
      ]
    },
    {
      "cell_type": "code",
      "metadata": {
        "id": "R59jn00NgCtt"
      },
      "source": [
        "# Import LinearRegression from sklearn.linear_model.\n",
        "____\n",
        "\n",
        "# Create a LinearRegression regressor called reg.\n",
        "# Use the function LinearRegression() to create the regressor.\n",
        "reg = ____\n",
        "\n",
        "# Set up the prediction space to range from the minimum to the maximum of X_fertility. This has been done for you.\n",
        "prediction_space = np.linspace(min(X_fertility), max(X_fertility)).reshape(-1,1)\n",
        "\n",
        "# Fit the regressor to the data (X_fertility and y) and compute its predictions using the .predict() method and the prediction_space array.\n",
        "# Use the .fit() method on reg with X_fertility and y as arguments to fit the model.\n",
        "____\n",
        "\n",
        "# Compute predictions over the prediction space: y_pred\n",
        "# Use the .predict() method on reg with prediction_space as the argument to compute the predictions.\n",
        "y_pred = ____\n",
        "\n",
        "# Compute and print the R^2 score using the .score() method.\n",
        "print(reg.score(____, ____))\n",
        "\n",
        "# Plot regression line\n",
        "plt.plot(prediction_space, y_pred, color='black', linewidth=3)\n",
        "plt.show()\n"
      ],
      "execution_count": null,
      "outputs": []
    },
    {
      "cell_type": "code",
      "metadata": {
        "colab": {
          "base_uri": "https://localhost:8080/"
        },
        "id": "Yn_3nHamhhE2",
        "outputId": "701f2ae9-87d6-4531-90b4-52e05f270f0c"
      },
      "source": [
        "X_fertility = X_reshaped.copy()\n",
        "X_fertility"
      ],
      "execution_count": 5,
      "outputs": [
        {
          "output_type": "execute_result",
          "data": {
            "text/plain": [
              "array([[2.73],\n",
              "       [6.43],\n",
              "       [2.24],\n",
              "       [1.4 ],\n",
              "       [1.96],\n",
              "       [1.41],\n",
              "       [1.99],\n",
              "       [1.89],\n",
              "       [2.38],\n",
              "       [1.83],\n",
              "       [1.42],\n",
              "       [1.82],\n",
              "       [2.91],\n",
              "       [5.27],\n",
              "       [2.51],\n",
              "       [3.48],\n",
              "       [2.86],\n",
              "       [1.9 ],\n",
              "       [1.43],\n",
              "       [6.04],\n",
              "       [6.48],\n",
              "       [3.05],\n",
              "       [5.17],\n",
              "       [1.68],\n",
              "       [6.81],\n",
              "       [1.89],\n",
              "       [2.43],\n",
              "       [5.05],\n",
              "       [5.1 ],\n",
              "       [1.91],\n",
              "       [4.91],\n",
              "       [1.43],\n",
              "       [1.5 ],\n",
              "       [1.89],\n",
              "       [3.76],\n",
              "       [2.73],\n",
              "       [2.95],\n",
              "       [2.32],\n",
              "       [5.31],\n",
              "       [5.16],\n",
              "       [1.62],\n",
              "       [2.74],\n",
              "       [1.85],\n",
              "       [1.97],\n",
              "       [4.28],\n",
              "       [5.8 ],\n",
              "       [1.79],\n",
              "       [1.37],\n",
              "       [4.19],\n",
              "       [1.46],\n",
              "       [4.12],\n",
              "       [5.34],\n",
              "       [5.25],\n",
              "       [2.74],\n",
              "       [3.5 ],\n",
              "       [3.27],\n",
              "       [1.33],\n",
              "       [2.12],\n",
              "       [2.64],\n",
              "       [2.48],\n",
              "       [1.88],\n",
              "       [2.  ],\n",
              "       [2.92],\n",
              "       [1.39],\n",
              "       [2.39],\n",
              "       [1.34],\n",
              "       [2.51],\n",
              "       [4.76],\n",
              "       [1.5 ],\n",
              "       [1.57],\n",
              "       [3.34],\n",
              "       [5.19],\n",
              "       [1.42],\n",
              "       [1.63],\n",
              "       [4.79],\n",
              "       [5.78],\n",
              "       [2.05],\n",
              "       [2.38],\n",
              "       [6.82],\n",
              "       [1.38],\n",
              "       [4.94],\n",
              "       [1.58],\n",
              "       [2.35],\n",
              "       [1.49],\n",
              "       [2.37],\n",
              "       [2.44],\n",
              "       [5.54],\n",
              "       [2.05],\n",
              "       [2.9 ],\n",
              "       [1.77],\n",
              "       [2.12],\n",
              "       [2.72],\n",
              "       [7.59],\n",
              "       [6.02],\n",
              "       [1.96],\n",
              "       [2.89],\n",
              "       [3.58],\n",
              "       [2.61],\n",
              "       [4.07],\n",
              "       [3.06],\n",
              "       [2.58],\n",
              "       [3.26],\n",
              "       [1.33],\n",
              "       [1.36],\n",
              "       [2.2 ],\n",
              "       [1.34],\n",
              "       [1.49],\n",
              "       [5.06],\n",
              "       [5.11],\n",
              "       [1.41],\n",
              "       [5.13],\n",
              "       [1.28],\n",
              "       [1.31],\n",
              "       [1.43],\n",
              "       [7.06],\n",
              "       [2.54],\n",
              "       [1.42],\n",
              "       [2.32],\n",
              "       [4.79],\n",
              "       [2.41],\n",
              "       [3.7 ],\n",
              "       [1.92],\n",
              "       [1.47],\n",
              "       [3.7 ],\n",
              "       [5.54],\n",
              "       [1.48],\n",
              "       [4.88],\n",
              "       [1.8 ],\n",
              "       [2.04],\n",
              "       [2.15],\n",
              "       [6.34],\n",
              "       [1.38],\n",
              "       [1.87],\n",
              "       [2.07],\n",
              "       [2.11],\n",
              "       [2.46],\n",
              "       [1.86],\n",
              "       [5.88],\n",
              "       [3.85]])"
            ]
          },
          "metadata": {
            "tags": []
          },
          "execution_count": 5
        }
      ]
    },
    {
      "cell_type": "code",
      "metadata": {
        "colab": {
          "base_uri": "https://localhost:8080/",
          "height": 297
        },
        "id": "4eKMUfVrgf55",
        "outputId": "71fb9e0e-bb7f-4664-9a04-e80de7b89411"
      },
      "source": [
        "# Import LinearRegression\n",
        "from sklearn.linear_model import LinearRegression\n",
        "\n",
        "# Create the regressor: reg\n",
        "reg = LinearRegression()\n",
        "\n",
        "# Create the prediction space\n",
        "prediction_space = np.linspace(min(X_fertility), max(X_fertility)).reshape(-1,1)\n",
        "\n",
        "# Fit the model to the data\n",
        "reg.fit(X_fertility, y)\n",
        "\n",
        "# Compute predictions over the prediction space: y_pred\n",
        "y_pred = reg.predict(prediction_space)\n",
        "\n",
        "# Print R^2 \n",
        "print(reg.score(X_fertility, y))\n",
        "\n",
        "# Plot regression line\n",
        "sns.scatterplot(x = 'fertility', y = 'life', data = df)\n",
        "plt.plot(prediction_space, y_pred, color='black', linewidth=3)\n",
        "plt.show()\n"
      ],
      "execution_count": 6,
      "outputs": [
        {
          "output_type": "stream",
          "text": [
            "0.6192442167740035\n"
          ],
          "name": "stdout"
        },
        {
          "output_type": "display_data",
          "data": {
            "image/png": "[encoded data removed]",
            "text/plain": [
              "<Figure size 432x288 with 1 Axes>"
            ]
          },
          "metadata": {
            "tags": [],
            "needs_background": "light"
          }
        }
      ]
    },
    {
      "cell_type": "markdown",
      "metadata": {
        "id": "nyPagbSriznB"
      },
      "source": [
        "## Train/test split for regression\n",
        "\n",
        "Train and test sets are vital to ensure that your supervised learning model is able to generalize well to new data. This was true for classification models, and is equally true for linear regression models.\n",
        "\n",
        "In this exercise, you will split the Gapminder dataset into training and testing sets, and then fit and predict a linear regression over all features."
      ]
    },
    {
      "cell_type": "code",
      "metadata": {
        "id": "l6gdW0Aqi5nv"
      },
      "source": [
        "# Import LinearRegression from sklearn.linear_model, mean_squared_error from sklearn.metrics, and train_test_split from sklearn.model_selection.\n",
        "____\n",
        "____\n",
        "____\n",
        "\n",
        "# Using X and y, create training and test sets such that 30% is used for testing and 70% for training. Use a random state of 42.\n",
        "# Use train_test_split() to create training and test sets. Pass in the arguments X and y, and specify the test set size using test_size (or the training set size using train_size) and the random state using random_state.\n",
        "X_train, X_test, y_train, y_test = ____(____, ____, test_size = ____, random_state=____)\n",
        "\n",
        "# Create a linear regression regressor called reg_all, fit it to the training set, and evaluate it on the test set.\n",
        "# To create the regressor, use LinearRegression(). Then use .fit() to fit it to X_train and y_train, and .predict() to evaluate it over X_test.\n",
        "reg_all = ____\n",
        "\n",
        "# Fit the regressor to the training data\n",
        "____\n",
        "\n",
        "# Predict on the test data: y_pred\n",
        "y_pred = ____\n",
        "\n",
        "# Compute and print the RMSE. To do this, first compute the Mean Squared Error using the mean_squared_error() function with the arguments y_test and y_pred, and then take its square root using np.sqrt().\n",
        "print(\"R^2: {}\".format(reg_all.score(X_test, y_test)))\n",
        "rmse = np.sqrt(____)\n",
        "print(\"Root Mean Squared Error: {}\".format(rmse))\n"
      ],
      "execution_count": null,
      "outputs": []
    },
    {
      "cell_type": "code",
      "metadata": {
        "colab": {
          "base_uri": "https://localhost:8080/"
        },
        "id": "YmK42pUGjd5N",
        "outputId": "fcdceac4-0e65-442c-a9e9-cc73ec8bc804"
      },
      "source": [
        "# Import necessary modules\n",
        "from sklearn.linear_model import LinearRegression\n",
        "from sklearn.metrics import mean_squared_error\n",
        "from sklearn.model_selection import train_test_split\n",
        "\n",
        "# Create training and test sets\n",
        "X_train, X_test, y_train, y_test = train_test_split(X_reshaped, y_reshaped, test_size = 0.3, random_state=42)\n",
        "\n",
        "# Create the regressor: reg_all\n",
        "reg_all = LinearRegression()\n",
        "\n",
        "# Fit the regressor to the training data\n",
        "reg_all.fit(X_train, y_train)\n",
        "\n",
        "# Predict on the test data: y_pred\n",
        "y_pred = reg_all.predict(X_test)\n",
        "\n",
        "# Compute and print R^2 and RMSE\n",
        "print(\"R^2: {}\".format(reg_all.score(X_test, y_test)))\n",
        "rmse = np.sqrt(mean_squared_error(y_test, y_pred))\n",
        "print(\"Root Mean Squared Error: {}\".format(rmse))\n"
      ],
      "execution_count": null,
      "outputs": [
        {
          "output_type": "stream",
          "text": [
            "R^2: 0.7298987360907494\n",
            "Root Mean Squared Error: 4.194027914110243\n"
          ],
          "name": "stdout"
        }
      ]
    },
    {
      "cell_type": "markdown",
      "metadata": {
        "id": "xvSSl0NOjzqj"
      },
      "source": [
        "## 5-fold cross-validation\n",
        "\n",
        "Cross-validation is a vital step in evaluating a model. It maximizes the amount of data that is used to train the model, as during the course of training, the model is not only trained, but also tested on all of the available data.\n",
        "\n",
        "In this exercise, you will practice 5-fold cross validation on the Gapminder data. By default, scikit-learn's cross_val_score() function uses  as the metric of choice for regression. Since you are performing 5-fold cross-validation, the function will return 5 scores. Your job is to compute these 5 scores and then take their average."
      ]
    },
    {
      "cell_type": "code",
      "metadata": {
        "id": "VACmj5Hqj_IB"
      },
      "source": [
        "# Import LinearRegression from sklearn.linear_model and cross_val_score from sklearn.model_selection.\n",
        "____\n",
        "____\n",
        "\n",
        "# Create a linear regression object: reg\n",
        "reg = ____\n",
        "\n",
        "# Use the cross_val_score() function to perform 5-fold cross-validation on X and y.\n",
        "# Inside cross_val_score(), specify the arguments reg, X, y, and cv=5.\n",
        "cv_scores = ____\n",
        "\n",
        "# Compute and print the average cross-validation score. You can use NumPy's mean() function to compute the average.\n",
        "# Pass cv_scores to the first function, and np.mean(cv_scores) to the format() function of the second print() function\n",
        "print(____)\n",
        "\n",
        "print(\"Average 5-Fold CV Score: {}\".format(____(____)))\n"
      ],
      "execution_count": null,
      "outputs": []
    },
    {
      "cell_type": "code",
      "metadata": {
        "id": "CHkp36tYkT3L"
      },
      "source": [
        "X= X_reshaped.copy()\n",
        "y=y_reshaped.copy()"
      ],
      "execution_count": 7,
      "outputs": []
    },
    {
      "cell_type": "code",
      "metadata": {
        "colab": {
          "base_uri": "https://localhost:8080/"
        },
        "id": "sXbzZe-9kRv-",
        "outputId": "51720de7-c02e-4e57-8db0-a8ac65971a72"
      },
      "source": [
        "# Import the necessary modules\n",
        "from sklearn.linear_model import LinearRegression\n",
        "from sklearn.model_selection import cross_val_score\n",
        "\n",
        "# Create a linear regression object: reg\n",
        "reg = LinearRegression()\n",
        "\n",
        "# Compute 5-fold cross-validation scores: cv_scores\n",
        "cv_scores = cross_val_score(reg, X, y, cv=5)\n",
        "\n",
        "# Print the 5-fold cross-validation scores\n",
        "print(cv_scores)\n",
        "\n",
        "# Print the average 5-fold cross-validation score\n",
        "print(\"Average 5-Fold CV Score: {}\".format(np.mean(cv_scores)))\n"
      ],
      "execution_count": 8,
      "outputs": [
        {
          "output_type": "stream",
          "text": [
            "[0.71001079 0.75007717 0.55271526 0.547501   0.52410561]\n",
            "Average 5-Fold CV Score: 0.6168819644425119\n"
          ],
          "name": "stdout"
        }
      ]
    },
    {
      "cell_type": "markdown",
      "metadata": {
        "id": "6huY6cNMkljj"
      },
      "source": [
        "## K-Fold CV comparison\n",
        "\n",
        "Cross validation is essential but do not forget that the more folds you use, the more computationally expensive cross-validation becomes. In this exercise, you will explore this for yourself. Your job is to perform 3-fold cross-validation and then 10-fold cross-validation on the Gapminder dataset."
      ]
    },
    {
      "cell_type": "code",
      "metadata": {
        "id": "oAqN1PYOkqJd"
      },
      "source": [
        "# Import LinearRegression from sklearn.linear_model and cross_val_score from sklearn.model_selection.\n",
        "____\n",
        "____\n",
        "\n",
        "# Create a linear regression object: reg\n",
        "reg = ____\n",
        "\n",
        "# Perform 3-fold CV and then 10-fold CV. Compare the resulting mean scores.\n",
        "# Use the cross_val_score() function with reg, X, and y as arguments. For 3-fold CV, specify cv=3, and for 10-fold CV, specify cv=10.\n",
        "cvscores_3 = ____\n",
        "print(np.mean(cvscores_3))\n",
        "\n",
        "# Perform 10-fold CV\n",
        "cvscores_10 = ____\n",
        "print(np.mean(cvscores_10))\n"
      ],
      "execution_count": null,
      "outputs": []
    },
    {
      "cell_type": "code",
      "metadata": {
        "colab": {
          "base_uri": "https://localhost:8080/"
        },
        "id": "ycWEIDTPk2Bi",
        "outputId": "73c02a3e-568f-4303-810c-ab5b2a8bf359"
      },
      "source": [
        "# Import necessary modules\n",
        "from sklearn.linear_model import LinearRegression\n",
        "from sklearn.model_selection import cross_val_score\n",
        "\n",
        "# Create a linear regression object: reg\n",
        "reg = LinearRegression()\n",
        "\n",
        "# Perform 3-fold CV\n",
        "cvscores_3 = cross_val_score(reg, X, y, cv = 3)\n",
        "print(np.mean(cvscores_3))\n",
        "\n",
        "# Perform 10-fold CV\n",
        "cvscores_10 = cross_val_score(reg, X, y, cv = 10)\n",
        "print(np.mean(cvscores_10))\n"
      ],
      "execution_count": 9,
      "outputs": [
        {
          "output_type": "stream",
          "text": [
            "0.6294715754653507\n",
            "0.5883937741571185\n"
          ],
          "name": "stdout"
        }
      ]
    },
    {
      "cell_type": "markdown",
      "metadata": {
        "id": "tQX6hJgjlN6W"
      },
      "source": [
        "## Regularization I: Lasso\n",
        "\n",
        "In this exercise, you will fit a lasso regression to the Gapminder data you have been working with and plot the coefficients. You will find that the coefficients of some features are shrunk to 0, with only the most important ones remaining."
      ]
    },
    {
      "cell_type": "code",
      "metadata": {
        "id": "2qk3Gaa4lUM4"
      },
      "source": [
        "# Import Lasso\n",
        "from sklearn.linear_model import Lasso\n",
        "\n",
        "# Instantiate a Lasso regressor with an alpha of 0.4 and specify normalize=True.\n",
        "# Use the Lasso() function with alpha=0.4 and normalize=True to instantiate the regressor.\n",
        "lasso = ____\n",
        "\n",
        "# Fit the regressor to the data and compute the coefficients using the coef_ attribute.\n",
        "# Use the .fit() method of the regressor on X and y to fit it to the data.\n",
        "____\n",
        "\n",
        "# Compute and print the coefficients\n",
        "# To compute the coefficients, access the .coef_ attribute of the lasso regressor.\n",
        "lasso_coef = ____\n",
        "print(lasso_coef)\n",
        "\n",
        "# Plot the coefficients\n",
        "plt.plot(range(len(df_columns)), lasso_coef)\n",
        "plt.xticks(range(len(df_columns)), df_columns.values, rotation=60)\n",
        "plt.margins(0.02)\n",
        "plt.show()\n"
      ],
      "execution_count": null,
      "outputs": []
    },
    {
      "cell_type": "code",
      "metadata": {
        "colab": {
          "base_uri": "https://localhost:8080/"
        },
        "id": "051Yyp2SmfIS",
        "outputId": "dddb02a5-24eb-4e88-aac0-c54a14f78f51"
      },
      "source": [
        "df_columns = df.columns\n",
        "df_columns"
      ],
      "execution_count": 10,
      "outputs": [
        {
          "output_type": "execute_result",
          "data": {
            "text/plain": [
              "Index(['population', 'fertility', 'HIV', 'CO2', 'BMI_male', 'GDP',\n",
              "       'BMI_female', 'life', 'child_mortality', 'Region'],\n",
              "      dtype='object')"
            ]
          },
          "metadata": {
            "tags": []
          },
          "execution_count": 10
        }
      ]
    },
    {
      "cell_type": "code",
      "metadata": {
        "colab": {
          "base_uri": "https://localhost:8080/"
        },
        "id": "5U-f5ozGnJiu",
        "outputId": "99c4315e-6381-4c00-ed74-8fb7995e694b"
      },
      "source": [
        "# Create arrays for features and target variable\n",
        "y = df['life'].values\n",
        "X = df[['population', 'fertility', 'HIV', 'CO2', 'BMI_male', 'GDP',\n",
        "       'BMI_female', 'child_mortality']].values\n",
        "\n",
        "# Print the dimensions of X and y before reshaping\n",
        "print(\"Dimensions of y before reshaping: {}\".format(y.shape))\n",
        "print(\"Dimensions of X before reshaping: {}\".format(X.shape))\n",
        "\n",
        "# Reshape X and y\n",
        "y_reshaped = y.reshape(-1, 1)\n",
        "X_reshaped = X.reshape(-1, 1)\n",
        "\n",
        "# Print the dimensions of X and y after reshaping\n",
        "print(\"Dimensions of y after reshaping: \", y_reshaped.shape)\n",
        "print(\"Dimensions of X after reshaping: \", X_reshaped.shape)"
      ],
      "execution_count": 11,
      "outputs": [
        {
          "output_type": "stream",
          "text": [
            "Dimensions of y before reshaping: (139,)\n",
            "Dimensions of X before reshaping: (139, 8)\n",
            "Dimensions of y after reshaping:  (139, 1)\n",
            "Dimensions of X after reshaping:  (1112, 1)\n"
          ],
          "name": "stdout"
        }
      ]
    },
    {
      "cell_type": "code",
      "metadata": {
        "colab": {
          "base_uri": "https://localhost:8080/"
        },
        "id": "_dfcPHaYoc91",
        "outputId": "19ae5f2f-043e-4a0f-d848-0380da7598fa"
      },
      "source": [
        "X"
      ],
      "execution_count": 12,
      "outputs": [
        {
          "output_type": "execute_result",
          "data": {
            "text/plain": [
              "array([[3.4811059e+07, 2.7300000e+00, 1.0000000e-01, ..., 1.2314000e+04,\n",
              "        1.2990490e+02, 2.9500000e+01],\n",
              "       [1.9842251e+07, 6.4300000e+00, 2.0000000e+00, ..., 7.1030000e+03,\n",
              "        1.3012470e+02, 1.9200000e+02],\n",
              "       [4.0381860e+07, 2.2400000e+00, 5.0000000e-01, ..., 1.4646000e+04,\n",
              "        1.1889150e+02, 1.5400000e+01],\n",
              "       ...,\n",
              "       [8.6589342e+07, 1.8600000e+00, 4.0000000e-01, ..., 4.0850000e+03,\n",
              "        1.2193670e+02, 2.6200000e+01],\n",
              "       [1.3114579e+07, 5.8800000e+00, 1.3600000e+01, ..., 3.0390000e+03,\n",
              "        1.3244930e+02, 9.4900000e+01],\n",
              "       [1.3495462e+07, 3.8500000e+00, 1.5100000e+01, ..., 1.2860000e+03,\n",
              "        1.3197450e+02, 9.8300000e+01]])"
            ]
          },
          "metadata": {
            "tags": []
          },
          "execution_count": 12
        }
      ]
    },
    {
      "cell_type": "code",
      "metadata": {
        "id": "p7rvghtUoglJ"
      },
      "source": [
        "y=y_reshaped.copy()"
      ],
      "execution_count": 13,
      "outputs": []
    },
    {
      "cell_type": "code",
      "metadata": {
        "colab": {
          "base_uri": "https://localhost:8080/"
        },
        "id": "8-S20sRtoumr",
        "outputId": "4ee34537-db5a-4c5d-b2b4-7d2500493ea3"
      },
      "source": [
        "df.drop(['life', 'Region'], axis=1, inplace=True)\n",
        "df_columns = df.columns\n",
        "df_columns"
      ],
      "execution_count": 14,
      "outputs": [
        {
          "output_type": "execute_result",
          "data": {
            "text/plain": [
              "Index(['population', 'fertility', 'HIV', 'CO2', 'BMI_male', 'GDP',\n",
              "       'BMI_female', 'child_mortality'],\n",
              "      dtype='object')"
            ]
          },
          "metadata": {
            "tags": []
          },
          "execution_count": 14
        }
      ]
    },
    {
      "cell_type": "code",
      "metadata": {
        "colab": {
          "base_uri": "https://localhost:8080/",
          "height": 360
        },
        "id": "peeHHEuolpEt",
        "outputId": "9d1ae408-90e6-4be3-dbdf-f2d5e88c2261"
      },
      "source": [
        "# Import Lasso\n",
        "from sklearn.linear_model import Lasso\n",
        "\n",
        "# Instantiate a lasso regressor: lasso\n",
        "lasso = Lasso(alpha=0.4, normalize=True)\n",
        "\n",
        "# Fit the regressor to the data\n",
        "lasso.fit(X, y)\n",
        "\n",
        "# Compute and print the coefficients\n",
        "lasso_coef = lasso.coef_\n",
        "print(lasso_coef)\n",
        "\n",
        "# Plot the coefficients\n",
        "plt.plot(range(len(df_columns)), lasso_coef)\n",
        "plt.xticks(range(len(df_columns)), df_columns.values, rotation=60)\n",
        "plt.margins(0.02)\n",
        "plt.show()\n"
      ],
      "execution_count": 15,
      "outputs": [
        {
          "output_type": "stream",
          "text": [
            "[-0.         -0.         -0.          0.          0.          0.\n",
            " -0.         -0.07087587]\n"
          ],
          "name": "stdout"
        },
        {
          "output_type": "display_data",
          "data": {
            "image/png": "[encoded data removed]",
            "text/plain": [
              "<Figure size 432x288 with 1 Axes>"
            ]
          },
          "metadata": {
            "tags": [],
            "needs_background": "light"
          }
        }
      ]
    },
    {
      "cell_type": "markdown",
      "metadata": {
        "id": "-E70N2A2A-yx"
      },
      "source": [
        "## Ridge\n",
        "\n",
        "Lasso is great for feature selection, but when building regression models, Ridge regression should be your first choice."
      ]
    },
    {
      "cell_type": "code",
      "metadata": {
        "id": "haH8VNmcBEhT"
      },
      "source": [
        "# Import necessary modules\n",
        "from sklearn.linear_model import Ridge\n",
        "from sklearn.model_selection import cross_val_score\n",
        "\n",
        "# Setup the array of alphas and lists to store scores\n",
        "alpha_space = np.logspace(-4, 0, 50)\n",
        "ridge_scores = []\n",
        "ridge_scores_std = []\n",
        "\n",
        "# Create a ridge regressor: ridge\n",
        "# Use Ridge() to create the ridge regressor, and specify normalize=True.\n",
        "ridge = ____\n",
        "\n",
        "# Compute scores over range of alphas\n",
        "for alpha in alpha_space:\n",
        "\n",
        "    # Specify the alpha value to use: ridge.alpha\n",
        "    ridge.alpha = ____\n",
        "    \n",
        "    # Perform 10-fold cross-validation on the regressor with the specified alpha. The data is available in the arrays X and y.\n",
        "    # Use the cross_val_score() function with ridge, X, y, and cv=10 as arguments.\n",
        "    ridge_cv_scores = ____\n",
        "    \n",
        "    # Append the average and the standard deviation of the computed cross-validated scores. NumPy has been pre-imported for you as np.\n",
        "    # Use the np.mean() and np.std() functions to compute the mean and standard deviation of ridge_cv_scores.\n",
        "    ridge_scores.append(____(____))\n",
        "    \n",
        "    # Append the std of ridge_cv_scores to ridge_scores_std\n",
        "    ridge_scores_std.append(____(____))\n"
      ],
      "execution_count": null,
      "outputs": []
    },
    {
      "cell_type": "code",
      "metadata": {
        "colab": {
          "base_uri": "https://localhost:8080/",
          "height": 681
        },
        "id": "6b6a4vASBuw3",
        "outputId": "819e8942-64ac-443b-d0f0-ba6102ad66fb"
      },
      "source": [
        "# Import necessary modules\n",
        "from sklearn.linear_model import Ridge\n",
        "from sklearn.model_selection import cross_val_score\n",
        "\n",
        "# Setup the array of alphas and lists to store scores\n",
        "alpha_space = [100000, 10000, 1000, 100, 10, 1, 0.1, 0.001]\n",
        "ridge_scores = []\n",
        "ridge_scores_std = []\n",
        "\n",
        "# Create a ridge regressor: ridge\n",
        "ridge = Ridge(normalize=True)\n",
        "\n",
        "# Compute scores over range of alphas\n",
        "for alpha in alpha_space:\n",
        "\n",
        "    # Specify the alpha value to use: ridge.alpha\n",
        "    ridge.alpha = alpha\n",
        "    \n",
        "    # Perform 10-fold CV: ridge_cv_scores\n",
        "    ridge_cv_scores = cross_val_score(ridge, X, y, cv=10)\n",
        "    \n",
        "    # Append the mean of ridge_cv_scores to ridge_scores\n",
        "    ridge_scores.append(np.mean(ridge_cv_scores))\n",
        "    \n",
        "    # Append the std of ridge_cv_scores to ridge_scores_std\n",
        "    ridge_scores_std.append(np.std(ridge_cv_scores))\n",
        "\n",
        "# Display the plot\n",
        "length = range(len(alpha_space))\n",
        "\n",
        "plt.figure(figsize = (20,10))\n",
        "sns.lineplot(length,ridge_scores)\n",
        "sns.lineplot(length,ridge_scores_std)\n",
        "plt.legend(['accuracy','standard deviation'])\n",
        "plt.xticks(length,alpha_space)\n",
        "plt.show()"
      ],
      "execution_count": 18,
      "outputs": [
        {
          "output_type": "stream",
          "text": [
            "/usr/local/lib/python3.7/dist-packages/seaborn/_decorators.py:43: FutureWarning: Pass the following variables as keyword args: x, y. From version 0.12, the only valid positional argument will be `data`, and passing other arguments without an explicit keyword will result in an error or misinterpretation.\n",
            "  FutureWarning\n",
            "/usr/local/lib/python3.7/dist-packages/seaborn/_decorators.py:43: FutureWarning: Pass the following variables as keyword args: x, y. From version 0.12, the only valid positional argument will be `data`, and passing other arguments without an explicit keyword will result in an error or misinterpretation.\n",
            "  FutureWarning\n"
          ],
          "name": "stderr"
        },
        {
          "output_type": "display_data",
          "data": {
            "image/png": "[encoded data removed]",
            "text/plain": [
              "<Figure size 1440x720 with 1 Axes>"
            ]
          },
          "metadata": {
            "tags": [],
            "needs_background": "light"
          }
        }
      ]
    }
  ]
}